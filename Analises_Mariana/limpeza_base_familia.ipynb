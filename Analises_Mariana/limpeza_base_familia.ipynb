{
 "cells": [
  {
   "cell_type": "code",
   "execution_count": 1,
   "id": "73d8cbf6-fab9-45eb-a8a4-2bd8c8e7aee7",
   "metadata": {
    "tags": []
   },
   "outputs": [],
   "source": [
    "import pandas as pd"
   ]
  },
  {
   "cell_type": "code",
   "execution_count": 3,
   "id": "edbb8f25-3e06-421a-9d9a-9905db23b66f",
   "metadata": {
    "tags": []
   },
   "outputs": [],
   "source": [
    "# Load the datasets\n",
    "df_fam_amostra_100mil = pd.read_csv('../Data/df_fam_amostra_100mil.csv', sep=',', dtype={23: 'str'})"
   ]
  },
  {
   "cell_type": "code",
   "execution_count": 4,
   "id": "86ba88fd-2e2d-460c-af35-652a9010c878",
   "metadata": {
    "tags": []
   },
   "outputs": [
    {
     "data": {
      "text/html": [
       "<div>\n",
       "<style scoped>\n",
       "    .dataframe tbody tr th:only-of-type {\n",
       "        vertical-align: middle;\n",
       "    }\n",
       "\n",
       "    .dataframe tbody tr th {\n",
       "        vertical-align: top;\n",
       "    }\n",
       "\n",
       "    .dataframe thead th {\n",
       "        text-align: right;\n",
       "    }\n",
       "</style>\n",
       "<table border=\"1\" class=\"dataframe\">\n",
       "  <thead>\n",
       "    <tr style=\"text-align: right;\">\n",
       "      <th></th>\n",
       "      <th>cd_ibge</th>\n",
       "      <th>uf_ibge</th>\n",
       "      <th>regiao_ibge</th>\n",
       "      <th>estrato</th>\n",
       "      <th>classf</th>\n",
       "      <th>id_familia</th>\n",
       "      <th>cod_local_domic_fam</th>\n",
       "      <th>cod_especie_domic_fam</th>\n",
       "      <th>qtd_comodos_domic_fam</th>\n",
       "      <th>qtd_comodos_dormitorio_fam</th>\n",
       "      <th>...</th>\n",
       "      <th>cod_iluminacao_domic_fam</th>\n",
       "      <th>cod_calcamento_domic_fam</th>\n",
       "      <th>cod_familia_indigena_fam</th>\n",
       "      <th>ind_familia_quilombola_fam</th>\n",
       "      <th>ind_parc_mds_fam</th>\n",
       "      <th>qtde_pessoas</th>\n",
       "      <th>peso.fam</th>\n",
       "      <th>dias_cadastramento</th>\n",
       "      <th>dias_atualizacao</th>\n",
       "      <th>classe_renda</th>\n",
       "    </tr>\n",
       "  </thead>\n",
       "  <tbody>\n",
       "    <tr>\n",
       "      <th>0</th>\n",
       "      <td>4212908</td>\n",
       "      <td>42</td>\n",
       "      <td>5</td>\n",
       "      <td>1</td>\n",
       "      <td>2</td>\n",
       "      <td>268503</td>\n",
       "      <td>1.0</td>\n",
       "      <td>1.0</td>\n",
       "      <td>5.0</td>\n",
       "      <td>2.0</td>\n",
       "      <td>...</td>\n",
       "      <td>1.0</td>\n",
       "      <td>1.0</td>\n",
       "      <td>2.0</td>\n",
       "      <td>2.0</td>\n",
       "      <td>0.0</td>\n",
       "      <td>4</td>\n",
       "      <td>5502526707828</td>\n",
       "      <td>5128.0</td>\n",
       "      <td>102</td>\n",
       "      <td>0.0</td>\n",
       "    </tr>\n",
       "    <tr>\n",
       "      <th>1</th>\n",
       "      <td>2931905</td>\n",
       "      <td>29</td>\n",
       "      <td>2</td>\n",
       "      <td>2</td>\n",
       "      <td>3</td>\n",
       "      <td>2888440</td>\n",
       "      <td>2.0</td>\n",
       "      <td>1.0</td>\n",
       "      <td>2.0</td>\n",
       "      <td>1.0</td>\n",
       "      <td>...</td>\n",
       "      <td>1.0</td>\n",
       "      <td>3.0</td>\n",
       "      <td>2.0</td>\n",
       "      <td>2.0</td>\n",
       "      <td>0.0</td>\n",
       "      <td>2</td>\n",
       "      <td>550282046697327</td>\n",
       "      <td>2646.0</td>\n",
       "      <td>151</td>\n",
       "      <td>0.0</td>\n",
       "    </tr>\n",
       "    <tr>\n",
       "      <th>2</th>\n",
       "      <td>3527207</td>\n",
       "      <td>35</td>\n",
       "      <td>4</td>\n",
       "      <td>2</td>\n",
       "      <td>3</td>\n",
       "      <td>2113517</td>\n",
       "      <td>1.0</td>\n",
       "      <td>1.0</td>\n",
       "      <td>5.0</td>\n",
       "      <td>2.0</td>\n",
       "      <td>...</td>\n",
       "      <td>1.0</td>\n",
       "      <td>1.0</td>\n",
       "      <td>2.0</td>\n",
       "      <td>2.0</td>\n",
       "      <td>0.0</td>\n",
       "      <td>2</td>\n",
       "      <td>550109644973309</td>\n",
       "      <td>5979.0</td>\n",
       "      <td>482</td>\n",
       "      <td>2.0</td>\n",
       "    </tr>\n",
       "    <tr>\n",
       "      <th>3</th>\n",
       "      <td>1501402</td>\n",
       "      <td>15</td>\n",
       "      <td>1</td>\n",
       "      <td>2</td>\n",
       "      <td>1</td>\n",
       "      <td>4747164</td>\n",
       "      <td>1.0</td>\n",
       "      <td>1.0</td>\n",
       "      <td>1.0</td>\n",
       "      <td>1.0</td>\n",
       "      <td>...</td>\n",
       "      <td>1.0</td>\n",
       "      <td>1.0</td>\n",
       "      <td>2.0</td>\n",
       "      <td>2.0</td>\n",
       "      <td>0.0</td>\n",
       "      <td>5</td>\n",
       "      <td>550249924045052</td>\n",
       "      <td>964.0</td>\n",
       "      <td>964</td>\n",
       "      <td>0.0</td>\n",
       "    </tr>\n",
       "    <tr>\n",
       "      <th>4</th>\n",
       "      <td>3303500</td>\n",
       "      <td>33</td>\n",
       "      <td>4</td>\n",
       "      <td>2</td>\n",
       "      <td>2</td>\n",
       "      <td>4419096</td>\n",
       "      <td>1.0</td>\n",
       "      <td>1.0</td>\n",
       "      <td>3.0</td>\n",
       "      <td>1.0</td>\n",
       "      <td>...</td>\n",
       "      <td>1.0</td>\n",
       "      <td>1.0</td>\n",
       "      <td>2.0</td>\n",
       "      <td>2.0</td>\n",
       "      <td>0.0</td>\n",
       "      <td>2</td>\n",
       "      <td>550245146328323</td>\n",
       "      <td>238.0</td>\n",
       "      <td>238</td>\n",
       "      <td>0.0</td>\n",
       "    </tr>\n",
       "  </tbody>\n",
       "</table>\n",
       "<p>5 rows × 27 columns</p>\n",
       "</div>"
      ],
      "text/plain": [
       "   cd_ibge  uf_ibge  regiao_ibge  estrato  classf  id_familia  \\\n",
       "0  4212908       42            5        1       2      268503   \n",
       "1  2931905       29            2        2       3     2888440   \n",
       "2  3527207       35            4        2       3     2113517   \n",
       "3  1501402       15            1        2       1     4747164   \n",
       "4  3303500       33            4        2       2     4419096   \n",
       "\n",
       "   cod_local_domic_fam  cod_especie_domic_fam  qtd_comodos_domic_fam  \\\n",
       "0                  1.0                    1.0                    5.0   \n",
       "1                  2.0                    1.0                    2.0   \n",
       "2                  1.0                    1.0                    5.0   \n",
       "3                  1.0                    1.0                    1.0   \n",
       "4                  1.0                    1.0                    3.0   \n",
       "\n",
       "   qtd_comodos_dormitorio_fam  ...  cod_iluminacao_domic_fam  \\\n",
       "0                         2.0  ...                       1.0   \n",
       "1                         1.0  ...                       1.0   \n",
       "2                         2.0  ...                       1.0   \n",
       "3                         1.0  ...                       1.0   \n",
       "4                         1.0  ...                       1.0   \n",
       "\n",
       "   cod_calcamento_domic_fam  cod_familia_indigena_fam  \\\n",
       "0                       1.0                       2.0   \n",
       "1                       3.0                       2.0   \n",
       "2                       1.0                       2.0   \n",
       "3                       1.0                       2.0   \n",
       "4                       1.0                       2.0   \n",
       "\n",
       "   ind_familia_quilombola_fam  ind_parc_mds_fam  qtde_pessoas  \\\n",
       "0                         2.0               0.0             4   \n",
       "1                         2.0               0.0             2   \n",
       "2                         2.0               0.0             2   \n",
       "3                         2.0               0.0             5   \n",
       "4                         2.0               0.0             2   \n",
       "\n",
       "          peso.fam  dias_cadastramento  dias_atualizacao  classe_renda  \n",
       "0    5502526707828              5128.0               102           0.0  \n",
       "1  550282046697327              2646.0               151           0.0  \n",
       "2  550109644973309              5979.0               482           2.0  \n",
       "3  550249924045052               964.0               964           0.0  \n",
       "4  550245146328323               238.0               238           0.0  \n",
       "\n",
       "[5 rows x 27 columns]"
      ]
     },
     "execution_count": 4,
     "metadata": {},
     "output_type": "execute_result"
    }
   ],
   "source": [
    "df_fam_amostra_100mil.head()"
   ]
  },
  {
   "cell_type": "code",
   "execution_count": 5,
   "id": "97f88d70-1afc-4872-856b-36f50839a750",
   "metadata": {
    "tags": []
   },
   "outputs": [
    {
     "name": "stdout",
     "output_type": "stream",
     "text": [
      "<class 'pandas.core.frame.DataFrame'>\n",
      "RangeIndex: 100000 entries, 0 to 99999\n",
      "Data columns (total 27 columns):\n",
      " #   Column                         Non-Null Count   Dtype  \n",
      "---  ------                         --------------   -----  \n",
      " 0   cd_ibge                        100000 non-null  int64  \n",
      " 1   uf_ibge                        100000 non-null  int64  \n",
      " 2   regiao_ibge                    100000 non-null  int64  \n",
      " 3   estrato                        100000 non-null  int64  \n",
      " 4   classf                         100000 non-null  int64  \n",
      " 5   id_familia                     100000 non-null  int64  \n",
      " 6   cod_local_domic_fam            99528 non-null   float64\n",
      " 7   cod_especie_domic_fam          99528 non-null   float64\n",
      " 8   qtd_comodos_domic_fam          95193 non-null   float64\n",
      " 9   qtd_comodos_dormitorio_fam     95224 non-null   float64\n",
      " 10  cod_material_piso_fam          95234 non-null   float64\n",
      " 11  cod_material_domic_fam         95234 non-null   float64\n",
      " 12  cod_agua_canalizada_fam        95234 non-null   float64\n",
      " 13  cod_abaste_agua_domic_fam      95234 non-null   float64\n",
      " 14  cod_banheiro_domic_fam         95234 non-null   float64\n",
      " 15  cod_escoa_sanitario_domic_fam  89534 non-null   float64\n",
      " 16  cod_destino_lixo_domic_fam     95234 non-null   float64\n",
      " 17  cod_iluminacao_domic_fam       95234 non-null   float64\n",
      " 18  cod_calcamento_domic_fam       95234 non-null   float64\n",
      " 19  cod_familia_indigena_fam       100000 non-null  float64\n",
      " 20  ind_familia_quilombola_fam     99484 non-null   float64\n",
      " 21  ind_parc_mds_fam               96811 non-null   float64\n",
      " 22  qtde_pessoas                   100000 non-null  int64  \n",
      " 23  peso.fam                       100000 non-null  object \n",
      " 24  dias_cadastramento             100000 non-null  float64\n",
      " 25  dias_atualizacao               100000 non-null  int64  \n",
      " 26  classe_renda                   99997 non-null   float64\n",
      "dtypes: float64(18), int64(8), object(1)\n",
      "memory usage: 20.6+ MB\n"
     ]
    }
   ],
   "source": [
    "df_fam_amostra_100mil.info()"
   ]
  },
  {
   "cell_type": "code",
   "execution_count": 6,
   "id": "e7a57477-3c28-44f3-b720-f61ee8857277",
   "metadata": {
    "tags": []
   },
   "outputs": [
    {
     "name": "stdout",
     "output_type": "stream",
     "text": [
      "Número de valores nulos em cada coluna:\n",
      "cod_local_domic_fam                472\n",
      "cod_especie_domic_fam              472\n",
      "qtd_comodos_domic_fam             4807\n",
      "qtd_comodos_dormitorio_fam        4776\n",
      "cod_material_piso_fam             4766\n",
      "cod_material_domic_fam            4766\n",
      "cod_agua_canalizada_fam           4766\n",
      "cod_abaste_agua_domic_fam         4766\n",
      "cod_banheiro_domic_fam            4766\n",
      "cod_escoa_sanitario_domic_fam    10466\n",
      "cod_destino_lixo_domic_fam        4766\n",
      "cod_iluminacao_domic_fam          4766\n",
      "cod_calcamento_domic_fam          4766\n",
      "ind_familia_quilombola_fam         516\n",
      "ind_parc_mds_fam                  3189\n",
      "classe_renda                         3\n",
      "dtype: int64\n"
     ]
    }
   ],
   "source": [
    "# Mostrando os valores nulos de cada coluna do DataFrame\n",
    "valores_nulos = df_fam_amostra_100mil.isna().sum()\n",
    "\n",
    "# Exibindo os resultados\n",
    "print(\"Número de valores nulos em cada coluna:\")\n",
    "print(valores_nulos[valores_nulos > 0])  # Exibe apenas as colunas com valores nulos"
   ]
  },
  {
   "cell_type": "code",
   "execution_count": 7,
   "id": "2e3e379e-a9e1-4c52-b181-7e85ef0fd16f",
   "metadata": {
    "tags": []
   },
   "outputs": [
    {
     "name": "stdout",
     "output_type": "stream",
     "text": [
      "Coluna: qtd_comodos_domic_fam\n",
      "Valores únicos: [nan]\n",
      "----------------------------------------\n",
      "Coluna: qtd_comodos_dormitorio_fam\n",
      "Valores únicos: [nan]\n",
      "----------------------------------------\n",
      "Coluna: cod_material_piso_fam\n",
      "Valores únicos: [nan]\n",
      "----------------------------------------\n",
      "Coluna: cod_material_domic_fam\n",
      "Valores únicos: [nan]\n",
      "----------------------------------------\n",
      "Coluna: cod_agua_canalizada_fam\n",
      "Valores únicos: [nan]\n",
      "----------------------------------------\n",
      "Coluna: cod_abaste_agua_domic_fam\n",
      "Valores únicos: [nan]\n",
      "----------------------------------------\n",
      "Coluna: cod_banheiro_domic_fam\n",
      "Valores únicos: [nan]\n",
      "----------------------------------------\n",
      "Coluna: cod_escoa_sanitario_domic_fam\n",
      "Valores únicos: [nan]\n",
      "----------------------------------------\n",
      "Coluna: cod_destino_lixo_domic_fam\n",
      "Valores únicos: [nan]\n",
      "----------------------------------------\n",
      "Coluna: cod_iluminacao_domic_fam\n",
      "Valores únicos: [nan]\n",
      "----------------------------------------\n",
      "Coluna: cod_calcamento_domic_fam\n",
      "Valores únicos: [nan]\n",
      "----------------------------------------\n"
     ]
    }
   ],
   "source": [
    "#como os campos de condição do domicílio só devem ser preenchidos caso a espécie do domicilio\n",
    "#seja 1- Particular permamente, identificar os campos sem preenchimento ligados a espécie\n",
    "# diferente de 1\n",
    "\n",
    "# Filtra o dataframe `df_fam_amostra_100mil` onde 'cod_especie_domic_fam' é diferente de 1\n",
    "filtro = df_fam_amostra_100mil[df_fam_amostra_100mil['cod_especie_domic_fam'] != 1]\n",
    "\n",
    "# Lista das colunas que queremos exibir os resultados\n",
    "colunas_interesse = [\"qtd_comodos_domic_fam\",\n",
    "    \"qtd_comodos_dormitorio_fam\", \"cod_material_piso_fam\", \"cod_material_domic_fam\",\n",
    "    \"cod_agua_canalizada_fam\", \"cod_abaste_agua_domic_fam\", \"cod_banheiro_domic_fam\",\n",
    "    \"cod_escoa_sanitario_domic_fam\", \"cod_destino_lixo_domic_fam\",\n",
    "    \"cod_iluminacao_domic_fam\", \"cod_calcamento_domic_fam\"\n",
    "]\n",
    "\n",
    "# Exibe os valores únicos de cada coluna filtrada\n",
    "for coluna in colunas_interesse:\n",
    "    valores_unicos = filtro[coluna].unique()\n",
    "    print(f\"Coluna: {coluna}\")\n",
    "    print(f\"Valores únicos: {valores_unicos}\")\n",
    "    print(\"-\" * 40)"
   ]
  },
  {
   "cell_type": "code",
   "execution_count": 8,
   "id": "2bfcacf5-9cb6-463a-9509-b9a6f75153f2",
   "metadata": {
    "tags": []
   },
   "outputs": [
    {
     "name": "stdout",
     "output_type": "stream",
     "text": [
      "qtd_comodos_domic_fam              41\n",
      "qtd_comodos_dormitorio_fam         10\n",
      "cod_material_piso_fam               0\n",
      "cod_material_domic_fam              0\n",
      "cod_agua_canalizada_fam             0\n",
      "cod_abaste_agua_domic_fam           0\n",
      "cod_banheiro_domic_fam              0\n",
      "cod_escoa_sanitario_domic_fam    5700\n",
      "cod_destino_lixo_domic_fam          0\n",
      "cod_iluminacao_domic_fam            0\n",
      "cod_calcamento_domic_fam            0\n",
      "dtype: int64\n"
     ]
    }
   ],
   "source": [
    "#Considerando a regra de preenchimento das variáveis de condição de moradia, que só são obrigatórias\n",
    "# se a variável \"cod_especie_domic_fam\" for respondida como 1 - espécie de domicílio particular\n",
    "# permanente, quando preenchimento != 1 as variáveis de condição de moradia foram preenchidas\n",
    "#como -1\n",
    "\n",
    "import numpy as np\n",
    "\n",
    "# Lista das colunas a serem preenchidas\n",
    "cols_to_fill = [\"qtd_comodos_domic_fam\",\n",
    "    \"qtd_comodos_dormitorio_fam\", \"cod_material_piso_fam\", \"cod_material_domic_fam\",\n",
    "    \"cod_agua_canalizada_fam\", \"cod_abaste_agua_domic_fam\", \"cod_banheiro_domic_fam\",\n",
    "    \"cod_escoa_sanitario_domic_fam\", \"cod_destino_lixo_domic_fam\", \"cod_iluminacao_domic_fam\",\n",
    "    \"cod_calcamento_domic_fam\"\n",
    "]\n",
    "\n",
    "# Condição: \"cod_especie_domic_fam\" diferente de 1\n",
    "cond = df_fam_amostra_100mil['cod_especie_domic_fam'] != 1\n",
    "\n",
    "# Preenchendo os valores NaN com -1 nas colunas especificadas quando a condição for atendida\n",
    "df_fam_amostra_100mil.loc[cond, cols_to_fill] = df_fam_amostra_100mil.loc[cond, cols_to_fill].fillna(-1)\n",
    "\n",
    "# Opcional: você pode verificar se os valores foram preenchidos corretamente\n",
    "print(df_fam_amostra_100mil[cols_to_fill].isna().sum())  # Verifica a ausência de valores nulos"
   ]
  },
  {
   "cell_type": "code",
   "execution_count": 9,
   "id": "bae5a65f-7df8-4586-b057-1cf1648d5315",
   "metadata": {
    "tags": []
   },
   "outputs": [
    {
     "name": "stdout",
     "output_type": "stream",
     "text": [
      "Coluna: cod_escoa_sanitario_domic_fam\n",
      "Valores únicos: [nan]\n"
     ]
    }
   ],
   "source": [
    "#Como o campo escoamento sanitário só deve ser preenchido se na casa há banheiro verificar se os casos\n",
    "# de NaN em 'cod_escoa_sanitario_domic_fam' são quando a resposta de 'cod_banheiro_domic_fam' é 2 - Não\n",
    "\n",
    "# Filtra o dataframe `df_fam_amostra_100mil` onde 'cod_banheiro_domic_fam' é 2\n",
    "filtro = df_fam_amostra_100mil[df_fam_amostra_100mil['cod_banheiro_domic_fam'] == 2]\n",
    "\n",
    "# Lista das colunas que queremos exibir os resultados\n",
    "coluna_interesse = [\n",
    "    'cod_escoa_sanitario_domic_fam'\n",
    "]\n",
    "\n",
    "# Exibe os valores únicos da coluna filtrada\n",
    "for coluna in coluna_interesse:\n",
    "    valores_unicos = filtro[coluna].unique()\n",
    "    print(f\"Coluna: {coluna}\")\n",
    "    print(f\"Valores únicos: {valores_unicos}\")"
   ]
  },
  {
   "cell_type": "code",
   "execution_count": 10,
   "id": "2836ebbe-b75f-48e2-8b0d-23e6d84ab346",
   "metadata": {
    "tags": []
   },
   "outputs": [
    {
     "name": "stdout",
     "output_type": "stream",
     "text": [
      "cod_escoa_sanitario_domic_fam    0\n",
      "dtype: int64\n"
     ]
    }
   ],
   "source": [
    "#Considerando a regra de preenchimento de 'cod_escoa_sanitario_domic_fam' apenas quando 'cod_banheiro_domic_fam'\n",
    "# é 1, e todos os casos de NaN para 'cod_escoa_sanitario_domic_fam' são com ausência de banheiro,\n",
    "# preencher os valores NaN de 'cod_escoa_sanitario_domic_fam' como -1\n",
    "\n",
    "import numpy as np\n",
    "\n",
    "# Lista das colunas a serem preenchidas\n",
    "col_to_fill = [\n",
    "    'cod_escoa_sanitario_domic_fam'\n",
    "]\n",
    "\n",
    "# Condição: \"cod_especie_domic_fam\" diferente de 1\n",
    "cond = df_fam_amostra_100mil['cod_banheiro_domic_fam'] == 2\n",
    "\n",
    "# Preenchendo os valores NaN com -1 nas colunas especificadas quando a condição for atendida\n",
    "df_fam_amostra_100mil.loc[cond, col_to_fill] = df_fam_amostra_100mil.loc[cond, col_to_fill].fillna(-1)\n",
    "\n",
    "# Opcional: você pode verificar se os valores foram preenchidos corretamente\n",
    "print(df_fam_amostra_100mil[col_to_fill].isna().sum())  # Verifica a ausência de valores nulos"
   ]
  },
  {
   "cell_type": "code",
   "execution_count": 11,
   "id": "d9eeb0e1-95e1-4412-8783-bbc1ae0d4f4c",
   "metadata": {
    "tags": []
   },
   "outputs": [
    {
     "name": "stdout",
     "output_type": "stream",
     "text": [
      "Número de valores nulos em cada coluna:\n",
      "cod_local_domic_fam            472\n",
      "cod_especie_domic_fam          472\n",
      "qtd_comodos_domic_fam           41\n",
      "qtd_comodos_dormitorio_fam      10\n",
      "ind_familia_quilombola_fam     516\n",
      "ind_parc_mds_fam              3189\n",
      "classe_renda                     3\n",
      "dtype: int64\n"
     ]
    }
   ],
   "source": [
    "# Mostrando os valores nulos de cada coluna do DataFrame após limpeza\n",
    "valores_nulos = df_fam_amostra_100mil.isna().sum()\n",
    "\n",
    "# Exibindo os resultados\n",
    "print(\"Número de valores nulos em cada coluna:\")\n",
    "print(valores_nulos[valores_nulos > 0])  # Exibe apenas as colunas com valores nulos"
   ]
  },
  {
   "cell_type": "code",
   "execution_count": 27,
   "id": "03557cfa-f161-44f6-8642-1dcec8f008a0",
   "metadata": {
    "tags": []
   },
   "outputs": [
    {
     "name": "stdout",
     "output_type": "stream",
     "text": [
      "Valores de 'cod_familia_indigena_fam' quando 'ind_familia_quilombola_fam' é NaN:\n",
      "cod_familia_indigena_fam\n",
      "1.0    516\n",
      "Name: count, dtype: int64\n"
     ]
    }
   ],
   "source": [
    "#Considerando que 'ind_familia_quilombola_fam' só deve ser preenchida se 'cod_familia_indigena_fam'\n",
    "# for 2 - Não, verificar a situação dos valores NaN de 'ind_familia_quilombola_fam'\n",
    "\n",
    "# Filtra o dataframe `df_fam_amostra_100mil` onde 'ind_familia_quilombola_fam' é NaN\n",
    "filtro = df_fam_amostra_100mil[df_fam_amostra_100mil['ind_familia_quilombola_fam'].isna()]\n",
    "\n",
    "# Lista da coluna de interesse\n",
    "coluna_interesse = 'cod_familia_indigena_fam'\n",
    "\n",
    "# Exibe os valores da coluna filtrada\n",
    "print(\"Valores de 'cod_familia_indigena_fam' quando 'ind_familia_quilombola_fam' é NaN:\")\n",
    "print(filtro[coluna_interesse].value_counts(dropna=False))"
   ]
  },
  {
   "cell_type": "code",
   "execution_count": 28,
   "id": "1be6e292-15ef-4204-8930-9901b6b6c92d",
   "metadata": {
    "tags": []
   },
   "outputs": [
    {
     "name": "stdout",
     "output_type": "stream",
     "text": [
      "ind_familia_quilombola_fam    0\n",
      "dtype: int64\n"
     ]
    }
   ],
   "source": [
    "#Considerando a regra de preenchimento da coluna 'ind_familia_quilombola_fam' que só é obrigatória\n",
    "# se a variável \"cod_familia_indigena_fam\" for respondida como 2 - Não, quando preenchimento\n",
    "# for 1 - Sim para família indígena, as variáveis de 'ind_familia_quilombola_fam' NaN foram preenchidas\n",
    "#como 2 - Não, ou seja, famílias não quilombolas\n",
    "\n",
    "# Lista das colunas a serem preenchidas\n",
    "col_to_fill = ['ind_familia_quilombola_fam']\n",
    "\n",
    "# Condição: \"cod_familia_indigena_fam\" for igual a 1\n",
    "cond = df_fam_amostra_100mil['cod_familia_indigena_fam'] == 1\n",
    "\n",
    "# Preenchendo os valores NaN com 2 na coluna especificada quando a condição for atendida\n",
    "df_fam_amostra_100mil.loc[cond, col_to_fill] = df_fam_amostra_100mil.loc[cond, col_to_fill].fillna(2)\n",
    "\n",
    "# Opcional: você pode verificar se os valores foram preenchidos corretamente\n",
    "print(df_fam_amostra_100mil[col_to_fill].isna().sum())  # Verifica a ausência de valores nulos"
   ]
  },
  {
   "cell_type": "code",
   "execution_count": 29,
   "id": "98cbecb7-8b85-41c9-adfb-1311fee15803",
   "metadata": {
    "tags": []
   },
   "outputs": [
    {
     "name": "stdout",
     "output_type": "stream",
     "text": [
      "ind_familia_quilombola_fam\n",
      "2.0    99395\n",
      "1.0      605\n",
      "Name: count, dtype: int64\n"
     ]
    }
   ],
   "source": [
    "# Avaliando as respostas diferentes para a coluna 'ind_familia_quilombola_fam'\n",
    "\n",
    "# Valores únicos na coluna e suas contagens\n",
    "respostas_diferentes = df_fam_amostra_100mil['ind_familia_quilombola_fam'].value_counts(dropna=False)\n",
    "\n",
    "# Exibindo os valores diferentes e suas respectivas contagens\n",
    "print(respostas_diferentes)"
   ]
  },
  {
   "cell_type": "code",
   "execution_count": 30,
   "id": "8fc62fba-113a-491c-9bfe-84f04d60f11f",
   "metadata": {
    "tags": []
   },
   "outputs": [
    {
     "name": "stdout",
     "output_type": "stream",
     "text": [
      "cod_local_domic_fam            472\n",
      "cod_especie_domic_fam          472\n",
      "qtd_comodos_domic_fam           41\n",
      "qtd_comodos_dormitorio_fam      10\n",
      "ind_parc_mds_fam              3189\n",
      "classe_renda                     3\n",
      "dtype: int64\n"
     ]
    }
   ],
   "source": [
    "# Avaliar as colunas com valores ausentes após a limpeza inicial\n",
    "colunas_com_ausentes = df_fam_amostra_100mil.isnull().sum()\n",
    "\n",
    "# Filtrar as colunas que possuem valores ausentes\n",
    "colunas_com_ausentes = colunas_com_ausentes[colunas_com_ausentes > 0]\n",
    "\n",
    "# Exibir as colunas e a quantidade de valores ausentes\n",
    "print(colunas_com_ausentes)"
   ]
  },
  {
   "cell_type": "code",
   "execution_count": 31,
   "id": "076916ad-a3a1-439d-a362-b225b79f15a5",
   "metadata": {
    "tags": []
   },
   "outputs": [
    {
     "name": "stdout",
     "output_type": "stream",
     "text": [
      "Primeiros registros onde 'cod_local_domic_fam' é NaN:\n",
      "      cod_local_domic_fam  cod_especie_domic_fam\n",
      "308                   NaN                    NaN\n",
      "555                   NaN                    NaN\n",
      "608                   NaN                    NaN\n",
      "839                   NaN                    NaN\n",
      "907                   NaN                    NaN\n",
      "1274                  NaN                    NaN\n",
      "1586                  NaN                    NaN\n",
      "1809                  NaN                    NaN\n",
      "1860                  NaN                    NaN\n",
      "1870                  NaN                    NaN\n"
     ]
    }
   ],
   "source": [
    "#Avaliando os dados de 'cod_local_domic_fam' e 'cod_especie_domic_fam'\n",
    "# Condição: 'cod_local_domic_fam' é NaN\n",
    "cond = df_fam_amostra_100mil['cod_local_domic_fam'].isna()\n",
    "\n",
    "# Exibe os registros filtrados para inspeção\n",
    "print(\"Primeiros registros onde 'cod_local_domic_fam' é NaN:\")\n",
    "print(df_fam_amostra_100mil.loc[cond, ['cod_local_domic_fam', 'cod_especie_domic_fam']].head(10))"
   ]
  },
  {
   "cell_type": "code",
   "execution_count": 32,
   "id": "2f346dc2-0afa-489f-8443-fb4e380b8fa3",
   "metadata": {
    "tags": []
   },
   "outputs": [
    {
     "name": "stdout",
     "output_type": "stream",
     "text": [
      "Número de registros com 'cod_especie_domic_fam' como NaN quando 'cod_local_domic_fam' é NaN: 472\n"
     ]
    }
   ],
   "source": [
    "# Verifica quantos desses registros têm 'cod_especie_domic_fam' como NaN também\n",
    "num_na_cod_especie = df_fam_amostra_100mil.loc[cond, 'cod_especie_domic_fam'].isna().sum()\n",
    "print(f\"Número de registros com 'cod_especie_domic_fam' como NaN quando 'cod_local_domic_fam' é NaN: {num_na_cod_especie}\")"
   ]
  },
  {
   "cell_type": "code",
   "execution_count": 33,
   "id": "bc826655-ee3a-4a38-b5ba-9c60d751f269",
   "metadata": {
    "tags": []
   },
   "outputs": [
    {
     "name": "stdout",
     "output_type": "stream",
     "text": [
      "Valores únicos em 'cod_local_domic_fam' após substituição:\n",
      "[1. 2. 9.]\n",
      "\n",
      "Valores únicos em 'cod_especie_domic_fam' após substituição:\n",
      "[1. 2. 3. 9.]\n"
     ]
    }
   ],
   "source": [
    "# Os valores nulos remanescentes podem estar relacionados às famílias em condição de rua,\n",
    "# pois o bloco 2 - características do domicílio não é preenchido para estes casos, conforme\n",
    "# orientação contida no manual do entrevistador \"CADASTRAMENTO DIFERENCIADO: Não preencha este\n",
    "# bloco para pessoas que estejam em situação de rua\". Assim, será criado um código \"outros\"\n",
    "# para tentar capturar esta condição, usando o valor 9 para as duas variáveis \"cod_local_domic_fam\"\n",
    "# e \"cod_especie_domic_fam\"\n",
    "\n",
    "# Condição: 'cod_local_domic_fam' é NaN\n",
    "cond = df_fam_amostra_100mil['cod_local_domic_fam'].isna()\n",
    "\n",
    "# Substitui os valores NaN em 'cod_local_domic_fam' e 'cod_especie_domic_fam' por 9\n",
    "df_fam_amostra_100mil.loc[cond, ['cod_local_domic_fam', 'cod_especie_domic_fam']] = df_fam_amostra_100mil.loc[cond, ['cod_local_domic_fam', 'cod_especie_domic_fam']].fillna(9)\n",
    "\n",
    "# Verifica se a substituição foi bem-sucedida\n",
    "print(\"Valores únicos em 'cod_local_domic_fam' após substituição:\")\n",
    "print(df_fam_amostra_100mil['cod_local_domic_fam'].unique())\n",
    "\n",
    "print(\"\\nValores únicos em 'cod_especie_domic_fam' após substituição:\")\n",
    "print(df_fam_amostra_100mil['cod_especie_domic_fam'].unique())"
   ]
  },
  {
   "cell_type": "code",
   "execution_count": 34,
   "id": "c5e9dcd7-f4b9-46c8-b0fc-76d0b62cf853",
   "metadata": {
    "tags": []
   },
   "outputs": [
    {
     "name": "stdout",
     "output_type": "stream",
     "text": [
      "qtd_comodos_domic_fam           41\n",
      "qtd_comodos_dormitorio_fam      10\n",
      "ind_parc_mds_fam              3189\n",
      "classe_renda                     3\n",
      "dtype: int64\n"
     ]
    }
   ],
   "source": [
    "# Avaliar as colunas com valores ausentes remanescentes após a limpeza\n",
    "colunas_com_ausentes = df_fam_amostra_100mil.isnull().sum()\n",
    "\n",
    "# Filtrar as colunas que possuem valores ausentes\n",
    "colunas_com_ausentes = colunas_com_ausentes[colunas_com_ausentes > 0]\n",
    "\n",
    "# Exibir as colunas e a quantidade de valores ausentes\n",
    "print(colunas_com_ausentes)"
   ]
  },
  {
   "cell_type": "code",
   "execution_count": 35,
   "id": "8cbdcd83-b421-45b3-967c-bf7250661db2",
   "metadata": {
    "tags": []
   },
   "outputs": [],
   "source": [
    "# Preenchendo as colunas 'qtd_comodos_domic_fam' e 'qtd_comodos_dormitorio_fam' com -1\n",
    "# onde 'cod_especie_domic_fam' é igual a 9 pois neste caso não é obrigatório o preenchimento\n",
    "\n",
    "# Condição: 'cod_especie_domic_fam' é igual a 9\n",
    "cond = df_fam_amostra_100mil['cod_especie_domic_fam'] == 9\n",
    "\n",
    "# Preenchendo as colunas especificadas com -1 quando a condição é atendida\n",
    "df_fam_amostra_100mil.loc[cond, ['qtd_comodos_domic_fam', 'qtd_comodos_dormitorio_fam']] = -1"
   ]
  },
  {
   "cell_type": "code",
   "execution_count": 36,
   "id": "c0b7187f-951e-4aa9-a32c-2351d601b974",
   "metadata": {
    "tags": []
   },
   "outputs": [
    {
     "name": "stdout",
     "output_type": "stream",
     "text": [
      "qtd_comodos_domic_fam           41\n",
      "qtd_comodos_dormitorio_fam      10\n",
      "ind_parc_mds_fam              3189\n",
      "classe_renda                     3\n",
      "dtype: int64\n"
     ]
    }
   ],
   "source": [
    "# Avaliar as colunas com valores ausentes remanescentes após a limpeza\n",
    "colunas_com_ausentes = df_fam_amostra_100mil.isnull().sum()\n",
    "\n",
    "# Filtrar as colunas que possuem valores ausentes\n",
    "colunas_com_ausentes = colunas_com_ausentes[colunas_com_ausentes > 0]\n",
    "\n",
    "# Exibir as colunas e a quantidade de valores ausentes\n",
    "print(colunas_com_ausentes)"
   ]
  },
  {
   "cell_type": "code",
   "execution_count": 37,
   "id": "29042d5a-ee31-43aa-bc80-ee1b643eb951",
   "metadata": {
    "tags": []
   },
   "outputs": [
    {
     "name": "stdout",
     "output_type": "stream",
     "text": [
      "ind_parc_mds_fam\n",
      "0.0      88183\n",
      "205.0     5514\n",
      "NaN       3189\n",
      "202.0      933\n",
      "301.0      560\n",
      "204.0      491\n",
      "306.0      474\n",
      "303.0      221\n",
      "201.0      197\n",
      "305.0       94\n",
      "304.0       63\n",
      "203.0       35\n",
      "101.0       33\n",
      "302.0       13\n",
      "Name: count, dtype: int64\n"
     ]
    }
   ],
   "source": [
    "# Avaliando as respostas diferentes para a coluna 'ind_parc_mds_fam' (GPTEs)\n",
    "\n",
    "# Valores únicos na coluna e suas contagens\n",
    "respostas_diferentes = df_fam_amostra_100mil['ind_parc_mds_fam'].value_counts(dropna=False)\n",
    "\n",
    "# Exibindo os valores diferentes e suas respectivas contagens\n",
    "print(respostas_diferentes)"
   ]
  },
  {
   "cell_type": "code",
   "execution_count": 38,
   "id": "64d05828-b180-4bfc-bd9e-2187e1091619",
   "metadata": {
    "tags": []
   },
   "outputs": [
    {
     "name": "stdout",
     "output_type": "stream",
     "text": [
      "Contagem de 'ind_parc_mds_fam' quando 'ind_familia_quilombola_fam' é igual a 1:\n",
      "ind_parc_mds_fam\n",
      "0.0      351\n",
      "205.0    165\n",
      "202.0     42\n",
      "201.0     15\n",
      "204.0     12\n",
      "NaN       11\n",
      "203.0      3\n",
      "301.0      3\n",
      "306.0      2\n",
      "304.0      1\n",
      "Name: count, dtype: int64\n",
      "\n",
      "Contagem de 'ind_parc_mds_fam' quando 'cod_familia_indigena_fam' é igual a 1:\n",
      "ind_parc_mds_fam\n",
      "0.0      321\n",
      "205.0     79\n",
      "201.0     55\n",
      "204.0     32\n",
      "202.0     14\n",
      "NaN       12\n",
      "303.0      2\n",
      "203.0      1\n",
      "Name: count, dtype: int64\n"
     ]
    }
   ],
   "source": [
    "# Avaliando o que aparece em 'ind_parc_mds_fam'\n",
    "# quando 'ind_familia_quilombola_fam' é igual a 1\n",
    "# e quando 'cod_familia_indigena_fam' é igual a 1\n",
    "\n",
    "# Filtrando os casos onde 'ind_familia_quilombola_fam' é igual a 1\n",
    "cond_quilombola = df_fam_amostra_100mil['ind_familia_quilombola_fam'] == 1\n",
    "valores_quilombola = df_fam_amostra_100mil.loc[cond_quilombola, 'ind_parc_mds_fam']\n",
    "\n",
    "# Filtrando os casos onde 'cod_familia_indigena_fam' é igual a 1\n",
    "cond_indigena = df_fam_amostra_100mil['cod_familia_indigena_fam'] == 1\n",
    "valores_indigena = df_fam_amostra_100mil.loc[cond_indigena, 'ind_parc_mds_fam']\n",
    "\n",
    "# Contagem dos valores para 'ind_parc_mds_fam' quando 'ind_familia_quilombola_fam' é igual a 1\n",
    "contagem_quilombola = valores_quilombola.value_counts(dropna=False)  # Inclui NaN\n",
    "\n",
    "# Contagem dos valores para 'ind_parc_mds_fam' quando 'cod_familia_indigena_fam' é igual a 1\n",
    "contagem_indigena = valores_indigena.value_counts(dropna=False)  # Inclui NaN\n",
    "\n",
    "# Exibindo os resultados\n",
    "print(\"Contagem de 'ind_parc_mds_fam' quando 'ind_familia_quilombola_fam' é igual a 1:\")\n",
    "print(contagem_quilombola)\n",
    "\n",
    "print(\"\\nContagem de 'ind_parc_mds_fam' quando 'cod_familia_indigena_fam' é igual a 1:\")\n",
    "print(contagem_indigena)"
   ]
  },
  {
   "cell_type": "code",
   "execution_count": 39,
   "id": "c00d9d56-1571-4aa7-ba89-eebc485fdb29",
   "metadata": {
    "tags": []
   },
   "outputs": [
    {
     "name": "stdout",
     "output_type": "stream",
     "text": [
      "Contagem de 'ind_parc_mds_fam' quando 'cod_especie_domic_fam' é igual a 9:\n",
      "ind_parc_mds_fam\n",
      "0.0      436\n",
      "306.0     23\n",
      "NaN       12\n",
      "304.0      1\n",
      "Name: count, dtype: int64\n"
     ]
    }
   ],
   "source": [
    "# Filtra o dataframe onde 'cod_especie_domic_fam' é igual a 9\n",
    "cond = df_fam_amostra_100mil['cod_especie_domic_fam'] == 9\n",
    "valores_filtrados = df_fam_amostra_100mil.loc[cond, 'ind_parc_mds_fam']\n",
    "\n",
    "# Conta o número de ocorrências de cada valor em 'ind_parc_mds_fam', incluindo NaN\n",
    "contagem_valores = valores_filtrados.value_counts(dropna=False)  # Inclui NaN\n",
    "\n",
    "# Exibe os resultados\n",
    "print(\"Contagem de 'ind_parc_mds_fam' quando 'cod_especie_domic_fam' é igual a 9:\")\n",
    "print(contagem_valores)"
   ]
  },
  {
   "cell_type": "code",
   "execution_count": 40,
   "id": "5b3e501b-a42f-4c1e-bdae-dfac67d99d2e",
   "metadata": {
    "tags": []
   },
   "outputs": [
    {
     "name": "stdout",
     "output_type": "stream",
     "text": [
      "0\n"
     ]
    }
   ],
   "source": [
    "# Considerando que não foi possível identificar uma correlação direta de Nan em 'ind_parc_mds_fam'\n",
    "# com a marcação de indígena, quilombola, ou possível família em condição de rua marcado aqui na base como\n",
    "# 9, vamos criar uma categoria outro em GPTE e marcar como 9 para tentar capturar essa exceção no modelo\n",
    "\n",
    "# Substituir os valores NaN de 'ind_parc_mds_fam' por 9.0\n",
    "df_fam_amostra_100mil['ind_parc_mds_fam'] = df_fam_amostra_100mil['ind_parc_mds_fam'].fillna(9.0)\n",
    "\n",
    "# Opcional: verificar se ainda existem valores NaN na coluna\n",
    "print(df_fam_amostra_100mil['ind_parc_mds_fam'].isna().sum())  # Deve retornar 0 se todos os NaN foram substituídos"
   ]
  },
  {
   "cell_type": "code",
   "execution_count": 41,
   "id": "f5c7013f-b762-4e81-b62f-b8d7223fcf99",
   "metadata": {
    "tags": []
   },
   "outputs": [
    {
     "name": "stdout",
     "output_type": "stream",
     "text": [
      "qtd_comodos_domic_fam         41\n",
      "qtd_comodos_dormitorio_fam    10\n",
      "classe_renda                   3\n",
      "dtype: int64\n"
     ]
    }
   ],
   "source": [
    "# Avaliar as colunas com valores ausentes remanescentes após a limpeza\n",
    "colunas_com_ausentes = df_fam_amostra_100mil.isnull().sum()\n",
    "\n",
    "# Filtrar as colunas que possuem valores ausentes\n",
    "colunas_com_ausentes = colunas_com_ausentes[colunas_com_ausentes > 0]\n",
    "\n",
    "# Exibir as colunas e a quantidade de valores ausentes\n",
    "print(colunas_com_ausentes)"
   ]
  },
  {
   "cell_type": "code",
   "execution_count": 42,
   "id": "af7a8572-2784-40a6-80df-023db083c5ba",
   "metadata": {
    "tags": []
   },
   "outputs": [
    {
     "name": "stdout",
     "output_type": "stream",
     "text": [
      "Número de registros com NaN em 'qtd_comodos_domic_fam' ou 'qtd_comodos_dormitorio_fam': 48\n",
      "\n",
      "Valores únicos em 'cod_local_domic_fam' associados aos registros NaN:\n",
      "cod_local_domic_fam\n",
      "1.0    35\n",
      "2.0    13\n",
      "Name: count, dtype: int64\n",
      "\n",
      "Valores únicos em 'cod_especie_domic_fam' associados aos registros NaN:\n",
      "cod_especie_domic_fam\n",
      "1.0    48\n",
      "Name: count, dtype: int64\n"
     ]
    }
   ],
   "source": [
    "# Condição: 'qtd_comodos_domic_fam' ou 'qtd_comodos_dormitorio_fam' são NaN\n",
    "cond = df_fam_amostra_100mil['qtd_comodos_domic_fam'].isna() | df_fam_amostra_100mil['qtd_comodos_dormitorio_fam'].isna()\n",
    "\n",
    "# Filtra os registros que atendem à condição\n",
    "registros_nan = df_fam_amostra_100mil.loc[cond, ['qtd_comodos_domic_fam', 'qtd_comodos_dormitorio_fam', 'cod_local_domic_fam', 'cod_especie_domic_fam']]\n",
    "\n",
    "# Exibe o número de registros encontrados\n",
    "print(f\"Número de registros com NaN em 'qtd_comodos_domic_fam' ou 'qtd_comodos_dormitorio_fam': {len(registros_nan)}\")\n",
    "\n",
    "# Verifica se há registros filtrados\n",
    "if not registros_nan.empty:\n",
    "    # Exibe os valores únicos em 'cod_local_domic_fam' e 'cod_especie_domic_fam' associados aos registros NaN\n",
    "    print(\"\\nValores únicos em 'cod_local_domic_fam' associados aos registros NaN:\")\n",
    "    print(registros_nan['cod_local_domic_fam'].value_counts())\n",
    "\n",
    "    print(\"\\nValores únicos em 'cod_especie_domic_fam' associados aos registros NaN:\")\n",
    "    print(registros_nan['cod_especie_domic_fam'].value_counts())\n",
    "else:\n",
    "    print(\"Não foram encontrados registros com NaN nas colunas especificadas.\")"
   ]
  },
  {
   "cell_type": "code",
   "execution_count": 43,
   "id": "c9d39ca0-c05c-49d4-8d6b-4e126bbda760",
   "metadata": {
    "tags": []
   },
   "outputs": [],
   "source": [
    "# Como nenhum valor NaN remanescente 'qtd_comodos_domic_fam' ou 'qtd_comodos_dormitorio_fam'\n",
    "# parece estar associado à condição de  'cod_local_domic_fam' e 'cod_especie_domic_fam'\n",
    "# que desobrigue o preenchimento, as linhas com valores NaN nas colunas 'qtd_comodos_domic_fam'\n",
    "# ou 'qtd_comodos_dormitorio_fam' serão excluídas\n",
    "\n",
    "# Excluindo linhas com valores NaN nas colunas 'qtd_comodos_domic_fam' ou 'qtd_comodos_dormitorio_fam'\n",
    "df_fam_amostra_100mil = df_fam_amostra_100mil.dropna(subset=['qtd_comodos_domic_fam', 'qtd_comodos_dormitorio_fam'])"
   ]
  },
  {
   "cell_type": "code",
   "execution_count": 44,
   "id": "dcbb8a38-3726-44fc-99e3-436b57bb7865",
   "metadata": {
    "tags": []
   },
   "outputs": [
    {
     "name": "stdout",
     "output_type": "stream",
     "text": [
      "classe_renda    3\n",
      "dtype: int64\n"
     ]
    }
   ],
   "source": [
    "# Avaliar as colunas com valores ausentes remanescentes após a limpeza\n",
    "colunas_com_ausentes = df_fam_amostra_100mil.isnull().sum()\n",
    "\n",
    "# Filtrar as colunas que possuem valores ausentes\n",
    "colunas_com_ausentes = colunas_com_ausentes[colunas_com_ausentes > 0]\n",
    "\n",
    "# Exibir as colunas e a quantidade de valores ausentes\n",
    "print(colunas_com_ausentes)"
   ]
  },
  {
   "cell_type": "code",
   "execution_count": 45,
   "id": "97fe34a1-844d-4546-88a8-32af3ea40876",
   "metadata": {
    "tags": []
   },
   "outputs": [],
   "source": [
    "#excluir linhas com classe_renda NaN\n",
    "\n",
    "# Excluindo linhas com valores NaN na coluna classe_renda\n",
    "df_fam_amostra_100mil_limpa = df_fam_amostra_100mil.dropna(subset=['classe_renda'])"
   ]
  },
  {
   "cell_type": "code",
   "execution_count": 46,
   "id": "bb542c39-f3ef-44a0-a7d0-3614293e38bd",
   "metadata": {
    "tags": []
   },
   "outputs": [
    {
     "name": "stdout",
     "output_type": "stream",
     "text": [
      "cd_ibge                          0\n",
      "uf_ibge                          0\n",
      "regiao_ibge                      0\n",
      "estrato                          0\n",
      "classf                           0\n",
      "id_familia                       0\n",
      "cod_local_domic_fam              0\n",
      "cod_especie_domic_fam            0\n",
      "qtd_comodos_domic_fam            0\n",
      "qtd_comodos_dormitorio_fam       0\n",
      "cod_material_piso_fam            0\n",
      "cod_material_domic_fam           0\n",
      "cod_agua_canalizada_fam          0\n",
      "cod_abaste_agua_domic_fam        0\n",
      "cod_banheiro_domic_fam           0\n",
      "cod_escoa_sanitario_domic_fam    0\n",
      "cod_destino_lixo_domic_fam       0\n",
      "cod_iluminacao_domic_fam         0\n",
      "cod_calcamento_domic_fam         0\n",
      "cod_familia_indigena_fam         0\n",
      "ind_familia_quilombola_fam       0\n",
      "ind_parc_mds_fam                 0\n",
      "qtde_pessoas                     0\n",
      "peso.fam                         0\n",
      "dias_cadastramento               0\n",
      "dias_atualizacao                 0\n",
      "classe_renda                     0\n",
      "dtype: int64\n"
     ]
    }
   ],
   "source": [
    "# Avaliar as colunas com valores ausentes remanescentes após a limpeza\n",
    "colunas_com_ausentes = df_fam_amostra_100mil_limpa.isnull().sum()\n",
    "\n",
    "# Exibir as colunas e a quantidade de valores ausentes\n",
    "print(colunas_com_ausentes)"
   ]
  },
  {
   "cell_type": "code",
   "execution_count": 47,
   "id": "0a5e7f73-8063-4399-9f66-99921e6489fe",
   "metadata": {
    "tags": []
   },
   "outputs": [
    {
     "data": {
      "text/html": [
       "<div>\n",
       "<style scoped>\n",
       "    .dataframe tbody tr th:only-of-type {\n",
       "        vertical-align: middle;\n",
       "    }\n",
       "\n",
       "    .dataframe tbody tr th {\n",
       "        vertical-align: top;\n",
       "    }\n",
       "\n",
       "    .dataframe thead th {\n",
       "        text-align: right;\n",
       "    }\n",
       "</style>\n",
       "<table border=\"1\" class=\"dataframe\">\n",
       "  <thead>\n",
       "    <tr style=\"text-align: right;\">\n",
       "      <th></th>\n",
       "      <th>cd_ibge</th>\n",
       "      <th>uf_ibge</th>\n",
       "      <th>regiao_ibge</th>\n",
       "      <th>estrato</th>\n",
       "      <th>classf</th>\n",
       "      <th>id_familia</th>\n",
       "      <th>cod_local_domic_fam</th>\n",
       "      <th>cod_especie_domic_fam</th>\n",
       "      <th>qtd_comodos_domic_fam</th>\n",
       "      <th>qtd_comodos_dormitorio_fam</th>\n",
       "      <th>...</th>\n",
       "      <th>cod_iluminacao_domic_fam</th>\n",
       "      <th>cod_calcamento_domic_fam</th>\n",
       "      <th>cod_familia_indigena_fam</th>\n",
       "      <th>ind_familia_quilombola_fam</th>\n",
       "      <th>ind_parc_mds_fam</th>\n",
       "      <th>qtde_pessoas</th>\n",
       "      <th>peso.fam</th>\n",
       "      <th>dias_cadastramento</th>\n",
       "      <th>dias_atualizacao</th>\n",
       "      <th>classe_renda</th>\n",
       "    </tr>\n",
       "  </thead>\n",
       "  <tbody>\n",
       "    <tr>\n",
       "      <th>0</th>\n",
       "      <td>4212908</td>\n",
       "      <td>42</td>\n",
       "      <td>5</td>\n",
       "      <td>1</td>\n",
       "      <td>2</td>\n",
       "      <td>268503</td>\n",
       "      <td>1.0</td>\n",
       "      <td>1.0</td>\n",
       "      <td>5.0</td>\n",
       "      <td>2.0</td>\n",
       "      <td>...</td>\n",
       "      <td>1.0</td>\n",
       "      <td>1.0</td>\n",
       "      <td>2.0</td>\n",
       "      <td>2.0</td>\n",
       "      <td>0.0</td>\n",
       "      <td>4</td>\n",
       "      <td>5502526707828</td>\n",
       "      <td>5128.0</td>\n",
       "      <td>102</td>\n",
       "      <td>0.0</td>\n",
       "    </tr>\n",
       "    <tr>\n",
       "      <th>1</th>\n",
       "      <td>2931905</td>\n",
       "      <td>29</td>\n",
       "      <td>2</td>\n",
       "      <td>2</td>\n",
       "      <td>3</td>\n",
       "      <td>2888440</td>\n",
       "      <td>2.0</td>\n",
       "      <td>1.0</td>\n",
       "      <td>2.0</td>\n",
       "      <td>1.0</td>\n",
       "      <td>...</td>\n",
       "      <td>1.0</td>\n",
       "      <td>3.0</td>\n",
       "      <td>2.0</td>\n",
       "      <td>2.0</td>\n",
       "      <td>0.0</td>\n",
       "      <td>2</td>\n",
       "      <td>550282046697327</td>\n",
       "      <td>2646.0</td>\n",
       "      <td>151</td>\n",
       "      <td>0.0</td>\n",
       "    </tr>\n",
       "    <tr>\n",
       "      <th>2</th>\n",
       "      <td>3527207</td>\n",
       "      <td>35</td>\n",
       "      <td>4</td>\n",
       "      <td>2</td>\n",
       "      <td>3</td>\n",
       "      <td>2113517</td>\n",
       "      <td>1.0</td>\n",
       "      <td>1.0</td>\n",
       "      <td>5.0</td>\n",
       "      <td>2.0</td>\n",
       "      <td>...</td>\n",
       "      <td>1.0</td>\n",
       "      <td>1.0</td>\n",
       "      <td>2.0</td>\n",
       "      <td>2.0</td>\n",
       "      <td>0.0</td>\n",
       "      <td>2</td>\n",
       "      <td>550109644973309</td>\n",
       "      <td>5979.0</td>\n",
       "      <td>482</td>\n",
       "      <td>2.0</td>\n",
       "    </tr>\n",
       "    <tr>\n",
       "      <th>3</th>\n",
       "      <td>1501402</td>\n",
       "      <td>15</td>\n",
       "      <td>1</td>\n",
       "      <td>2</td>\n",
       "      <td>1</td>\n",
       "      <td>4747164</td>\n",
       "      <td>1.0</td>\n",
       "      <td>1.0</td>\n",
       "      <td>1.0</td>\n",
       "      <td>1.0</td>\n",
       "      <td>...</td>\n",
       "      <td>1.0</td>\n",
       "      <td>1.0</td>\n",
       "      <td>2.0</td>\n",
       "      <td>2.0</td>\n",
       "      <td>0.0</td>\n",
       "      <td>5</td>\n",
       "      <td>550249924045052</td>\n",
       "      <td>964.0</td>\n",
       "      <td>964</td>\n",
       "      <td>0.0</td>\n",
       "    </tr>\n",
       "    <tr>\n",
       "      <th>4</th>\n",
       "      <td>3303500</td>\n",
       "      <td>33</td>\n",
       "      <td>4</td>\n",
       "      <td>2</td>\n",
       "      <td>2</td>\n",
       "      <td>4419096</td>\n",
       "      <td>1.0</td>\n",
       "      <td>1.0</td>\n",
       "      <td>3.0</td>\n",
       "      <td>1.0</td>\n",
       "      <td>...</td>\n",
       "      <td>1.0</td>\n",
       "      <td>1.0</td>\n",
       "      <td>2.0</td>\n",
       "      <td>2.0</td>\n",
       "      <td>0.0</td>\n",
       "      <td>2</td>\n",
       "      <td>550245146328323</td>\n",
       "      <td>238.0</td>\n",
       "      <td>238</td>\n",
       "      <td>0.0</td>\n",
       "    </tr>\n",
       "  </tbody>\n",
       "</table>\n",
       "<p>5 rows × 27 columns</p>\n",
       "</div>"
      ],
      "text/plain": [
       "   cd_ibge  uf_ibge  regiao_ibge  estrato  classf  id_familia  \\\n",
       "0  4212908       42            5        1       2      268503   \n",
       "1  2931905       29            2        2       3     2888440   \n",
       "2  3527207       35            4        2       3     2113517   \n",
       "3  1501402       15            1        2       1     4747164   \n",
       "4  3303500       33            4        2       2     4419096   \n",
       "\n",
       "   cod_local_domic_fam  cod_especie_domic_fam  qtd_comodos_domic_fam  \\\n",
       "0                  1.0                    1.0                    5.0   \n",
       "1                  2.0                    1.0                    2.0   \n",
       "2                  1.0                    1.0                    5.0   \n",
       "3                  1.0                    1.0                    1.0   \n",
       "4                  1.0                    1.0                    3.0   \n",
       "\n",
       "   qtd_comodos_dormitorio_fam  ...  cod_iluminacao_domic_fam  \\\n",
       "0                         2.0  ...                       1.0   \n",
       "1                         1.0  ...                       1.0   \n",
       "2                         2.0  ...                       1.0   \n",
       "3                         1.0  ...                       1.0   \n",
       "4                         1.0  ...                       1.0   \n",
       "\n",
       "   cod_calcamento_domic_fam  cod_familia_indigena_fam  \\\n",
       "0                       1.0                       2.0   \n",
       "1                       3.0                       2.0   \n",
       "2                       1.0                       2.0   \n",
       "3                       1.0                       2.0   \n",
       "4                       1.0                       2.0   \n",
       "\n",
       "   ind_familia_quilombola_fam  ind_parc_mds_fam  qtde_pessoas  \\\n",
       "0                         2.0               0.0             4   \n",
       "1                         2.0               0.0             2   \n",
       "2                         2.0               0.0             2   \n",
       "3                         2.0               0.0             5   \n",
       "4                         2.0               0.0             2   \n",
       "\n",
       "          peso.fam  dias_cadastramento  dias_atualizacao  classe_renda  \n",
       "0    5502526707828              5128.0               102           0.0  \n",
       "1  550282046697327              2646.0               151           0.0  \n",
       "2  550109644973309              5979.0               482           2.0  \n",
       "3  550249924045052               964.0               964           0.0  \n",
       "4  550245146328323               238.0               238           0.0  \n",
       "\n",
       "[5 rows x 27 columns]"
      ]
     },
     "execution_count": 47,
     "metadata": {},
     "output_type": "execute_result"
    }
   ],
   "source": [
    "df_fam_amostra_100mil_limpa.head()"
   ]
  },
  {
   "cell_type": "code",
   "execution_count": 48,
   "id": "3d5a988b-a013-4d1f-9984-0d462b929cb6",
   "metadata": {
    "tags": []
   },
   "outputs": [
    {
     "data": {
      "text/plain": [
       "(99949, 27)"
      ]
     },
     "execution_count": 48,
     "metadata": {},
     "output_type": "execute_result"
    }
   ],
   "source": [
    "df_fam_amostra_100mil_limpa.shape"
   ]
  },
  {
   "cell_type": "code",
   "execution_count": 49,
   "id": "6f8abe04-0120-47e1-96f2-50129f3b9afe",
   "metadata": {
    "tags": []
   },
   "outputs": [
    {
     "name": "stdout",
     "output_type": "stream",
     "text": [
      "<class 'pandas.core.frame.DataFrame'>\n",
      "Index: 99949 entries, 0 to 99999\n",
      "Data columns (total 27 columns):\n",
      " #   Column                         Non-Null Count  Dtype  \n",
      "---  ------                         --------------  -----  \n",
      " 0   cd_ibge                        99949 non-null  int64  \n",
      " 1   uf_ibge                        99949 non-null  int64  \n",
      " 2   regiao_ibge                    99949 non-null  int64  \n",
      " 3   estrato                        99949 non-null  int64  \n",
      " 4   classf                         99949 non-null  int64  \n",
      " 5   id_familia                     99949 non-null  int64  \n",
      " 6   cod_local_domic_fam            99949 non-null  float64\n",
      " 7   cod_especie_domic_fam          99949 non-null  float64\n",
      " 8   qtd_comodos_domic_fam          99949 non-null  float64\n",
      " 9   qtd_comodos_dormitorio_fam     99949 non-null  float64\n",
      " 10  cod_material_piso_fam          99949 non-null  float64\n",
      " 11  cod_material_domic_fam         99949 non-null  float64\n",
      " 12  cod_agua_canalizada_fam        99949 non-null  float64\n",
      " 13  cod_abaste_agua_domic_fam      99949 non-null  float64\n",
      " 14  cod_banheiro_domic_fam         99949 non-null  float64\n",
      " 15  cod_escoa_sanitario_domic_fam  99949 non-null  float64\n",
      " 16  cod_destino_lixo_domic_fam     99949 non-null  float64\n",
      " 17  cod_iluminacao_domic_fam       99949 non-null  float64\n",
      " 18  cod_calcamento_domic_fam       99949 non-null  float64\n",
      " 19  cod_familia_indigena_fam       99949 non-null  float64\n",
      " 20  ind_familia_quilombola_fam     99949 non-null  float64\n",
      " 21  ind_parc_mds_fam               99949 non-null  float64\n",
      " 22  qtde_pessoas                   99949 non-null  int64  \n",
      " 23  peso.fam                       99949 non-null  object \n",
      " 24  dias_cadastramento             99949 non-null  float64\n",
      " 25  dias_atualizacao               99949 non-null  int64  \n",
      " 26  classe_renda                   99949 non-null  float64\n",
      "dtypes: float64(18), int64(8), object(1)\n",
      "memory usage: 21.4+ MB\n"
     ]
    }
   ],
   "source": [
    "df_fam_amostra_100mil_limpa.info()"
   ]
  },
  {
   "cell_type": "code",
   "execution_count": 50,
   "id": "7fd7fd58-fcbe-4f52-9a27-9d64ec1f28bd",
   "metadata": {
    "tags": []
   },
   "outputs": [],
   "source": [
    "# Salvando a amostra de 1.000 linhas no arquivo CSV após limpeza\n",
    "df_fam_amostra_100mil_limpa.to_csv('df_fam_amostra_100mil_limpa.csv', index=False)"
   ]
  },
  {
   "cell_type": "code",
   "execution_count": null,
   "id": "330a9fdc-6181-4811-9714-4b0a9a9a3d5b",
   "metadata": {},
   "outputs": [],
   "source": []
  }
 ],
 "metadata": {
  "kernelspec": {
   "display_name": "Python 3 (ipykernel)",
   "language": "python",
   "name": "python3"
  },
  "language_info": {
   "codemirror_mode": {
    "name": "ipython",
    "version": 3
   },
   "file_extension": ".py",
   "mimetype": "text/x-python",
   "name": "python",
   "nbconvert_exporter": "python",
   "pygments_lexer": "ipython3",
   "version": "3.11.4"
  }
 },
 "nbformat": 4,
 "nbformat_minor": 5
}
