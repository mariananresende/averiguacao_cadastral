{
 "cells": [
  {
   "cell_type": "code",
   "execution_count": null,
   "id": "91c942d8-84f5-4a43-800f-925dc8d1923e",
   "metadata": {
    "tags": []
   },
   "outputs": [],
   "source": [
    "import pandas as pd\n",
    "import matplotlib.pyplot as plt\n",
    "import seaborn as sns\n",
    "import numpy as np\n",
    "from sklearn.model_selection import train_test_split\n",
    "from sklearn.linear_model import LinearRegression\n",
    "from sklearn.metrics import mean_squared_error"
   ]
  },
  {
   "cell_type": "code",
   "execution_count": null,
   "id": "386f135b-bf3d-432e-932e-a46170b34724",
   "metadata": {
    "tags": []
   },
   "outputs": [],
   "source": [
    "# Load the datasets\n",
    "df_pessoas_final = pd.read_csv('../Data/df_pessoas_final.csv')"
   ]
  },
  {
   "cell_type": "code",
   "execution_count": null,
   "id": "a55906d8-52b9-4c4b-9387-eb839069e2a0",
   "metadata": {
    "tags": []
   },
   "outputs": [],
   "source": [
    "df_pessoas_final.head()"
   ]
  },
  {
   "cell_type": "code",
   "execution_count": null,
   "id": "c52ee2bc-5351-4333-b4b3-b3018121e287",
   "metadata": {
    "tags": []
   },
   "outputs": [],
   "source": [
    "df_pessoas_final.info()"
   ]
  },
  {
   "cell_type": "code",
   "execution_count": null,
   "id": "2074e664-604a-4380-8dbb-15d4e8f368e9",
   "metadata": {
    "tags": []
   },
   "outputs": [],
   "source": [
    "# Tentar converter todas as colunas de float64 para int64\n",
    "for col in df_pessoas_final.select_dtypes(include=['float64']).columns:\n",
    "    df_pessoas_final[col] = df_pessoas_final[col].apply(lambda x: int(x) if x != -1 else -1)"
   ]
  },
  {
   "cell_type": "code",
   "execution_count": null,
   "id": "472a21a2-713e-49eb-ab5c-c3e2ca6410b6",
   "metadata": {
    "tags": []
   },
   "outputs": [],
   "source": [
    "df_pessoas_final.info()"
   ]
  },
  {
   "cell_type": "code",
   "execution_count": null,
   "id": "2aa3631d-f8a0-4769-862c-9351c31f8e16",
   "metadata": {
    "tags": []
   },
   "outputs": [],
   "source": [
    "df_pessoas_final.head()"
   ]
  },
  {
   "cell_type": "code",
   "execution_count": null,
   "id": "58b42fd3-364d-4fe1-86d7-7bcdd9904668",
   "metadata": {
    "tags": []
   },
   "outputs": [],
   "source": [
    "df_pessoas_final.columns"
   ]
  },
  {
   "cell_type": "code",
   "execution_count": null,
   "id": "b28c8518-f01a-43a5-8b34-47ff6056ea61",
   "metadata": {
    "tags": []
   },
   "outputs": [],
   "source": [
    "#Checando os valores únicos das colunas\n",
    "# Definindo as colunas a serem analisadas\n",
    "columns_to_check = ['cod_sexo_pessoa', 'idade',\n",
    "       'cod_parentesco_rf_pessoa', 'cod_raca_cor_pessoa',\n",
    "       'cod_local_nascimento_pessoa', 'cod_certidao_registrada_pessoa',\n",
    "       'cod_deficiencia_memb', 'cod_sabe_ler_escrever_memb',\n",
    "       'ind_frequenta_escola_memb', 'cod_escola_local_memb',\n",
    "       'cod_curso_frequenta_memb', 'cod_ano_serie_frequenta_memb',\n",
    "       'cod_curso_frequentou_pessoa_memb', 'cod_ano_serie_frequentou_memb',\n",
    "       'cod_concluiu_frequentou_memb', 'cod_trabalhou_memb',\n",
    "       'cod_afastado_trab_memb', 'cod_agricultura_trab_memb',\n",
    "       'cod_principal_trab_memb', 'cod_trabalho_12_meses_memb',\n",
    "       'qtd_meses_12_meses_memb', 'classe_renda'\n",
    "]\n",
    "\n",
    "# Criando um dicionário para armazenar os tipos de resposta\n",
    "response_types = {}\n",
    "\n",
    "# Iterando sobre as colunas e coletando os valores únicos\n",
    "for column in columns_to_check:\n",
    "    response_types[column] = df_pessoas_final[column].unique()\n",
    "\n",
    "# Exibindo os tipos de resposta de cada coluna\n",
    "for column, unique_values in response_types.items():\n",
    "    print(f\"Coluna: {column}\\nValores únicos: {unique_values}\\n\")"
   ]
  },
  {
   "cell_type": "code",
   "execution_count": null,
   "id": "b7c54fe1-96ef-4567-8f61-5025c4bfa66d",
   "metadata": {
    "tags": []
   },
   "outputs": [],
   "source": [
    "# Gráfico de barras para verificar balanceamento das classes considerando as pessoas\n",
    "df_pessoas_final['classe_renda'].value_counts().plot(kind='bar')\n",
    "plt.xlabel('classe_renda')\n",
    "plt.ylabel('Count')\n",
    "plt.title('Balanceamento das Classes')\n",
    "plt.show()"
   ]
  },
  {
   "cell_type": "code",
   "execution_count": null,
   "id": "e774bc13-d0fe-4ce9-9736-8291a740f98c",
   "metadata": {
    "tags": []
   },
   "outputs": [],
   "source": [
    "# Verificar a contagem de valores únicos na coluna 'cod_parentesco_rf_pessoa'\n",
    "print(df_pessoas_final['cod_parentesco_rf_pessoa'].value_counts())"
   ]
  },
  {
   "cell_type": "code",
   "execution_count": null,
   "id": "61199076-de90-4971-98ef-6936dd9c2ac8",
   "metadata": {
    "tags": []
   },
   "outputs": [],
   "source": [
    "# Filtrar o dataframe por Responsável Familiar\n",
    "df_pessoas_final_rf = df_pessoas_final[df_pessoas_final['cod_parentesco_rf_pessoa'] == 1]\n",
    "\n",
    "# Visualizar as primeiras linhas do dataframe filtrado\n",
    "df_pessoas_final_rf.head()\n"
   ]
  },
  {
   "cell_type": "code",
   "execution_count": null,
   "id": "c47d8b40-b0de-456d-8bd5-7d457a12fbe6",
   "metadata": {
    "tags": []
   },
   "outputs": [],
   "source": [
    "# Cria mask para não mostrar valores acima da diagonal\n",
    "df_features = df_pessoas_final_rf[['cod_sexo_pessoa', 'idade',\n",
    "      'cod_raca_cor_pessoa', 'cod_local_nascimento_pessoa', 'cod_certidao_registrada_pessoa',\n",
    "       'cod_deficiencia_memb', 'cod_sabe_ler_escrever_memb',\n",
    "       'ind_frequenta_escola_memb', 'cod_escola_local_memb',\n",
    "       'cod_curso_frequenta_memb', 'cod_ano_serie_frequenta_memb',\n",
    "       'cod_curso_frequentou_pessoa_memb', 'cod_ano_serie_frequentou_memb',\n",
    "       'cod_concluiu_frequentou_memb', 'cod_trabalhou_memb',\n",
    "       'cod_afastado_trab_memb', 'cod_agricultura_trab_memb',\n",
    "       'cod_principal_trab_memb', 'cod_trabalho_12_meses_memb',\n",
    "       'qtd_meses_12_meses_memb']]\n",
    "\n",
    "mask = np.triu(np.ones_like(df_features.corr(), dtype=bool), k=1)\n",
    "\n",
    "plt.figure(figsize=(12,8))\n",
    "sns.heatmap(df_features.corr().round(1), annot=True, cmap='coolwarm', mask=mask)\n",
    "plt.show()"
   ]
  },
  {
   "cell_type": "code",
   "execution_count": null,
   "id": "1b1b0c14-3a8a-43de-90a6-3b05b6979b37",
   "metadata": {
    "tags": []
   },
   "outputs": [],
   "source": [
    "#Retirando features com correlação > 8\n",
    "df_pessoas_final_rf = df_pessoas_final_rf.drop(columns=['cod_afastado_trab_memb', 'qtd_meses_12_meses_memb'])\n",
    "                                               \n",
    "df_pessoas_final_rf.head()"
   ]
  },
  {
   "cell_type": "code",
   "execution_count": null,
   "id": "39042f4d-8f2c-499e-88d2-9cd114b8fa84",
   "metadata": {
    "tags": []
   },
   "outputs": [],
   "source": [
    "# Cria mask para não mostrar valores acima da diagonal\n",
    "df_features = df_pessoas_final_rf[['cod_sexo_pessoa', 'idade',\n",
    "      'cod_raca_cor_pessoa', 'cod_local_nascimento_pessoa', 'cod_certidao_registrada_pessoa',\n",
    "       'cod_deficiencia_memb', 'cod_sabe_ler_escrever_memb',\n",
    "       'ind_frequenta_escola_memb', 'cod_escola_local_memb',\n",
    "       'cod_curso_frequenta_memb', 'cod_ano_serie_frequenta_memb',\n",
    "       'cod_curso_frequentou_pessoa_memb', 'cod_ano_serie_frequentou_memb',\n",
    "       'cod_concluiu_frequentou_memb', 'cod_trabalhou_memb',\n",
    "       'cod_agricultura_trab_memb',\n",
    "       'cod_principal_trab_memb', 'cod_trabalho_12_meses_memb']]\n",
    "\n",
    "mask = np.triu(np.ones_like(df_features.corr(), dtype=bool), k=1)\n",
    "\n",
    "plt.figure(figsize=(12,8))\n",
    "sns.heatmap(df_features.corr().round(1), annot=True, cmap='coolwarm', mask=mask)\n",
    "plt.show()"
   ]
  },
  {
   "cell_type": "code",
   "execution_count": null,
   "id": "32545033-0442-492f-b6e3-a0b39470f7e0",
   "metadata": {
    "tags": []
   },
   "outputs": [],
   "source": [
    "#Retirando features com correlação > 8\n",
    "df_pessoas_final_rf = df_pessoas_final_rf.drop(columns=['cod_trabalho_12_meses_memb'])\n",
    "                                               \n",
    "df_pessoas_final_rf.head()"
   ]
  },
  {
   "cell_type": "code",
   "execution_count": null,
   "id": "87b1bec6-b329-4566-a7c4-43e3bf0bb619",
   "metadata": {
    "tags": []
   },
   "outputs": [],
   "source": [
    "# Cria mask para não mostrar valores acima da diagonal\n",
    "df_features = df_pessoas_final_rf[['cod_sexo_pessoa', 'idade',\n",
    "      'cod_raca_cor_pessoa', 'cod_local_nascimento_pessoa', 'cod_certidao_registrada_pessoa',\n",
    "       'cod_deficiencia_memb', 'cod_sabe_ler_escrever_memb',\n",
    "       'ind_frequenta_escola_memb', 'cod_escola_local_memb',\n",
    "       'cod_curso_frequenta_memb', 'cod_ano_serie_frequenta_memb',\n",
    "       'cod_curso_frequentou_pessoa_memb', 'cod_ano_serie_frequentou_memb',\n",
    "       'cod_concluiu_frequentou_memb', 'cod_trabalhou_memb',\n",
    "       'cod_agricultura_trab_memb',\n",
    "       'cod_principal_trab_memb']]\n",
    "\n",
    "mask = np.triu(np.ones_like(df_features.corr(), dtype=bool), k=1)\n",
    "\n",
    "plt.figure(figsize=(12,8))\n",
    "sns.heatmap(df_features.corr().round(1), annot=True, cmap='coolwarm', mask=mask)\n",
    "plt.show()"
   ]
  },
  {
   "cell_type": "markdown",
   "id": "a35c2de3-16ee-48f3-aaef-2c3432c1f253",
   "metadata": {},
   "source": [
    "# Seleção das variáveis independentes (Features)"
   ]
  },
  {
   "cell_type": "code",
   "execution_count": null,
   "id": "e248634a-aef4-4bfa-82e3-394f42b9e4d4",
   "metadata": {
    "tags": []
   },
   "outputs": [],
   "source": [
    " df_pessoas_final_rf.columns"
   ]
  },
  {
   "cell_type": "code",
   "execution_count": null,
   "id": "858a7ca1-90aa-439a-b5e3-7d48625fcea2",
   "metadata": {
    "tags": []
   },
   "outputs": [],
   "source": [
    "# Selecionando as variáveis que serão utilizadas para o modelo\n",
    "X = df_pessoas_final_rf[['cod_sexo_pessoa', 'idade',\n",
    "       'cod_raca_cor_pessoa',\n",
    "       'cod_local_nascimento_pessoa', 'cod_certidao_registrada_pessoa',\n",
    "       'cod_deficiencia_memb', 'cod_sabe_ler_escrever_memb',\n",
    "       'ind_frequenta_escola_memb', 'cod_escola_local_memb',\n",
    "       'cod_curso_frequenta_memb', 'cod_ano_serie_frequenta_memb',\n",
    "       'cod_curso_frequentou_pessoa_memb', 'cod_ano_serie_frequentou_memb',\n",
    "       'cod_concluiu_frequentou_memb', 'cod_trabalhou_memb',\n",
    "       'cod_agricultura_trab_memb', 'cod_principal_trab_memb']]\n",
    "y = df_pessoas_final_rf['classe_renda']\n",
    "\n",
    "# Exibindo as informações de X\n",
    "print('X =', X.shape)\n",
    "X.head()"
   ]
  },
  {
   "cell_type": "code",
   "execution_count": null,
   "id": "a8b0080d-1636-481e-98f5-3684c664f340",
   "metadata": {
    "tags": []
   },
   "outputs": [],
   "source": [
    "y.head()"
   ]
  },
  {
   "cell_type": "code",
   "execution_count": null,
   "id": "e7a43584-6096-425e-9233-ec227f241795",
   "metadata": {
    "tags": []
   },
   "outputs": [],
   "source": [
    "X.columns"
   ]
  },
  {
   "cell_type": "code",
   "execution_count": null,
   "id": "265d3ce1-d7a1-4403-b797-148d646e3e19",
   "metadata": {
    "tags": []
   },
   "outputs": [],
   "source": [
    "#import pandas as pd\n",
    "#from sklearn.compose import make_column_transformer\n",
    "#from sklearn.preprocessing import OneHotEncoder"
   ]
  },
  {
   "cell_type": "code",
   "execution_count": null,
   "id": "3d042692-18c7-402c-a9c9-b0e01a82f9f2",
   "metadata": {
    "tags": []
   },
   "outputs": [],
   "source": [
    "#col_transf = make_column_transformer((OneHotEncoder(), ['regiao_ibge', 'estrato', 'classf', 'cod_local_domic_fam', 'cod_especie_domic_fam', 'cod_agua_canalizada_fam',\n",
    " #   'cod_abaste_agua_domic_fam', 'cod_banheiro_domic_fam', 'cod_escoa_sanitario_domic_fam', 'cod_destino_lixo_domic_fam', 'cod_iluminacao_domic_fam', 'cod_calcamento_domic_fam',\n",
    "#  'cod_familia_indigena_fam', 'ind_familia_quilombola_fam']),\n",
    "  #                                   remainder='passthrough')"
   ]
  },
  {
   "cell_type": "code",
   "execution_count": null,
   "id": "66e32a63-7400-4bf1-be70-1033ca4cea05",
   "metadata": {
    "tags": []
   },
   "outputs": [],
   "source": [
    "#col_transf.fit_transform(X)"
   ]
  },
  {
   "cell_type": "code",
   "execution_count": null,
   "id": "1df0d886-9deb-43f2-9c43-8017bd257973",
   "metadata": {
    "tags": []
   },
   "outputs": [],
   "source": [
    "#col_transf.get_feature_names_out()"
   ]
  },
  {
   "cell_type": "code",
   "execution_count": null,
   "id": "3c590ead-9147-4168-a987-c3bb3806aead",
   "metadata": {
    "tags": []
   },
   "outputs": [],
   "source": [
    "# Realizar a transformação e criar um DataFrame temporário com as colunas transformadas\n",
    "#transformed_data = col_transf.fit_transform(X)\n",
    "#transformed_columns = col_transf.get_feature_names_out()\n",
    "#df_transformed = pd.DataFrame(transformed_data, columns=transformed_columns, index=X.index)\n",
    "\n",
    "# Substituir as colunas de X pelas colunas transformadas\n",
    "#X = df_transformed"
   ]
  },
  {
   "cell_type": "code",
   "execution_count": null,
   "id": "5b0bd7b4-21e0-48b8-a935-74ff71c236ec",
   "metadata": {
    "tags": []
   },
   "outputs": [],
   "source": [
    "# Dividir os dados em treino e teste\n",
    "X_train, X_test, y_train, y_test = train_test_split(X, y, test_size=0.2, random_state=42)"
   ]
  },
  {
   "cell_type": "markdown",
   "id": "9cb1dd0b-4bae-4574-9a99-a21cc9f9fe94",
   "metadata": {},
   "source": [
    "# Testando o modelo do tipo XGBClassifier"
   ]
  },
  {
   "cell_type": "code",
   "execution_count": null,
   "id": "3b9dfcf9-a974-411a-bbac-4d7d4e754cea",
   "metadata": {
    "tags": []
   },
   "outputs": [],
   "source": [
    "!pip install xgboost -q"
   ]
  },
  {
   "cell_type": "code",
   "execution_count": null,
   "id": "35edf2a1-e57d-4bc4-b8b1-3ad6483cfb88",
   "metadata": {
    "tags": []
   },
   "outputs": [],
   "source": [
    "import numpy as np\n",
    "from sklearn.pipeline import Pipeline\n",
    "from sklearn.preprocessing import StandardScaler\n",
    "from xgboost import XGBClassifier\n",
    "from sklearn.model_selection import GridSearchCV\n",
    "from sklearn.metrics import f1_score\n",
    "\n",
    "# Mapeando as classes do target\n",
    "y_train_mapped = y_train  \n",
    "\n",
    "# Criar pipeline com normalização e modelo XGBoost\n",
    "pipeline = Pipeline([\n",
    "    ('scaler', StandardScaler()),\n",
    "    ('xgb', XGBClassifier(objective='multi:softmax', num_class=3, random_state=42))\n",
    "])\n",
    "\n",
    "# Definir hiperparâmetros para o Grid Search\n",
    "param_grid = {\n",
    "    'xgb__n_estimators': [250, 300, 350],\n",
    "    'xgb__max_depth': [2, 3, 4],\n",
    "    'xgb__learning_rate': [0.1]\n",
    "}\n",
    "\n",
    "# Grid Search com validação cruzada\n",
    "grid_search = GridSearchCV(pipeline, param_grid, cv=3, scoring='f1_macro', n_jobs=-1)\n",
    "grid_search.fit(X_train, y_train_mapped)  # Usando y_train_mapped\n",
    "\n",
    "# Melhor modelo encontrado\n",
    "gb_best = grid_search.best_estimator_\n",
    "print(f\"Melhores hiperparâmetros: {grid_search.best_params_}\")\n",
    "\n",
    "# F1 score no conjunto de teste\n",
    "y_test_mapped = y_test \n",
    "y_pred = gb_best.predict(X_test)\n",
    "f1 = f1_score(y_test_mapped, y_pred, average='macro')  # Calcular F1 score para multiclasse\n",
    "print(f\"F1 Score: {f1:.2f}\")"
   ]
  },
  {
   "cell_type": "code",
   "execution_count": null,
   "id": "30a2695d-e1fc-4fc9-ab18-31548195b182",
   "metadata": {
    "tags": []
   },
   "outputs": [],
   "source": [
    "from sklearn.metrics import ConfusionMatrixDisplay\n",
    "import matplotlib.pyplot as plt\n",
    "\n",
    "# Gerar e exibir a matriz de confusão diretamente a partir do estimador\n",
    "ConfusionMatrixDisplay.from_estimator(grid_search.best_estimator_, X_test, y_test, cmap='Blues')\n",
    "# Personalizar o gráfico\n",
    "plt.title('Matriz de Confusão')\n",
    "plt.show()"
   ]
  },
  {
   "cell_type": "code",
   "execution_count": null,
   "id": "6a2cbd5d-85d5-4e96-944f-62af303e2925",
   "metadata": {
    "tags": []
   },
   "outputs": [],
   "source": [
    "from sklearn.inspection import permutation_importance"
   ]
  },
  {
   "cell_type": "code",
   "execution_count": null,
   "id": "2ebd1f7f-d751-4ed5-99da-49568b3a53c4",
   "metadata": {
    "tags": []
   },
   "outputs": [],
   "source": [
    "# 7- Importância das features por permutação\n",
    "# Obter o melhor modelo treinado do GridSearchCV\n",
    "best_model = grid_search.best_estimator_"
   ]
  },
  {
   "cell_type": "code",
   "execution_count": null,
   "id": "61053d11-a9f2-4b4e-ba2b-4adda0900336",
   "metadata": {
    "tags": []
   },
   "outputs": [],
   "source": [
    "# Calcular a importância das features por permutação\n",
    "perm_importance = permutation_importance(best_model, X_test, y_test, n_repeats=10, random_state=42)"
   ]
  },
  {
   "cell_type": "code",
   "execution_count": null,
   "id": "a64067fb-0b38-4a95-934d-a5e4b619af52",
   "metadata": {
    "tags": []
   },
   "outputs": [],
   "source": [
    "# Obter as importâncias médias e o desvio padrão das importâncias\n",
    "importances_mean = perm_importance.importances_mean\n",
    "importances_std = perm_importance.importances_std\n",
    "features = X_test.columns"
   ]
  },
  {
   "cell_type": "code",
   "execution_count": null,
   "id": "c185d423-2bca-4cd0-a0fa-cb3ff5b30289",
   "metadata": {
    "tags": []
   },
   "outputs": [],
   "source": [
    "# Obter as importâncias médias e o desvio padrão das importâncias\n",
    "importance_vals = perm_importance.importances_mean\n",
    "importance_std = perm_importance.importances_std\n",
    "features = X_test.columns"
   ]
  },
  {
   "cell_type": "code",
   "execution_count": null,
   "id": "1ac3ca86-a8f0-47f6-a26c-b63da7db6ce3",
   "metadata": {
    "tags": []
   },
   "outputs": [],
   "source": [
    "# Ordenar as importâncias em ordem decrescente\n",
    "indices = np.argsort(importance_vals)[::-1]"
   ]
  },
  {
   "cell_type": "code",
   "execution_count": null,
   "id": "b9e9eb82-5e79-4bf4-bdee-f741c8c789a8",
   "metadata": {
    "tags": []
   },
   "outputs": [],
   "source": [
    "# Plotar a importância das features na horizontal com desvio padrão\n",
    "plt.figure(figsize=(10, 6))\n",
    "plt.title(\"Importância das Features por Permutação\")\n",
    "plt.barh(range(len(importance_vals)), importance_vals[indices], xerr=importance_std[indices], align=\"center\", color='skyblue')\n",
    "plt.yticks(range(len(importance_vals)), features[indices])\n",
    "plt.gca().invert_yaxis()  # Inverter o eixo Y para que a feature mais importante fique no topo\n",
    "plt.xlabel('Importância (por permutação)')\n",
    "plt.ylabel('Features')\n",
    "plt.tight_layout()\n",
    "plt.show()"
   ]
  },
  {
   "cell_type": "code",
   "execution_count": null,
   "id": "5d38217f-4ac1-4e4b-b3b6-780c7737cd49",
   "metadata": {
    "tags": []
   },
   "outputs": [],
   "source": [
    "# Criar uma lista de tuplas com a importância, desvio padrão e o nome da feature\n",
    "feature_importance = list(zip(features, importance_vals, importance_std))\n",
    "\n",
    "# Ordenar pela importância de forma decrescente\n",
    "feature_importance.sort(key=lambda x: x[1], reverse=True)\n",
    "\n",
    "# Exibir a lista de importância das features\n",
    "print(\"Importância das Features por Permutação:\")\n",
    "for feature, importance, std in feature_importance:\n",
    "    print(f\"Feature: {feature}, Importância: {importance:.4f}, Desvio Padrão: {std:.4f}\")"
   ]
  },
  {
   "cell_type": "code",
   "execution_count": null,
   "id": "a470dd05-d609-4ab3-9e31-b7d8ae6af8ae",
   "metadata": {
    "tags": []
   },
   "outputs": [],
   "source": [
    "# 7. Criar um DataFrame com as importâncias\n",
    "importance_df = pd.DataFrame({\n",
    "    'Feature': X_test.columns,\n",
    "    'Importance': perm_importance.importances_mean\n",
    "})\n",
    "\n",
    "# 8. Filtrar as features com importância maior que zero\n",
    "important_features = importance_df[importance_df['Importance'] > 0.001]\n",
    "\n",
    "print(\"Features com importância maior que zero:\")\n",
    "print(important_features)\n",
    "\n",
    "# 9. Selecionar apenas as colunas importantes no conjunto de dados\n",
    "X_train_filtered = X_train[important_features['Feature']]\n",
    "X_test_filtered = X_test[important_features['Feature']]\n",
    "\n",
    "# Grid Search com validação cruzada\n",
    "grid_search = GridSearchCV(pipeline, param_grid, cv=3, scoring='f1', n_jobs=-1)\n",
    "grid_search.fit(X_train_filtered, y_train)\n",
    "\n",
    "# Melhor modelo encontrado\n",
    "gb_best = grid_search.best_estimator_\n",
    "print(f\"Melhores hiperparâmetros: {grid_search.best_params_}\")\n",
    "# F1 score\n",
    "y_pred = gb_best.predict(X_test_filtered)\n",
    "f1 = f1_score(y_test, y_pred, average='macro')\n",
    "print(f\"F1 Score: {f1:.2f}\")"
   ]
  },
  {
   "cell_type": "markdown",
   "id": "dfb5f909-5bd8-40b4-8552-efa3e14900a4",
   "metadata": {},
   "source": [
    "# Testando o modelo Árvore de decisão"
   ]
  },
  {
   "cell_type": "code",
   "execution_count": null,
   "id": "78184ac2-c39b-4631-8502-f2209654eaa4",
   "metadata": {
    "tags": []
   },
   "outputs": [],
   "source": [
    "# Importando as bibliotecas\n",
    "from sklearn.model_selection import train_test_split\n",
    "from sklearn.tree import DecisionTreeClassifier, plot_tree\n",
    "from sklearn.metrics import accuracy_score, classification_report\n",
    "import pandas as pd\n",
    "import matplotlib.pyplot as plt"
   ]
  },
  {
   "cell_type": "code",
   "execution_count": null,
   "id": "eef20f48-927c-4fe6-b6d2-3d739a6c5086",
   "metadata": {
    "tags": []
   },
   "outputs": [],
   "source": [
    "# Filtrar as features com importância maior que 0.001\n",
    "important_features = importance_df[importance_df['Importance'] > 0.001]['Feature'].tolist()\n"
   ]
  },
  {
   "cell_type": "code",
   "execution_count": null,
   "id": "de78d54a-d95d-4b55-86e9-8ffbfc6810c7",
   "metadata": {
    "tags": []
   },
   "outputs": [],
   "source": [
    "# Selecionar apenas as important_features do df_pessoas_final_rf\n",
    "X = df_pessoas_final_rf[important_features]\n",
    "y = df_pessoas_final_rf['classe_renda']  # Variável target (supõe-se que seja 'classe_renda')"
   ]
  },
  {
   "cell_type": "code",
   "execution_count": null,
   "id": "d7d744b4-8c6a-4b2e-bfe3-fccf91dc13f4",
   "metadata": {
    "tags": []
   },
   "outputs": [],
   "source": [
    "# Dividir os dados em treino e teste (70% treino e 30% teste)\n",
    "X_train, X_test, y_train, y_test = train_test_split(X, y, test_size=0.3, random_state=42)"
   ]
  },
  {
   "cell_type": "code",
   "execution_count": null,
   "id": "f50d92a4-8ca8-4466-b46d-f5b98ee28527",
   "metadata": {
    "tags": []
   },
   "outputs": [],
   "source": [
    "# Criar e treinar o modelo de Árvore de Decisão\n",
    "decision_tree = DecisionTreeClassifier(random_state=42, max_depth=3)\n",
    "decision_tree.fit(X_train, y_train)"
   ]
  },
  {
   "cell_type": "code",
   "execution_count": null,
   "id": "b7fcd63d-5fc6-40ad-bea6-19425a959a90",
   "metadata": {
    "tags": []
   },
   "outputs": [],
   "source": [
    "# Fazer previsões nos dados de teste\n",
    "y_pred = decision_tree.predict(X_test)"
   ]
  },
  {
   "cell_type": "code",
   "execution_count": null,
   "id": "8ab6326b-d095-46f4-9fd5-747b75fecfe6",
   "metadata": {
    "tags": []
   },
   "outputs": [],
   "source": [
    "# Avaliar o modelo\n",
    "accuracy = accuracy_score(y_test, y_pred)\n",
    "print(f\"Acurácia do modelo: {accuracy:.4f}\")\n",
    "print(\"\\nRelatório de Classificação:\")\n",
    "print(classification_report(y_test, y_pred))"
   ]
  },
  {
   "cell_type": "code",
   "execution_count": null,
   "id": "11132df9-7a98-4628-b065-faaa44bc4252",
   "metadata": {
    "tags": []
   },
   "outputs": [],
   "source": [
    "# Importância das features utilizadas pelo modelo\n",
    "feature_importances = pd.DataFrame({\n",
    "    'Feature': X.columns,\n",
    "    'Importance': decision_tree.feature_importances_\n",
    "}).sort_values(by='Importance', ascending=False)"
   ]
  },
  {
   "cell_type": "code",
   "execution_count": null,
   "id": "b8db0b01-fa03-43d5-bdec-521ca08b1f74",
   "metadata": {
    "tags": []
   },
   "outputs": [],
   "source": [
    "print(\"\\nImportância das Features no Modelo de Árvore de Decisão:\")\n",
    "print(feature_importances)"
   ]
  },
  {
   "cell_type": "code",
   "execution_count": null,
   "id": "527cf3a6-7a6b-4c85-ac70-9306255e37e7",
   "metadata": {
    "tags": []
   },
   "outputs": [],
   "source": [
    "# Plotar a Árvore de Decisão\n",
    "plt.figure(figsize=(20, 10))\n",
    "plot_tree(\n",
    "    decision_tree, \n",
    "    feature_names=X.columns, \n",
    "    class_names=['Classe 0', 'Classe 1', 'Classe 2'],  # Substitua pelos nomes das classes reais, se necessário\n",
    "    filled=True, \n",
    "    rounded=True, \n",
    "    fontsize=10\n",
    ")\n",
    "plt.title(\"Árvore de Decisão - Importância das Features\")\n",
    "plt.show()"
   ]
  },
  {
   "cell_type": "markdown",
   "id": "6fecfb4f-4148-4247-a57a-52a16da71bd2",
   "metadata": {},
   "source": [
    "# Testando o modelo RandomForest"
   ]
  },
  {
   "cell_type": "code",
   "execution_count": null,
   "id": "0ddb5abc-46d3-4d7f-942d-0beac205474a",
   "metadata": {
    "tags": []
   },
   "outputs": [],
   "source": [
    "from sklearn.model_selection import train_test_split\n",
    "from sklearn.ensemble import RandomForestClassifier\n",
    "from sklearn.metrics import accuracy_score, classification_report, confusion_matrix\n",
    "import pandas as pd\n",
    "import numpy as np\n",
    "import matplotlib.pyplot as plt\n",
    "import seaborn as sns"
   ]
  },
  {
   "cell_type": "code",
   "execution_count": null,
   "id": "c351a70e-0c90-4033-9716-8af56b7c22fb",
   "metadata": {
    "tags": []
   },
   "outputs": [],
   "source": [
    "# Filtrar as features com importância maior que 0.001\n",
    "important_features = importance_df[importance_df['Importance'] > 0.001]['Feature'].tolist()\n"
   ]
  },
  {
   "cell_type": "code",
   "execution_count": null,
   "id": "d18aabf1-44cc-40f0-985f-c0ce0d90c776",
   "metadata": {
    "tags": []
   },
   "outputs": [],
   "source": [
    "# Selecionar apenas as important_features do df_pessoas_final_rf\n",
    "X = df_pessoas_final_rf[important_features]\n",
    "y = df_pessoas_final_rf['classe_renda']  # Variável target (supõe-se que seja 'classe_renda')"
   ]
  },
  {
   "cell_type": "code",
   "execution_count": null,
   "id": "6dd990bb-cf21-470a-b93f-d86ee8783798",
   "metadata": {
    "tags": []
   },
   "outputs": [],
   "source": [
    "# Dividir os dados em treino e teste (70% treino e 30% teste)\n",
    "X_train, X_test, y_train, y_test = train_test_split(X, y, test_size=0.3, random_state=42)"
   ]
  },
  {
   "cell_type": "code",
   "execution_count": null,
   "id": "9342dcbd-4c06-4d31-8100-f71af0cdaae9",
   "metadata": {
    "tags": []
   },
   "outputs": [],
   "source": [
    "# Criar e treinar o modelo Random Forest\n",
    "random_forest = RandomForestClassifier(n_estimators=100, random_state=42, max_depth=10, n_jobs=-1)\n",
    "random_forest.fit(X_train, y_train)"
   ]
  },
  {
   "cell_type": "code",
   "execution_count": null,
   "id": "b47605c4-c40d-4c94-8cd4-dbccd3288316",
   "metadata": {
    "tags": []
   },
   "outputs": [],
   "source": [
    "# Fazer previsões nos dados de teste\n",
    "y_pred = random_forest.predict(X_test)"
   ]
  },
  {
   "cell_type": "code",
   "execution_count": null,
   "id": "c032768d-cdb9-4ca1-9cdd-2d6f091c7d49",
   "metadata": {
    "tags": []
   },
   "outputs": [],
   "source": [
    "# Avaliar o modelo\n",
    "accuracy = accuracy_score(y_test, y_pred)\n",
    "print(f\"Acurácia do modelo: {accuracy:.4f}\")\n",
    "print(\"\\nRelatório de Classificação:\")\n",
    "print(classification_report(y_test, y_pred))"
   ]
  },
  {
   "cell_type": "code",
   "execution_count": null,
   "id": "827aaa68-4cd2-42ca-ac03-d4ae16c7d9c6",
   "metadata": {
    "tags": []
   },
   "outputs": [],
   "source": [
    "# Matriz de Confusão\n",
    "cm = confusion_matrix(y_test, y_pred)\n",
    "plt.figure(figsize=(8, 6))\n",
    "sns.heatmap(cm, annot=True, fmt='d', cmap='Blues', xticklabels=['Classe 0', 'Classe 1', 'Classe 2'], \n",
    "            yticklabels=['Classe 0', 'Classe 1', 'Classe 2'])\n",
    "plt.xlabel('Predicted')\n",
    "plt.ylabel('Actual')\n",
    "plt.title('Confusion Matrix - Random Forest')\n",
    "plt.show()"
   ]
  },
  {
   "cell_type": "code",
   "execution_count": null,
   "id": "8c4de396-1ad3-4b76-bad0-0d957fbf78a4",
   "metadata": {
    "tags": []
   },
   "outputs": [],
   "source": [
    "# Importância das features utilizadas pelo modelo\n",
    "feature_importances = pd.DataFrame({\n",
    "    'Feature': X.columns,\n",
    "    'Importance': random_forest.feature_importances_\n",
    "}).sort_values(by='Importance', ascending=False)"
   ]
  },
  {
   "cell_type": "code",
   "execution_count": null,
   "id": "66ebf445-16ba-4b3e-8953-a1dbfc2eb1ca",
   "metadata": {
    "tags": []
   },
   "outputs": [],
   "source": [
    "print(\"\\nImportância das Features no Modelo Random Forest:\")\n",
    "print(feature_importances)"
   ]
  },
  {
   "cell_type": "markdown",
   "id": "9aa8c4bc-57e1-43d1-8e68-d5e9f447dd1f",
   "metadata": {},
   "source": [
    "# Testando o modelo CatBoost"
   ]
  },
  {
   "cell_type": "code",
   "execution_count": null,
   "id": "30f84c99-a667-4b7b-9fbb-ce08309c8016",
   "metadata": {
    "tags": []
   },
   "outputs": [],
   "source": [
    "!pip install catboost -q"
   ]
  },
  {
   "cell_type": "code",
   "execution_count": null,
   "id": "c7753f17-7ba9-4b53-97d1-447259ce67c1",
   "metadata": {
    "tags": []
   },
   "outputs": [],
   "source": [
    "# Importar bibliotecas necessárias\n",
    "import pandas as pd\n",
    "from catboost import CatBoostClassifier, Pool\n",
    "from sklearn.model_selection import train_test_split\n",
    "from sklearn.metrics import classification_report, accuracy_score"
   ]
  },
  {
   "cell_type": "code",
   "execution_count": null,
   "id": "0ebe432d-03b0-44c5-a524-a6747a42e3cb",
   "metadata": {
    "tags": []
   },
   "outputs": [],
   "source": [
    "# Filtrar as features com importância maior que 0.001\n",
    "important_features = importance_df[importance_df['Importance'] > 0.001]['Feature'].tolist()"
   ]
  },
  {
   "cell_type": "code",
   "execution_count": null,
   "id": "8c4cada9-3aba-425b-aa7a-c3486207e462",
   "metadata": {
    "tags": []
   },
   "outputs": [],
   "source": [
    "# Selecionar apenas as important_features do df_pessoas_final_rf\n",
    "X = df_pessoas_final_rf[important_features]\n",
    "y = df_pessoas_final_rf['classe_renda']  # Variável target (supõe-se que seja 'classe_renda')"
   ]
  },
  {
   "cell_type": "code",
   "execution_count": null,
   "id": "778421b1-b8ca-4d7e-a3a8-e12ea77c0986",
   "metadata": {
    "tags": []
   },
   "outputs": [],
   "source": [
    "X.info()"
   ]
  },
  {
   "cell_type": "code",
   "execution_count": null,
   "id": "acb72619-107a-4333-8e23-543b467e2a76",
   "metadata": {
    "tags": []
   },
   "outputs": [],
   "source": [
    "# Dividir os dados em conjuntos de treino e teste\n",
    "X_train, X_test, y_train, y_test = train_test_split(X, y, test_size=0.2, random_state=42)"
   ]
  },
  {
   "cell_type": "code",
   "execution_count": null,
   "id": "dcf6adb7-8016-4132-af59-8a041869ec20",
   "metadata": {
    "tags": []
   },
   "outputs": [],
   "source": [
    "# Certifique-se de que important_features seja uma lista ou um objeto Index\n",
    "cat_features_list = list(important_features)  # Converte important_features para uma lista de strings"
   ]
  },
  {
   "cell_type": "code",
   "execution_count": null,
   "id": "738befa6-dca2-4cee-8d17-989ef953bf96",
   "metadata": {
    "tags": []
   },
   "outputs": [],
   "source": [
    "# Criar o Pool do CatBoost para lidar com as colunas categóricas\n",
    "train_pool = Pool(data=X_train, label=y_train, cat_features=cat_features_list)\n",
    "test_pool = Pool(data=X_test, label=y_test, cat_features=cat_features_list)"
   ]
  },
  {
   "cell_type": "code",
   "execution_count": null,
   "id": "52e9fb10-70b9-45c8-acd6-d3e49c1000dc",
   "metadata": {
    "tags": []
   },
   "outputs": [],
   "source": [
    "# Instanciar o modelo CatBoostClassifier\n",
    "model = CatBoostClassifier(\n",
    "    iterations=1000,\n",
    "    learning_rate=0.1,\n",
    "    depth=6,\n",
    "    loss_function='MultiClass',\n",
    "    eval_metric='Accuracy',\n",
    "    verbose=100,\n",
    "    random_seed=42\n",
    ")"
   ]
  },
  {
   "cell_type": "code",
   "execution_count": null,
   "id": "bcd80982-a5d9-4d19-925a-d225e73b547b",
   "metadata": {
    "tags": []
   },
   "outputs": [],
   "source": [
    "# Treinar o modelo\n",
    "model.fit(train_pool, eval_set=test_pool, early_stopping_rounds=50)"
   ]
  },
  {
   "cell_type": "code",
   "execution_count": null,
   "id": "d26d6bb7-2cb9-45c8-98e4-080ba08f06cb",
   "metadata": {
    "tags": []
   },
   "outputs": [],
   "source": [
    "# Fazer previsões no conjunto de teste\n",
    "y_pred = model.predict(X_test)\n",
    "\n",
    "# Avaliar o modelo\n",
    "print(\"Accuracy:\", accuracy_score(y_test, y_pred))\n",
    "print(\"Classification Report:\\n\", classification_report(y_test, y_pred))"
   ]
  },
  {
   "cell_type": "code",
   "execution_count": null,
   "id": "4e1f172c-e5ff-4445-a5fc-8aa0139b4955",
   "metadata": {
    "tags": []
   },
   "outputs": [],
   "source": [
    "# Criar a matriz de confusão\n",
    "cm = confusion_matrix(y_test, y_pred)\n",
    "\n",
    "# Plotar a matriz de confusão\n",
    "plt.figure(figsize=(10, 7))\n",
    "sns.heatmap(cm, annot=True, fmt='d', cmap='Blues', \n",
    "            xticklabels=['Classe 0', 'Classe 1', 'Classe 2'],  # Ajuste os rótulos conforme necessário\n",
    "            yticklabels=['Classe 0', 'Classe 1', 'Classe 2'])  # Ajuste os rótulos conforme necessário\n",
    "plt.title('Matriz de Confusão')\n",
    "plt.xlabel('Classe Prevista')\n",
    "plt.ylabel('Classe Real')\n",
    "plt.show()"
   ]
  },
  {
   "cell_type": "code",
   "execution_count": null,
   "id": "26eafa6d-4112-4ec4-8a05-c6f736658182",
   "metadata": {
    "tags": []
   },
   "outputs": [],
   "source": [
    "# Exibir a importância das features\n",
    "feature_importances = model.get_feature_importance(prettified=True)\n",
    "print(\"Feature Importances:\\n\", feature_importances)"
   ]
  },
  {
   "cell_type": "markdown",
   "id": "4df050a0-da93-4fa6-9a76-9e3df412444f",
   "metadata": {},
   "source": [
    "# Resumindo o resultado de todos os modelos"
   ]
  },
  {
   "cell_type": "code",
   "execution_count": null,
   "id": "8ca6aeae-dc9b-4d52-8098-f205e89a8c8d",
   "metadata": {
    "tags": []
   },
   "outputs": [],
   "source": [
    "import pandas as pd\n",
    "from sklearn.metrics import accuracy_score, precision_score, recall_score, f1_score"
   ]
  },
  {
   "cell_type": "code",
   "execution_count": null,
   "id": "c72e5556-3f65-4fef-b955-3a2df3bf07fe",
   "metadata": {
    "tags": []
   },
   "outputs": [],
   "source": [
    "# Modelos treinados e os respectivos conjuntos de teste e predições\n",
    "\n",
    "models = {'XGBoost with Grid Search': gb_best, \n",
    "          'RandomForestClassifier': random_forest, \n",
    "          'DecisionTreeClassifier': decision_tree,\n",
    "           'CatBoostClassifier': model}\n",
    "#y_test: Variável de target de teste\n",
    "predictions = {'XGBoost with Grid Search': y_pred, 'RandomForestClassifier': y_pred, 'DecisionTreeClassifier': y_pred, 'CatBoostClassifier': y_pred}"
   ]
  },
  {
   "cell_type": "code",
   "execution_count": null,
   "id": "66107dc0-efa3-4099-9d1c-cfcff2f1fa93",
   "metadata": {
    "tags": []
   },
   "outputs": [],
   "source": [
    "# Dicionário para armazenar as métricas dos modelos\n",
    "model_scores = {\n",
    "    'Model': [],\n",
    "    'Accuracy': [],\n",
    "    'Precision': [],\n",
    "    'Recall': [],\n",
    "    'F1 Score': []\n",
    "}"
   ]
  },
  {
   "cell_type": "code",
   "execution_count": null,
   "id": "b1ec6260-6199-4cde-9a84-48aae8bb8f12",
   "metadata": {
    "tags": []
   },
   "outputs": [],
   "source": [
    "# Avaliar cada modelo e armazenar as métricas\n",
    "for model_name, model in models.items():\n",
    "    y_pred = model.predict(X_test)\n",
    "    \n",
    "    # Adicionar o nome do modelo e as respectivas métricas\n",
    "    model_scores['Model'].append(model_name)\n",
    "    model_scores['Accuracy'].append(accuracy_score(y_test, y_pred))\n",
    "    model_scores['Precision'].append(precision_score(y_test, y_pred, average='weighted'))\n",
    "    model_scores['Recall'].append(recall_score(y_test, y_pred, average='weighted'))\n",
    "    model_scores['F1 Score'].append(f1_score(y_test, y_pred, average='weighted'))\n",
    "\n",
    "\n",
    "# Criar um DataFrame para organizar os resultados\n",
    "scores_df = pd.DataFrame(model_scores)\n",
    "\n",
    "# Mostrar o resumo dos scores\n",
    "print(\"Resumo dos Scores dos Modelos:\")\n",
    "print(scores_df)"
   ]
  },
  {
   "cell_type": "code",
   "execution_count": null,
   "id": "40b22ac3-04ef-413f-b214-4973ac95f1fc",
   "metadata": {
    "tags": []
   },
   "outputs": [],
   "source": [
    "# Avaliando as features mais importantes para cada modelo\n",
    "\n",
    "# Dicionário para armazenar as importâncias das features\n",
    "feature_importances_dict = {}\n",
    "\n",
    "# Avaliar a importância das features para cada modelo\n",
    "for model_name, model in models.items():\n",
    "    print(f\"\\nAvaliação do modelo: {model_name}\")\n",
    "\n",
    "    if model_name == \"CatBoostClassifier\":\n",
    "        # Avaliação de importância usando CatBoost\n",
    "        feature_importances = model.get_feature_importance(prettified=True)\n",
    "        \n",
    "        # Criar um DataFrame com as importâncias\n",
    "        importance_df = pd.DataFrame(feature_importances)\n",
    "\n",
    "        # Renomear colunas para 'Feature' e 'Importance'\n",
    "        importance_df.columns = ['Feature', 'Importance']\n",
    "        importance_df['Std'] = None  # Adiciona uma coluna Std como None para manter a estrutura\n",
    "\n",
    "        # Ordenar pela importância de forma decrescente\n",
    "        importance_df = importance_df.sort_values(by='Importance', ascending=False)\n",
    "\n",
    "    else:\n",
    "        # Avaliar a importância das features usando permutação para outros modelos\n",
    "        result = permutation_importance(model, X_test, y_test, n_repeats=10, random_state=42)\n",
    "\n",
    "        # Criar um DataFrame com as importâncias\n",
    "        importance_df = pd.DataFrame({\n",
    "            'Feature': X_test.columns,\n",
    "            'Importance': result.importances_mean,\n",
    "            'Std': result.importances_std\n",
    "        })\n",
    "\n",
    "        # Ordenar pela importância de forma decrescente\n",
    "        importance_df = importance_df.sort_values(by='Importance', ascending=False)\n",
    "\n",
    "    # Exibir as 5 principais features\n",
    "    top_features = importance_df.head(5)\n",
    "    print(\"\\nImportância das Features por Permutação:\" if model_name != \"CatBoostClassifier\" else \"\\nImportância das Features do CatBoost:\")\n",
    "    for index, row in top_features.iterrows():\n",
    "        print(f\"Feature: {row['Feature']}, Importância: {row['Importance']:.4f}, Desvio Padrão: {row['Std']:.4f}\" if row['Std'] is not None else f\"Feature: {row['Feature']}, Importância: {row['Importance']:.4f}\")\n",
    "\n",
    "    # Armazenar as importâncias no dicionário\n",
    "    feature_importances_dict[model_name] = top_features\n"
   ]
  },
  {
   "cell_type": "markdown",
   "id": "02039986-078a-4012-b8f0-8736c40c9be8",
   "metadata": {},
   "source": [
    "# Avaliando o balanceamento das classes"
   ]
  },
  {
   "cell_type": "code",
   "execution_count": null,
   "id": "c991c866-5e33-4d9f-96e4-7f27bea5651f",
   "metadata": {
    "tags": []
   },
   "outputs": [],
   "source": [
    "import pandas as pd\n",
    "import matplotlib.pyplot as plt\n",
    "import seaborn as sns"
   ]
  },
  {
   "cell_type": "code",
   "execution_count": null,
   "id": "d6283e3b-07f7-4f9d-b1e1-aff60915da48",
   "metadata": {
    "tags": []
   },
   "outputs": [],
   "source": [
    "# Verificar a distribuição da variável target\n",
    "target_distribution = df_pessoas_final_rf['classe_renda'].value_counts(normalize=True)"
   ]
  },
  {
   "cell_type": "code",
   "execution_count": null,
   "id": "ef0c9d70-ee29-4cf4-9e6c-dafa34daffb4",
   "metadata": {
    "tags": []
   },
   "outputs": [],
   "source": [
    "print(\"Distribuição da variável target 'classe_renda':\")\n",
    "print(target_distribution)"
   ]
  },
  {
   "cell_type": "code",
   "execution_count": null,
   "id": "5f4ff041-f1ec-4805-822d-6669cc752800",
   "metadata": {
    "tags": []
   },
   "outputs": [],
   "source": [
    "# Plotar a distribuição da variável target\n",
    "plt.figure(figsize=(8, 5))\n",
    "sns.barplot(x=target_distribution.index, y=target_distribution.values)\n",
    "plt.title('Distribuição da Variável Target (classe_renda)')\n",
    "plt.xlabel('Classe de Renda')\n",
    "plt.ylabel('Proporção')\n",
    "plt.xticks(rotation=0)\n",
    "plt.tight_layout()\n",
    "plt.show()"
   ]
  },
  {
   "cell_type": "code",
   "execution_count": null,
   "id": "134bd508-1812-4cc8-bc3b-271ba790106c",
   "metadata": {
    "tags": []
   },
   "outputs": [],
   "source": [
    "# Exibir o número absoluto de ocorrências por classe\n",
    "absolute_distribution = df_pessoas_final_rf['classe_renda'].value_counts()\n",
    "\n",
    "print(\"\\nNúmero absoluto de ocorrências por classe:\")\n",
    "print(absolute_distribution)"
   ]
  },
  {
   "cell_type": "code",
   "execution_count": null,
   "id": "7baa0462-7686-47a6-8593-55bfeccc55f1",
   "metadata": {
    "tags": []
   },
   "outputs": [],
   "source": [
    "pip install imbalanced-learn\n"
   ]
  },
  {
   "cell_type": "code",
   "execution_count": null,
   "id": "ae1de25e-7c30-40ac-98f8-bc42f3c0ba16",
   "metadata": {
    "tags": []
   },
   "outputs": [],
   "source": [
    "import pandas as pd\n",
    "from imblearn.over_sampling import SMOTE\n",
    "from imblearn.under_sampling import RandomUnderSampler\n",
    "from imblearn.pipeline import Pipeline\n",
    "import matplotlib.pyplot as plt\n",
    "import seaborn as sns"
   ]
  },
  {
   "cell_type": "code",
   "execution_count": null,
   "id": "6f2f158e-7a9c-45f3-a170-a5b3a1a6d511",
   "metadata": {
    "tags": []
   },
   "outputs": [],
   "source": [
    "# Separar as features (X) e a variável target (y)\n",
    "X = df_pessoas_final_rf.drop(columns=['classe_renda'])\n",
    "y = df_pessoas_final_rf['classe_renda']"
   ]
  },
  {
   "cell_type": "code",
   "execution_count": null,
   "id": "0939dc16-c746-44b9-8171-a5c3858dd688",
   "metadata": {
    "tags": []
   },
   "outputs": [],
   "source": [
    "# Primeiro, aplica-se o SMOTE para criar amostras sintéticas das classes minoritárias\n",
    "# Depois, faz-se undersampling para reduzir a classe majoritária a um tamanho mais equilibrado\n",
    "over = SMOTE(sampling_strategy={1.0: 35000, 2.0: 35000})  # Aumenta as classes 1 e 2 para 35k cada\n",
    "under = RandomUnderSampler(sampling_strategy={0.0: 40000})  # Reduz a classe 0 para 40k"
   ]
  },
  {
   "cell_type": "code",
   "execution_count": null,
   "id": "862232a9-ba65-4772-a813-91b8be08d526",
   "metadata": {
    "tags": []
   },
   "outputs": [],
   "source": [
    "# Criar um pipeline que aplica SMOTE e depois o undersampling\n",
    "pipeline = Pipeline(steps=[('o', over), ('u', under)])"
   ]
  },
  {
   "cell_type": "code",
   "execution_count": null,
   "id": "4650b645-1223-47e6-abca-92aad69ab0f2",
   "metadata": {
    "tags": []
   },
   "outputs": [],
   "source": [
    "# Aplicar o balanceamento ao conjunto de dados\n",
    "X_balanced, y_balanced = pipeline.fit_resample(X, y)"
   ]
  },
  {
   "cell_type": "code",
   "execution_count": null,
   "id": "ee94b11d-187c-43ea-9841-7febe9e708c1",
   "metadata": {
    "tags": []
   },
   "outputs": [],
   "source": [
    "# Verificar a nova distribuição das classes\n",
    "balanced_distribution = pd.Series(y_balanced).value_counts()\n",
    "\n",
    "print(\"Distribuição da variável target 'classe_renda' após o balanceamento:\")\n",
    "print(balanced_distribution)"
   ]
  },
  {
   "cell_type": "code",
   "execution_count": null,
   "id": "3188c915-342d-4211-a769-bb7fae78bb62",
   "metadata": {
    "tags": []
   },
   "outputs": [],
   "source": [
    "# Visualizar a distribuição das classes após o balanceamento\n",
    "plt.figure(figsize=(8, 5))\n",
    "sns.barplot(x=balanced_distribution.index, y=balanced_distribution.values)\n",
    "plt.title('Distribuição da Variável Target (classe_renda) Após o Balanceamento')\n",
    "plt.xlabel('Classe de Renda')\n",
    "plt.ylabel('Número de Amostras')\n",
    "plt.xticks(rotation=0)\n",
    "plt.tight_layout()\n",
    "plt.show()"
   ]
  },
  {
   "cell_type": "code",
   "execution_count": null,
   "id": "bcf82b66-5b3f-41b3-88e7-b37bb156785b",
   "metadata": {},
   "outputs": [],
   "source": []
  }
 ],
 "metadata": {
  "kernelspec": {
   "display_name": "Python 3 (ipykernel)",
   "language": "python",
   "name": "python3"
  },
  "language_info": {
   "codemirror_mode": {
    "name": "ipython",
    "version": 3
   },
   "file_extension": ".py",
   "mimetype": "text/x-python",
   "name": "python",
   "nbconvert_exporter": "python",
   "pygments_lexer": "ipython3",
   "version": "3.11.4"
  }
 },
 "nbformat": 4,
 "nbformat_minor": 5
}
