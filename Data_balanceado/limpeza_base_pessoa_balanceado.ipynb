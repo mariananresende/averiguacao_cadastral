{
 "cells": [
  {
   "cell_type": "code",
   "execution_count": 1,
   "id": "fb77ba93-0859-4113-978d-d179e961d765",
   "metadata": {
    "tags": []
   },
   "outputs": [],
   "source": [
    "import pandas as pd"
   ]
  },
  {
   "cell_type": "code",
   "execution_count": 2,
   "id": "a9c82419-a87b-434f-af49-424ec9b4e433",
   "metadata": {
    "tags": []
   },
   "outputs": [],
   "source": [
    "# Load the datasets\n",
    "df_pessoas_amostra_100mil_balanceado = pd.read_csv('../Data_balanceado/df_pessoas_amostra_100mil_balanceado.csv', sep=',', dtype={23: 'str'})"
   ]
  },
  {
   "cell_type": "code",
   "execution_count": 3,
   "id": "8028f0d2-f173-44cf-aeb3-2755281889af",
   "metadata": {
    "tags": []
   },
   "outputs": [
    {
     "data": {
      "text/html": [
       "<div>\n",
       "<style scoped>\n",
       "    .dataframe tbody tr th:only-of-type {\n",
       "        vertical-align: middle;\n",
       "    }\n",
       "\n",
       "    .dataframe tbody tr th {\n",
       "        vertical-align: top;\n",
       "    }\n",
       "\n",
       "    .dataframe thead th {\n",
       "        text-align: right;\n",
       "    }\n",
       "</style>\n",
       "<table border=\"1\" class=\"dataframe\">\n",
       "  <thead>\n",
       "    <tr style=\"text-align: right;\">\n",
       "      <th></th>\n",
       "      <th>id_familia</th>\n",
       "      <th>id_pessoa</th>\n",
       "      <th>cod_sexo_pessoa</th>\n",
       "      <th>idade</th>\n",
       "      <th>cod_parentesco_rf_pessoa</th>\n",
       "      <th>cod_raca_cor_pessoa</th>\n",
       "      <th>cod_local_nascimento_pessoa</th>\n",
       "      <th>cod_certidao_registrada_pessoa</th>\n",
       "      <th>cod_deficiencia_memb</th>\n",
       "      <th>cod_sabe_ler_escrever_memb</th>\n",
       "      <th>...</th>\n",
       "      <th>cod_curso_frequentou_pessoa_memb</th>\n",
       "      <th>cod_ano_serie_frequentou_memb</th>\n",
       "      <th>cod_concluiu_frequentou_memb</th>\n",
       "      <th>cod_trabalhou_memb</th>\n",
       "      <th>cod_afastado_trab_memb</th>\n",
       "      <th>cod_agricultura_trab_memb</th>\n",
       "      <th>cod_principal_trab_memb</th>\n",
       "      <th>cod_trabalho_12_meses_memb</th>\n",
       "      <th>qtd_meses_12_meses_memb</th>\n",
       "      <th>peso.pes</th>\n",
       "    </tr>\n",
       "  </thead>\n",
       "  <tbody>\n",
       "    <tr>\n",
       "      <th>0</th>\n",
       "      <td>3712211</td>\n",
       "      <td>12</td>\n",
       "      <td>2</td>\n",
       "      <td>40</td>\n",
       "      <td>1</td>\n",
       "      <td>4.0</td>\n",
       "      <td>2.0</td>\n",
       "      <td>1</td>\n",
       "      <td>2</td>\n",
       "      <td>1.0</td>\n",
       "      <td>...</td>\n",
       "      <td>4.0</td>\n",
       "      <td>3.0</td>\n",
       "      <td>2.0</td>\n",
       "      <td>2.0</td>\n",
       "      <td>2.0</td>\n",
       "      <td>NaN</td>\n",
       "      <td>NaN</td>\n",
       "      <td>2.0</td>\n",
       "      <td>NaN</td>\n",
       "      <td>563282046392612</td>\n",
       "    </tr>\n",
       "    <tr>\n",
       "      <th>1</th>\n",
       "      <td>2806445</td>\n",
       "      <td>79</td>\n",
       "      <td>2</td>\n",
       "      <td>85</td>\n",
       "      <td>1</td>\n",
       "      <td>4.0</td>\n",
       "      <td>1.0</td>\n",
       "      <td>1</td>\n",
       "      <td>2</td>\n",
       "      <td>1.0</td>\n",
       "      <td>...</td>\n",
       "      <td>4.0</td>\n",
       "      <td>4.0</td>\n",
       "      <td>1.0</td>\n",
       "      <td>2.0</td>\n",
       "      <td>2.0</td>\n",
       "      <td>NaN</td>\n",
       "      <td>NaN</td>\n",
       "      <td>2.0</td>\n",
       "      <td>NaN</td>\n",
       "      <td>563290928045512</td>\n",
       "    </tr>\n",
       "    <tr>\n",
       "      <th>2</th>\n",
       "      <td>1040417</td>\n",
       "      <td>90</td>\n",
       "      <td>1</td>\n",
       "      <td>6</td>\n",
       "      <td>3</td>\n",
       "      <td>1.0</td>\n",
       "      <td>2.0</td>\n",
       "      <td>1</td>\n",
       "      <td>2</td>\n",
       "      <td>1.0</td>\n",
       "      <td>...</td>\n",
       "      <td>NaN</td>\n",
       "      <td>NaN</td>\n",
       "      <td>NaN</td>\n",
       "      <td>NaN</td>\n",
       "      <td>NaN</td>\n",
       "      <td>NaN</td>\n",
       "      <td>NaN</td>\n",
       "      <td>NaN</td>\n",
       "      <td>NaN</td>\n",
       "      <td>563275906954283</td>\n",
       "    </tr>\n",
       "    <tr>\n",
       "      <th>3</th>\n",
       "      <td>3562848</td>\n",
       "      <td>92</td>\n",
       "      <td>2</td>\n",
       "      <td>0</td>\n",
       "      <td>3</td>\n",
       "      <td>1.0</td>\n",
       "      <td>1.0</td>\n",
       "      <td>1</td>\n",
       "      <td>2</td>\n",
       "      <td>2.0</td>\n",
       "      <td>...</td>\n",
       "      <td>NaN</td>\n",
       "      <td>NaN</td>\n",
       "      <td>NaN</td>\n",
       "      <td>NaN</td>\n",
       "      <td>NaN</td>\n",
       "      <td>NaN</td>\n",
       "      <td>NaN</td>\n",
       "      <td>NaN</td>\n",
       "      <td>NaN</td>\n",
       "      <td>563262786794011</td>\n",
       "    </tr>\n",
       "    <tr>\n",
       "      <th>4</th>\n",
       "      <td>3655265</td>\n",
       "      <td>95</td>\n",
       "      <td>2</td>\n",
       "      <td>64</td>\n",
       "      <td>1</td>\n",
       "      <td>1.0</td>\n",
       "      <td>1.0</td>\n",
       "      <td>1</td>\n",
       "      <td>1</td>\n",
       "      <td>2.0</td>\n",
       "      <td>...</td>\n",
       "      <td>NaN</td>\n",
       "      <td>NaN</td>\n",
       "      <td>NaN</td>\n",
       "      <td>2.0</td>\n",
       "      <td>2.0</td>\n",
       "      <td>NaN</td>\n",
       "      <td>NaN</td>\n",
       "      <td>2.0</td>\n",
       "      <td>NaN</td>\n",
       "      <td>563288835615443</td>\n",
       "    </tr>\n",
       "  </tbody>\n",
       "</table>\n",
       "<p>5 rows × 24 columns</p>\n",
       "</div>"
      ],
      "text/plain": [
       "   id_familia  id_pessoa  cod_sexo_pessoa  idade  cod_parentesco_rf_pessoa  \\\n",
       "0     3712211         12                2     40                         1   \n",
       "1     2806445         79                2     85                         1   \n",
       "2     1040417         90                1      6                         3   \n",
       "3     3562848         92                2      0                         3   \n",
       "4     3655265         95                2     64                         1   \n",
       "\n",
       "   cod_raca_cor_pessoa  cod_local_nascimento_pessoa  \\\n",
       "0                  4.0                          2.0   \n",
       "1                  4.0                          1.0   \n",
       "2                  1.0                          2.0   \n",
       "3                  1.0                          1.0   \n",
       "4                  1.0                          1.0   \n",
       "\n",
       "   cod_certidao_registrada_pessoa  cod_deficiencia_memb  \\\n",
       "0                               1                     2   \n",
       "1                               1                     2   \n",
       "2                               1                     2   \n",
       "3                               1                     2   \n",
       "4                               1                     1   \n",
       "\n",
       "   cod_sabe_ler_escrever_memb  ...  cod_curso_frequentou_pessoa_memb  \\\n",
       "0                         1.0  ...                               4.0   \n",
       "1                         1.0  ...                               4.0   \n",
       "2                         1.0  ...                               NaN   \n",
       "3                         2.0  ...                               NaN   \n",
       "4                         2.0  ...                               NaN   \n",
       "\n",
       "   cod_ano_serie_frequentou_memb  cod_concluiu_frequentou_memb  \\\n",
       "0                            3.0                           2.0   \n",
       "1                            4.0                           1.0   \n",
       "2                            NaN                           NaN   \n",
       "3                            NaN                           NaN   \n",
       "4                            NaN                           NaN   \n",
       "\n",
       "   cod_trabalhou_memb  cod_afastado_trab_memb  cod_agricultura_trab_memb  \\\n",
       "0                 2.0                     2.0                        NaN   \n",
       "1                 2.0                     2.0                        NaN   \n",
       "2                 NaN                     NaN                        NaN   \n",
       "3                 NaN                     NaN                        NaN   \n",
       "4                 2.0                     2.0                        NaN   \n",
       "\n",
       "   cod_principal_trab_memb  cod_trabalho_12_meses_memb  \\\n",
       "0                      NaN                         2.0   \n",
       "1                      NaN                         2.0   \n",
       "2                      NaN                         NaN   \n",
       "3                      NaN                         NaN   \n",
       "4                      NaN                         2.0   \n",
       "\n",
       "   qtd_meses_12_meses_memb         peso.pes  \n",
       "0                      NaN  563282046392612  \n",
       "1                      NaN  563290928045512  \n",
       "2                      NaN  563275906954283  \n",
       "3                      NaN  563262786794011  \n",
       "4                      NaN  563288835615443  \n",
       "\n",
       "[5 rows x 24 columns]"
      ]
     },
     "execution_count": 3,
     "metadata": {},
     "output_type": "execute_result"
    }
   ],
   "source": [
    "df_pessoas_amostra_100mil_balanceado.head()"
   ]
  },
  {
   "cell_type": "code",
   "execution_count": 4,
   "id": "b045ed7c-8d99-4594-b3b7-27769fb1981e",
   "metadata": {
    "tags": []
   },
   "outputs": [
    {
     "data": {
      "text/plain": [
       "(248842, 24)"
      ]
     },
     "execution_count": 4,
     "metadata": {},
     "output_type": "execute_result"
    }
   ],
   "source": [
    "df_pessoas_amostra_100mil_balanceado.shape"
   ]
  },
  {
   "cell_type": "code",
   "execution_count": 5,
   "id": "d55ef10e-1716-4187-81db-179aa41a5309",
   "metadata": {
    "tags": []
   },
   "outputs": [
    {
     "name": "stdout",
     "output_type": "stream",
     "text": [
      "<class 'pandas.core.frame.DataFrame'>\n",
      "RangeIndex: 248842 entries, 0 to 248841\n",
      "Data columns (total 24 columns):\n",
      " #   Column                            Non-Null Count   Dtype  \n",
      "---  ------                            --------------   -----  \n",
      " 0   id_familia                        248842 non-null  int64  \n",
      " 1   id_pessoa                         248842 non-null  int64  \n",
      " 2   cod_sexo_pessoa                   248842 non-null  int64  \n",
      " 3   idade                             248842 non-null  int64  \n",
      " 4   cod_parentesco_rf_pessoa          248842 non-null  int64  \n",
      " 5   cod_raca_cor_pessoa               248719 non-null  float64\n",
      " 6   cod_local_nascimento_pessoa       247571 non-null  float64\n",
      " 7   cod_certidao_registrada_pessoa    248842 non-null  int64  \n",
      " 8   cod_deficiencia_memb              248842 non-null  int64  \n",
      " 9   cod_sabe_ler_escrever_memb        248814 non-null  float64\n",
      " 10  ind_frequenta_escola_memb         248814 non-null  float64\n",
      " 11  cod_escola_local_memb             74294 non-null   float64\n",
      " 12  cod_curso_frequenta_memb          74853 non-null   float64\n",
      " 13  cod_ano_serie_frequenta_memb      59103 non-null   float64\n",
      " 14  cod_curso_frequentou_pessoa_memb  139332 non-null  float64\n",
      " 15  cod_ano_serie_frequentou_memb     131544 non-null  float64\n",
      " 16  cod_concluiu_frequentou_memb      131548 non-null  float64\n",
      " 17  cod_trabalhou_memb                178730 non-null  float64\n",
      " 18  cod_afastado_trab_memb            122647 non-null  float64\n",
      " 19  cod_agricultura_trab_memb         56085 non-null   float64\n",
      " 20  cod_principal_trab_memb           57630 non-null   float64\n",
      " 21  cod_trabalho_12_meses_memb        178700 non-null  float64\n",
      " 22  qtd_meses_12_meses_memb           60756 non-null   float64\n",
      " 23  peso.pes                          248842 non-null  object \n",
      "dtypes: float64(16), int64(7), object(1)\n",
      "memory usage: 45.6+ MB\n"
     ]
    }
   ],
   "source": [
    "df_pessoas_amostra_100mil_balanceado.info()"
   ]
  },
  {
   "cell_type": "code",
   "execution_count": 6,
   "id": "a4aa75a2-a32d-4ce2-83f6-7d87d44cd291",
   "metadata": {
    "tags": []
   },
   "outputs": [
    {
     "name": "stdout",
     "output_type": "stream",
     "text": [
      "Não existem IDs de pessoa repetidos.\n"
     ]
    }
   ],
   "source": [
    "# Identificar IDs de pessoa que se repetem\n",
    "ids_repetidos = df_pessoas_amostra_100mil_balanceado['id_pessoa'][df_pessoas_amostra_100mil_balanceado['id_pessoa'].duplicated()]\n",
    "\n",
    "# Verificar se existem IDs repetidos e exibir o resultado\n",
    "if not ids_repetidos.empty:\n",
    "    print(f'Existem IDs de pessoa repetidos. Os IDs repetidos são:\\n{ids_repetidos}')\n",
    "else:\n",
    "    print('Não existem IDs de pessoa repetidos.')"
   ]
  },
  {
   "cell_type": "code",
   "execution_count": 7,
   "id": "c1ef9839-7678-4fa4-b186-95d9c6fbcf4c",
   "metadata": {
    "tags": []
   },
   "outputs": [
    {
     "data": {
      "text/html": [
       "<div>\n",
       "<style scoped>\n",
       "    .dataframe tbody tr th:only-of-type {\n",
       "        vertical-align: middle;\n",
       "    }\n",
       "\n",
       "    .dataframe tbody tr th {\n",
       "        vertical-align: top;\n",
       "    }\n",
       "\n",
       "    .dataframe thead th {\n",
       "        text-align: right;\n",
       "    }\n",
       "</style>\n",
       "<table border=\"1\" class=\"dataframe\">\n",
       "  <thead>\n",
       "    <tr style=\"text-align: right;\">\n",
       "      <th></th>\n",
       "      <th>id_familia</th>\n",
       "      <th>id_pessoa</th>\n",
       "      <th>cod_sexo_pessoa</th>\n",
       "      <th>idade</th>\n",
       "      <th>cod_parentesco_rf_pessoa</th>\n",
       "      <th>cod_raca_cor_pessoa</th>\n",
       "      <th>cod_local_nascimento_pessoa</th>\n",
       "      <th>cod_certidao_registrada_pessoa</th>\n",
       "      <th>cod_deficiencia_memb</th>\n",
       "      <th>cod_sabe_ler_escrever_memb</th>\n",
       "      <th>...</th>\n",
       "      <th>cod_ano_serie_frequenta_memb</th>\n",
       "      <th>cod_curso_frequentou_pessoa_memb</th>\n",
       "      <th>cod_ano_serie_frequentou_memb</th>\n",
       "      <th>cod_concluiu_frequentou_memb</th>\n",
       "      <th>cod_trabalhou_memb</th>\n",
       "      <th>cod_afastado_trab_memb</th>\n",
       "      <th>cod_agricultura_trab_memb</th>\n",
       "      <th>cod_principal_trab_memb</th>\n",
       "      <th>cod_trabalho_12_meses_memb</th>\n",
       "      <th>qtd_meses_12_meses_memb</th>\n",
       "    </tr>\n",
       "  </thead>\n",
       "  <tbody>\n",
       "    <tr>\n",
       "      <th>count</th>\n",
       "      <td>2.488420e+05</td>\n",
       "      <td>2.488420e+05</td>\n",
       "      <td>248842.000000</td>\n",
       "      <td>248842.000000</td>\n",
       "      <td>248842.000000</td>\n",
       "      <td>248719.000000</td>\n",
       "      <td>247571.000000</td>\n",
       "      <td>248842.000000</td>\n",
       "      <td>248842.000000</td>\n",
       "      <td>248814.000000</td>\n",
       "      <td>...</td>\n",
       "      <td>59103.000000</td>\n",
       "      <td>139332.000000</td>\n",
       "      <td>131544.000000</td>\n",
       "      <td>131548.000000</td>\n",
       "      <td>178730.000000</td>\n",
       "      <td>122647.000000</td>\n",
       "      <td>56085.000000</td>\n",
       "      <td>57630.000000</td>\n",
       "      <td>178700.000000</td>\n",
       "      <td>60756.000000</td>\n",
       "    </tr>\n",
       "    <tr>\n",
       "      <th>mean</th>\n",
       "      <td>2.675291e+06</td>\n",
       "      <td>6.427804e+06</td>\n",
       "      <td>1.566102</td>\n",
       "      <td>30.751308</td>\n",
       "      <td>2.290984</td>\n",
       "      <td>2.944206</td>\n",
       "      <td>1.464663</td>\n",
       "      <td>1.119538</td>\n",
       "      <td>1.927560</td>\n",
       "      <td>1.238829</td>\n",
       "      <td>...</td>\n",
       "      <td>4.343214</td>\n",
       "      <td>6.223093</td>\n",
       "      <td>3.934683</td>\n",
       "      <td>1.483649</td>\n",
       "      <td>1.686214</td>\n",
       "      <td>1.987387</td>\n",
       "      <td>1.803994</td>\n",
       "      <td>2.622766</td>\n",
       "      <td>1.660011</td>\n",
       "      <td>9.476332</td>\n",
       "    </tr>\n",
       "    <tr>\n",
       "      <th>std</th>\n",
       "      <td>1.537432e+06</td>\n",
       "      <td>3.714740e+06</td>\n",
       "      <td>0.495612</td>\n",
       "      <td>22.012828</td>\n",
       "      <td>1.521869</td>\n",
       "      <td>1.388067</td>\n",
       "      <td>0.506593</td>\n",
       "      <td>0.324730</td>\n",
       "      <td>0.259215</td>\n",
       "      <td>0.426369</td>\n",
       "      <td>...</td>\n",
       "      <td>2.580545</td>\n",
       "      <td>2.227798</td>\n",
       "      <td>2.039231</td>\n",
       "      <td>0.499734</td>\n",
       "      <td>0.464032</td>\n",
       "      <td>0.111599</td>\n",
       "      <td>0.396977</td>\n",
       "      <td>2.093632</td>\n",
       "      <td>0.473706</td>\n",
       "      <td>3.746794</td>\n",
       "    </tr>\n",
       "    <tr>\n",
       "      <th>min</th>\n",
       "      <td>1.050000e+02</td>\n",
       "      <td>5.000000e+00</td>\n",
       "      <td>1.000000</td>\n",
       "      <td>0.000000</td>\n",
       "      <td>1.000000</td>\n",
       "      <td>1.000000</td>\n",
       "      <td>1.000000</td>\n",
       "      <td>1.000000</td>\n",
       "      <td>1.000000</td>\n",
       "      <td>1.000000</td>\n",
       "      <td>...</td>\n",
       "      <td>1.000000</td>\n",
       "      <td>1.000000</td>\n",
       "      <td>1.000000</td>\n",
       "      <td>1.000000</td>\n",
       "      <td>1.000000</td>\n",
       "      <td>1.000000</td>\n",
       "      <td>1.000000</td>\n",
       "      <td>1.000000</td>\n",
       "      <td>1.000000</td>\n",
       "      <td>1.000000</td>\n",
       "    </tr>\n",
       "    <tr>\n",
       "      <th>25%</th>\n",
       "      <td>1.340933e+06</td>\n",
       "      <td>3.206272e+06</td>\n",
       "      <td>1.000000</td>\n",
       "      <td>12.000000</td>\n",
       "      <td>1.000000</td>\n",
       "      <td>1.000000</td>\n",
       "      <td>1.000000</td>\n",
       "      <td>1.000000</td>\n",
       "      <td>2.000000</td>\n",
       "      <td>1.000000</td>\n",
       "      <td>...</td>\n",
       "      <td>2.000000</td>\n",
       "      <td>4.000000</td>\n",
       "      <td>3.000000</td>\n",
       "      <td>1.000000</td>\n",
       "      <td>1.000000</td>\n",
       "      <td>2.000000</td>\n",
       "      <td>2.000000</td>\n",
       "      <td>1.000000</td>\n",
       "      <td>1.000000</td>\n",
       "      <td>6.000000</td>\n",
       "    </tr>\n",
       "    <tr>\n",
       "      <th>50%</th>\n",
       "      <td>2.698621e+06</td>\n",
       "      <td>6.432577e+06</td>\n",
       "      <td>2.000000</td>\n",
       "      <td>27.000000</td>\n",
       "      <td>2.000000</td>\n",
       "      <td>4.000000</td>\n",
       "      <td>1.000000</td>\n",
       "      <td>1.000000</td>\n",
       "      <td>2.000000</td>\n",
       "      <td>1.000000</td>\n",
       "      <td>...</td>\n",
       "      <td>4.000000</td>\n",
       "      <td>5.000000</td>\n",
       "      <td>3.000000</td>\n",
       "      <td>1.000000</td>\n",
       "      <td>2.000000</td>\n",
       "      <td>2.000000</td>\n",
       "      <td>2.000000</td>\n",
       "      <td>1.000000</td>\n",
       "      <td>2.000000</td>\n",
       "      <td>12.000000</td>\n",
       "    </tr>\n",
       "    <tr>\n",
       "      <th>75%</th>\n",
       "      <td>4.016391e+06</td>\n",
       "      <td>9.648320e+06</td>\n",
       "      <td>2.000000</td>\n",
       "      <td>47.000000</td>\n",
       "      <td>3.000000</td>\n",
       "      <td>4.000000</td>\n",
       "      <td>2.000000</td>\n",
       "      <td>1.000000</td>\n",
       "      <td>2.000000</td>\n",
       "      <td>1.000000</td>\n",
       "      <td>...</td>\n",
       "      <td>6.000000</td>\n",
       "      <td>8.000000</td>\n",
       "      <td>5.000000</td>\n",
       "      <td>2.000000</td>\n",
       "      <td>2.000000</td>\n",
       "      <td>2.000000</td>\n",
       "      <td>2.000000</td>\n",
       "      <td>4.000000</td>\n",
       "      <td>2.000000</td>\n",
       "      <td>12.000000</td>\n",
       "    </tr>\n",
       "    <tr>\n",
       "      <th>max</th>\n",
       "      <td>5.290533e+06</td>\n",
       "      <td>1.285254e+07</td>\n",
       "      <td>2.000000</td>\n",
       "      <td>116.000000</td>\n",
       "      <td>11.000000</td>\n",
       "      <td>5.000000</td>\n",
       "      <td>3.000000</td>\n",
       "      <td>4.000000</td>\n",
       "      <td>2.000000</td>\n",
       "      <td>2.000000</td>\n",
       "      <td>...</td>\n",
       "      <td>10.000000</td>\n",
       "      <td>15.000000</td>\n",
       "      <td>10.000000</td>\n",
       "      <td>2.000000</td>\n",
       "      <td>2.000000</td>\n",
       "      <td>2.000000</td>\n",
       "      <td>2.000000</td>\n",
       "      <td>11.000000</td>\n",
       "      <td>2.000000</td>\n",
       "      <td>12.000000</td>\n",
       "    </tr>\n",
       "  </tbody>\n",
       "</table>\n",
       "<p>8 rows × 23 columns</p>\n",
       "</div>"
      ],
      "text/plain": [
       "         id_familia     id_pessoa  cod_sexo_pessoa          idade  \\\n",
       "count  2.488420e+05  2.488420e+05    248842.000000  248842.000000   \n",
       "mean   2.675291e+06  6.427804e+06         1.566102      30.751308   \n",
       "std    1.537432e+06  3.714740e+06         0.495612      22.012828   \n",
       "min    1.050000e+02  5.000000e+00         1.000000       0.000000   \n",
       "25%    1.340933e+06  3.206272e+06         1.000000      12.000000   \n",
       "50%    2.698621e+06  6.432577e+06         2.000000      27.000000   \n",
       "75%    4.016391e+06  9.648320e+06         2.000000      47.000000   \n",
       "max    5.290533e+06  1.285254e+07         2.000000     116.000000   \n",
       "\n",
       "       cod_parentesco_rf_pessoa  cod_raca_cor_pessoa  \\\n",
       "count             248842.000000        248719.000000   \n",
       "mean                   2.290984             2.944206   \n",
       "std                    1.521869             1.388067   \n",
       "min                    1.000000             1.000000   \n",
       "25%                    1.000000             1.000000   \n",
       "50%                    2.000000             4.000000   \n",
       "75%                    3.000000             4.000000   \n",
       "max                   11.000000             5.000000   \n",
       "\n",
       "       cod_local_nascimento_pessoa  cod_certidao_registrada_pessoa  \\\n",
       "count                247571.000000                   248842.000000   \n",
       "mean                      1.464663                        1.119538   \n",
       "std                       0.506593                        0.324730   \n",
       "min                       1.000000                        1.000000   \n",
       "25%                       1.000000                        1.000000   \n",
       "50%                       1.000000                        1.000000   \n",
       "75%                       2.000000                        1.000000   \n",
       "max                       3.000000                        4.000000   \n",
       "\n",
       "       cod_deficiencia_memb  cod_sabe_ler_escrever_memb  ...  \\\n",
       "count         248842.000000               248814.000000  ...   \n",
       "mean               1.927560                    1.238829  ...   \n",
       "std                0.259215                    0.426369  ...   \n",
       "min                1.000000                    1.000000  ...   \n",
       "25%                2.000000                    1.000000  ...   \n",
       "50%                2.000000                    1.000000  ...   \n",
       "75%                2.000000                    1.000000  ...   \n",
       "max                2.000000                    2.000000  ...   \n",
       "\n",
       "       cod_ano_serie_frequenta_memb  cod_curso_frequentou_pessoa_memb  \\\n",
       "count                  59103.000000                     139332.000000   \n",
       "mean                       4.343214                          6.223093   \n",
       "std                        2.580545                          2.227798   \n",
       "min                        1.000000                          1.000000   \n",
       "25%                        2.000000                          4.000000   \n",
       "50%                        4.000000                          5.000000   \n",
       "75%                        6.000000                          8.000000   \n",
       "max                       10.000000                         15.000000   \n",
       "\n",
       "       cod_ano_serie_frequentou_memb  cod_concluiu_frequentou_memb  \\\n",
       "count                  131544.000000                 131548.000000   \n",
       "mean                        3.934683                      1.483649   \n",
       "std                         2.039231                      0.499734   \n",
       "min                         1.000000                      1.000000   \n",
       "25%                         3.000000                      1.000000   \n",
       "50%                         3.000000                      1.000000   \n",
       "75%                         5.000000                      2.000000   \n",
       "max                        10.000000                      2.000000   \n",
       "\n",
       "       cod_trabalhou_memb  cod_afastado_trab_memb  cod_agricultura_trab_memb  \\\n",
       "count       178730.000000           122647.000000               56085.000000   \n",
       "mean             1.686214                1.987387                   1.803994   \n",
       "std              0.464032                0.111599                   0.396977   \n",
       "min              1.000000                1.000000                   1.000000   \n",
       "25%              1.000000                2.000000                   2.000000   \n",
       "50%              2.000000                2.000000                   2.000000   \n",
       "75%              2.000000                2.000000                   2.000000   \n",
       "max              2.000000                2.000000                   2.000000   \n",
       "\n",
       "       cod_principal_trab_memb  cod_trabalho_12_meses_memb  \\\n",
       "count             57630.000000               178700.000000   \n",
       "mean                  2.622766                    1.660011   \n",
       "std                   2.093632                    0.473706   \n",
       "min                   1.000000                    1.000000   \n",
       "25%                   1.000000                    1.000000   \n",
       "50%                   1.000000                    2.000000   \n",
       "75%                   4.000000                    2.000000   \n",
       "max                  11.000000                    2.000000   \n",
       "\n",
       "       qtd_meses_12_meses_memb  \n",
       "count             60756.000000  \n",
       "mean                  9.476332  \n",
       "std                   3.746794  \n",
       "min                   1.000000  \n",
       "25%                   6.000000  \n",
       "50%                  12.000000  \n",
       "75%                  12.000000  \n",
       "max                  12.000000  \n",
       "\n",
       "[8 rows x 23 columns]"
      ]
     },
     "execution_count": 7,
     "metadata": {},
     "output_type": "execute_result"
    }
   ],
   "source": [
    "df_pessoas_amostra_100mil_balanceado.describe()"
   ]
  },
  {
   "cell_type": "code",
   "execution_count": 8,
   "id": "9adcfc63-7578-4c85-b791-443a9dfefe67",
   "metadata": {
    "tags": []
   },
   "outputs": [
    {
     "name": "stdout",
     "output_type": "stream",
     "text": [
      "Número de valores nulos em cada coluna:\n",
      "cod_raca_cor_pessoa                    123\n",
      "cod_local_nascimento_pessoa           1271\n",
      "cod_sabe_ler_escrever_memb              28\n",
      "ind_frequenta_escola_memb               28\n",
      "cod_escola_local_memb               174548\n",
      "cod_curso_frequenta_memb            173989\n",
      "cod_ano_serie_frequenta_memb        189739\n",
      "cod_curso_frequentou_pessoa_memb    109510\n",
      "cod_ano_serie_frequentou_memb       117298\n",
      "cod_concluiu_frequentou_memb        117294\n",
      "cod_trabalhou_memb                   70112\n",
      "cod_afastado_trab_memb              126195\n",
      "cod_agricultura_trab_memb           192757\n",
      "cod_principal_trab_memb             191212\n",
      "cod_trabalho_12_meses_memb           70142\n",
      "qtd_meses_12_meses_memb             188086\n",
      "dtype: int64\n"
     ]
    }
   ],
   "source": [
    "# Mostrando os valores nulos de cada coluna do DataFrame\n",
    "valores_nulos = df_pessoas_amostra_100mil_balanceado.isna().sum()\n",
    "\n",
    "# Exibindo os resultados\n",
    "print(\"Número de valores nulos em cada coluna:\")\n",
    "print(valores_nulos[valores_nulos > 0])  # Exibe apenas as colunas com valores nulos"
   ]
  },
  {
   "cell_type": "code",
   "execution_count": 9,
   "id": "b43cc6d9-5de1-4a7d-bdb5-49ab43e64b91",
   "metadata": {
    "tags": []
   },
   "outputs": [
    {
     "name": "stdout",
     "output_type": "stream",
     "text": [
      "Coluna: cod_escola_local_memb\n",
      "Valores únicos: [nan]\n",
      "----------------------------------------\n",
      "Coluna: cod_curso_frequenta_memb\n",
      "Valores únicos: [nan]\n",
      "----------------------------------------\n",
      "Coluna: cod_ano_serie_frequenta_memb\n",
      "Valores únicos: [nan]\n",
      "----------------------------------------\n"
     ]
    }
   ],
   "source": [
    "#como os campos relacionadas à escola que a pessoa frequenta só devem ser preenchidos caso\n",
    "# a pessoa frequente escola, ou seja, tenha respondido 1 - Sim, rede pública, 2 - Sim, rede particular\n",
    "# para a variável  ind_frequenta_escola_memb, identificar os campos sem preenchimento ligados a respostas\n",
    "# diferentes de 1 e 2\n",
    "\n",
    "# Filtrando os casos em que 'ind_frequenta_escola_memb' seja diferente de 1 ou de 2\n",
    "filtro = df_pessoas_amostra_100mil_balanceado[\n",
    "    (df_pessoas_amostra_100mil_balanceado['ind_frequenta_escola_memb'] != 1) &\n",
    "    (df_pessoas_amostra_100mil_balanceado['ind_frequenta_escola_memb'] != 2)\n",
    "]\n",
    "\n",
    "# Lista das colunas que queremos exibir os resultados\n",
    "colunas_interesse = [\"cod_escola_local_memb\",\n",
    "    \"cod_curso_frequenta_memb\",\n",
    "    \"cod_ano_serie_frequenta_memb\"\n",
    "]\n",
    "\n",
    "# Exibe os valores únicos de cada coluna filtrada\n",
    "for coluna in colunas_interesse:\n",
    "    valores_unicos = filtro[coluna].unique()\n",
    "    print(f\"Coluna: {coluna}\")\n",
    "    print(f\"Valores únicos: {valores_unicos}\")\n",
    "    print(\"-\" * 40)"
   ]
  },
  {
   "cell_type": "code",
   "execution_count": 10,
   "id": "c3384a46-666f-4b5a-a866-4dcd9ee9a05c",
   "metadata": {
    "tags": []
   },
   "outputs": [
    {
     "name": "stdout",
     "output_type": "stream",
     "text": [
      "cod_escola_local_memb             568\n",
      "cod_curso_frequenta_memb            9\n",
      "cod_ano_serie_frequenta_memb    15759\n",
      "dtype: int64\n"
     ]
    }
   ],
   "source": [
    "#Considerando a regra de preenchimento das variáveis relacionadas à escola que frequenta, que só são obrigatórias\n",
    "# se a variável \"ind_frequenta_escola_memb\" for respondida como 1 - Sim, rede pública, 2 - Sim, rede particular,\n",
    "# quando preenchimento != 1 & != 2 as variáveis relacionadas à escola que frequenta foram preenchidas\n",
    "#como -1\n",
    "\n",
    "import numpy as np\n",
    "\n",
    "# Lista das colunas a serem preenchidas\n",
    "cols_to_fill = [\"cod_escola_local_memb\",\n",
    "    \"cod_curso_frequenta_memb\",\n",
    "    \"cod_ano_serie_frequenta_memb\"\n",
    "]\n",
    "\n",
    "# Condição: \"ind_frequenta_escola_memb\" diferente de 1 e de 2\n",
    "cond = (df_pessoas_amostra_100mil_balanceado['ind_frequenta_escola_memb'] != 1) & \\\n",
    "    (df_pessoas_amostra_100mil_balanceado['ind_frequenta_escola_memb'] != 2)\n",
    "\n",
    "# Preenchendo os valores NaN com -1 nas colunas especificadas quando a condição for atendida\n",
    "df_pessoas_amostra_100mil_balanceado.loc[cond, cols_to_fill] = df_pessoas_amostra_100mil_balanceado.loc[cond, cols_to_fill].fillna(-1)\n",
    "\n",
    "# Verificar se os valores foram preenchidos corretamente\n",
    "print(df_pessoas_amostra_100mil_balanceado[cols_to_fill].isna().sum())  # Verifica a ausência de valores nulos"
   ]
  },
  {
   "cell_type": "code",
   "execution_count": 11,
   "id": "a3666896-7b86-4e11-a77f-449e8640b276",
   "metadata": {
    "tags": []
   },
   "outputs": [
    {
     "name": "stdout",
     "output_type": "stream",
     "text": [
      "Tipos de respostas e suas quantidades para 'cod_curso_frequenta_memb' quando 'cod_ano_serie_frequenta_memb' é NaN:\n",
      "cod_curso_frequenta_memb\n",
      "1.0     4549\n",
      "2.0     5402\n",
      "3.0     1327\n",
      "9.0      242\n",
      "10.0    1054\n",
      "11.0     751\n",
      "12.0      25\n",
      "13.0    2386\n",
      "14.0      14\n",
      "Name: count, dtype: int64\n"
     ]
    }
   ],
   "source": [
    "#Como o campo cod_ano_serie_frequenta_memb (ano e série que a pessoa frequente) só deve\n",
    "# ser preenchido se pessoa frequenta algum dos cursos  4 - Ensino Fundamental regular (duração 8 anos),\n",
    "# 5 - Ensino Fundamental regular (duração 9 anos), 6 - Ensino Fundamental especial,\n",
    "# 7 - Ensino Médio regular ou 8 - Ensino Médio especial da pergunta cod_curso_frequenta_memb\n",
    "# (curso que a pessoa frequenta), avaliar os casos de NaN do campo cod_ano_serie_frequenta_memb\n",
    "# quando o campo cod_ano_serie_frequenta_memb é Nan.\n",
    "\n",
    "# Filtrando os casos onde 'cod_ano_serie_frequenta_memb' é NaN\n",
    "filtro_nan = df_pessoas_amostra_100mil_balanceado['cod_ano_serie_frequenta_memb'].isna()\n",
    "\n",
    "# Contando os valores de 'cod_curso_frequenta_memb' para os casos onde 'cod_ano_serie_frequenta_memb' é NaN\n",
    "tipos_resposta = df_pessoas_amostra_100mil_balanceado.loc[filtro_nan, 'cod_curso_frequenta_memb'].value_counts()\n",
    "\n",
    "# Ordenando os resultados pelos índices (os próprios valores de 'cod_curso_frequenta_memb')\n",
    "tipos_resposta = tipos_resposta.sort_index()\n",
    "\n",
    "# Exibindo os tipos de resposta e suas quantidades\n",
    "print(\"Tipos de respostas e suas quantidades para 'cod_curso_frequenta_memb' quando 'cod_ano_serie_frequenta_memb' é NaN:\")\n",
    "print(tipos_resposta)"
   ]
  },
  {
   "cell_type": "code",
   "execution_count": 12,
   "id": "b7364549-731b-4214-b0c6-363e4a488ad5",
   "metadata": {
    "tags": []
   },
   "outputs": [
    {
     "name": "stdout",
     "output_type": "stream",
     "text": [
      "\n",
      "Quantidade de cada resposta na coluna 'cod_ano_serie_frequenta_memb' após a substituição de NaN por -1:\n"
     ]
    }
   ],
   "source": [
    "#Considerando que todos os casos de Nan do campo cod_ano_serie_frequenta_memb se referem\n",
    "# aos casos em que não é obrigatória a resposta, ou seja, diferente de 4, 5, 6, 7 ou 8,\n",
    "# os valores NaN serão substituídos por -1\n",
    "\n",
    "# Substituindo valores NaN na coluna 'cod_ano_serie_frequenta_memb' por -1\n",
    "df_pessoas_amostra_100mil_balanceado['cod_ano_serie_frequenta_memb'].fillna(-1, inplace=True)\n",
    "\n",
    "# Contando os valores da coluna 'cod_ano_serie_frequenta_memb' após a substituição\n",
    "respostas_quantidade_depois = df_pessoas_amostra_100mil_balanceado['cod_ano_serie_frequenta_memb'].value_counts()\n",
    "\n",
    "# Exibindo todas as respostas possíveis e a quantidade de cada uma após a substituição\n",
    "print(\"\\nQuantidade de cada resposta na coluna 'cod_ano_serie_frequenta_memb' após a substituição de NaN por -1:\")"
   ]
  },
  {
   "cell_type": "code",
   "execution_count": 13,
   "id": "0dcdc459-ece8-4260-979d-5c9fa8a59f8f",
   "metadata": {
    "tags": []
   },
   "outputs": [
    {
     "name": "stdout",
     "output_type": "stream",
     "text": [
      "Coluna: cod_curso_frequentou_pessoa_memb\n",
      "Valores únicos: [nan]\n"
     ]
    }
   ],
   "source": [
    "#como o preenchimento do campo 'cod_curso_frequentou_pessoa_memb'\n",
    "# (Curso mais elevado que a pessoa frequentou) só é obrigatório quando\n",
    "# o campo 'ind_frequenta_escola_memb' (Pessoa frequenta escola?) for respondido como\n",
    "# \"3 - Não, já frequentou\", avaliar as respostas de 'cod_curso_frequentou_pessoa_memb'\n",
    "# quando 'ind_frequenta_escola_memb' for diferente de 3\n",
    "\n",
    "# Filtrando os casos em que 'ind_frequenta_escola_memb' seja diferente de 3\n",
    "filtro = df_pessoas_amostra_100mil_balanceado[(df_pessoas_amostra_100mil_balanceado['ind_frequenta_escola_memb'] != 3)]\n",
    "\n",
    "# Lista da coluna a exibir os resultados\n",
    "coluna_interesse = ['cod_curso_frequentou_pessoa_memb']\n",
    "\n",
    "# Exibe o valor único de cada coluna filtrada\n",
    "for coluna in coluna_interesse:\n",
    "    valores_unicos = filtro[coluna].unique()\n",
    "    print(f\"Coluna: {coluna}\")\n",
    "    print(f\"Valores únicos: {valores_unicos}\")"
   ]
  },
  {
   "cell_type": "code",
   "execution_count": 14,
   "id": "f690bb0e-fecc-40ee-88e0-95fffa1f91df",
   "metadata": {
    "tags": []
   },
   "outputs": [],
   "source": [
    "#Considerando a regra de preenchimento das variáveis relacionadas ao curso que frequentou, que só é obrigatório\n",
    "# se a variável \"ind_frequenta_escola_memb\" for respondida como \"3 - Não, já frequentou\",\n",
    "# quando preenchimento != 3 a variável relacionada ao curso que frequentou foi preenchida como -1\n",
    "\n",
    "# Lista da coluna a ser preenchida\n",
    "col_to_fill = [\"cod_curso_frequentou_pessoa_memb\"]\n",
    "\n",
    "# Condição: \"ind_frequenta_escola_memb\" diferente de 3\n",
    "cond = (df_pessoas_amostra_100mil_balanceado['ind_frequenta_escola_memb'] != 3)\n",
    "\n",
    "# Preenchendo os valores NaN com -1 na coluna especificada quando a condição for atendida\n",
    "df_pessoas_amostra_100mil_balanceado.loc[cond, col_to_fill] = df_pessoas_amostra_100mil_balanceado.loc[cond, col_to_fill].fillna(-1)"
   ]
  },
  {
   "cell_type": "code",
   "execution_count": 15,
   "id": "281dbbeb-a923-44ae-9995-1d0914127d4c",
   "metadata": {
    "tags": []
   },
   "outputs": [
    {
     "name": "stdout",
     "output_type": "stream",
     "text": [
      "Frequência de cada resposta na coluna 'cod_curso_frequentou_pessoa_memb', ordenada pelos valores:\n",
      "cod_curso_frequentou_pessoa_memb\n",
      "-1.0     109495\n",
      " 1.0         81\n",
      " 2.0        116\n",
      " 3.0       1104\n",
      " 4.0      39574\n",
      " 5.0      33319\n",
      " 6.0       5897\n",
      " 7.0        669\n",
      " 8.0      51058\n",
      " 9.0       1028\n",
      " 10.0       568\n",
      " 11.0       954\n",
      " 12.0       598\n",
      " 13.0      3893\n",
      " 14.0       275\n",
      " 15.0       198\n",
      " NaN         15\n",
      "Name: count, dtype: int64\n"
     ]
    }
   ],
   "source": [
    "# Contando a frequência de cada valor único na coluna 'cod_curso_frequentou_pessoa_memb', incluindo NaN\n",
    "frequencia_respostas = df_pessoas_amostra_100mil_balanceado['cod_curso_frequentou_pessoa_memb'].value_counts(dropna=False)\n",
    "\n",
    "# Ordenando os resultados pelos índices (os próprios valores de 'cod_curso_frequentou_pessoa_memb')\n",
    "frequencia_respostas = frequencia_respostas.sort_index()\n",
    "\n",
    "# Exibindo os valores únicos e suas frequências\n",
    "print(\"Frequência de cada resposta na coluna 'cod_curso_frequentou_pessoa_memb', ordenada pelos valores:\")\n",
    "print(frequencia_respostas)\n"
   ]
  },
  {
   "cell_type": "code",
   "execution_count": 16,
   "id": "cf231dd3-963b-4f58-9f0d-1c6c3a7c0419",
   "metadata": {
    "tags": []
   },
   "outputs": [
    {
     "name": "stdout",
     "output_type": "stream",
     "text": [
      "Coluna: cod_ano_serie_frequentou_memb\n",
      "Frequência de valores únicos:\n",
      "cod_ano_serie_frequentou_memb\n",
      "NaN    117294\n",
      "1.0         2\n",
      "3.0         1\n",
      "Name: count, dtype: int64\n",
      "----------------------------------------\n",
      "Coluna: cod_concluiu_frequentou_memb\n",
      "Frequência de valores únicos:\n",
      "cod_concluiu_frequentou_memb\n",
      "NaN    117294\n",
      "2.0         2\n",
      "1.0         1\n",
      "Name: count, dtype: int64\n",
      "----------------------------------------\n"
     ]
    }
   ],
   "source": [
    "#como os campos cod_ano_serie_frequentou_memb e cod_concluiu_frequentou_memb só devem ser preenchidos caso\n",
    "# a pessoa frequentou algum dos cursos 4 - Ensino Fundamental 1ª a 4ª séries, Elementar (Primário), Primeira fase do 1º grau,\n",
    "# 5 - Ensino Fundamental 5ª a 8ª séries, Médio 1º ciclo (Ginasial), Segunda fase do 1º grau,\n",
    "# 6 - Ensino Fundamental (duração 9 anos), 7 - Ensino Fundamental Especial,\n",
    "# 8 - Ensino Médio, 2º grau, Médio 2º ciclo (Científico, Clássico, Técnico, Normal),\n",
    "# 9 - Ensino Médio Especial na questão anterior (cod_curso_frequentou_pessoa_memb),\n",
    "# identificar os campos sem preenchimento ligados a respostas do campo anterior:\n",
    "\n",
    "# Filtrando os casos em que 'cod_curso_frequentou_pessoa_memb' seja diferente de 4, 5, 6, 7, 8 ou 9\n",
    "filtro = df_pessoas_amostra_100mil_balanceado[\n",
    "    (df_pessoas_amostra_100mil_balanceado['cod_curso_frequentou_pessoa_memb'] != 4) &\n",
    "    (df_pessoas_amostra_100mil_balanceado['cod_curso_frequentou_pessoa_memb'] != 5) &\n",
    "    (df_pessoas_amostra_100mil_balanceado['cod_curso_frequentou_pessoa_memb'] != 6) &\n",
    "    (df_pessoas_amostra_100mil_balanceado['cod_curso_frequentou_pessoa_memb'] != 7) &\n",
    "    (df_pessoas_amostra_100mil_balanceado['cod_curso_frequentou_pessoa_memb'] != 8) &\n",
    "    (df_pessoas_amostra_100mil_balanceado['cod_curso_frequentou_pessoa_memb'] != 9)\n",
    "]\n",
    "\n",
    "# Lista das colunas que queremos exibir os resultados\n",
    "colunas_interesse = [\"cod_ano_serie_frequentou_memb\",\n",
    "    \"cod_concluiu_frequentou_memb\"\n",
    "]\n",
    "\n",
    "# Exibe os valores únicos de cada coluna filtrada\n",
    "for coluna in colunas_interesse:\n",
    "    valores_unicos = filtro[coluna].value_counts(dropna=False)\n",
    "    print(f\"Coluna: {coluna}\")\n",
    "    print(f\"Frequência de valores únicos:\\n{valores_unicos}\")\n",
    "    print(\"-\" * 40)"
   ]
  },
  {
   "cell_type": "code",
   "execution_count": 17,
   "id": "d0667fe1-51be-430a-86dc-cfc95d0739a8",
   "metadata": {
    "tags": []
   },
   "outputs": [
    {
     "name": "stdout",
     "output_type": "stream",
     "text": [
      "Valores substituídos nas colunas:\n",
      "cod_ano_serie_frequentou_memb - Valores únicos: [ 3.  4. -1.  8.  2.  1.  5.  7.  9.  6. 10. nan]\n",
      "cod_concluiu_frequentou_memb - Valores únicos: [ 2.  1. -1.]\n"
     ]
    }
   ],
   "source": [
    "# Lista das colunas que queremos substituir os valores NaN por -1\n",
    "colunas_para_substituir = [\"cod_ano_serie_frequentou_memb\", \"cod_concluiu_frequentou_memb\"]\n",
    "\n",
    "# Definindo a condição para quando 'cod_curso_frequentou_pessoa_memb' não for 4, 5, 6, 7, 8 ou 9\n",
    "condicao = (\n",
    "    (df_pessoas_amostra_100mil_balanceado['cod_curso_frequentou_pessoa_memb'] != 4) &\n",
    "    (df_pessoas_amostra_100mil_balanceado['cod_curso_frequentou_pessoa_memb'] != 5) &\n",
    "    (df_pessoas_amostra_100mil_balanceado['cod_curso_frequentou_pessoa_memb'] != 6) &\n",
    "    (df_pessoas_amostra_100mil_balanceado['cod_curso_frequentou_pessoa_memb'] != 7) &\n",
    "    (df_pessoas_amostra_100mil_balanceado['cod_curso_frequentou_pessoa_memb'] != 8) &\n",
    "    (df_pessoas_amostra_100mil_balanceado['cod_curso_frequentou_pessoa_memb'] != 9)\n",
    ")\n",
    "\n",
    "# Substituindo os valores NaN por -1 nas colunas especificadas quando a condição é atendida\n",
    "df_pessoas_amostra_100mil_balanceado.loc[condicao, colunas_para_substituir] = df_pessoas_amostra_100mil_balanceado.loc[condicao, colunas_para_substituir].fillna(-1)\n",
    "\n",
    "# Verificando se os valores foram preenchidos corretamente\n",
    "print(\"Valores substituídos nas colunas:\")\n",
    "for coluna in colunas_para_substituir:\n",
    "    print(f\"{coluna} - Valores únicos: {df_pessoas_amostra_100mil_balanceado[coluna].unique()}\")"
   ]
  },
  {
   "cell_type": "code",
   "execution_count": 18,
   "id": "86753172-9919-4ce3-a045-01bd5c91a6b0",
   "metadata": {
    "tags": []
   },
   "outputs": [
    {
     "name": "stdout",
     "output_type": "stream",
     "text": [
      "Número de valores nulos em cada coluna:\n",
      "cod_raca_cor_pessoa                    123\n",
      "cod_local_nascimento_pessoa           1271\n",
      "cod_sabe_ler_escrever_memb              28\n",
      "ind_frequenta_escola_memb               28\n",
      "cod_escola_local_memb                  568\n",
      "cod_curso_frequenta_memb                 9\n",
      "cod_curso_frequentou_pessoa_memb        15\n",
      "cod_ano_serie_frequentou_memb            4\n",
      "cod_trabalhou_memb                   70112\n",
      "cod_afastado_trab_memb              126195\n",
      "cod_agricultura_trab_memb           192757\n",
      "cod_principal_trab_memb             191212\n",
      "cod_trabalho_12_meses_memb           70142\n",
      "qtd_meses_12_meses_memb             188086\n",
      "dtype: int64\n"
     ]
    }
   ],
   "source": [
    "# Mostrando os valores nulos de cada coluna do DataFrame após limpeza\n",
    "valores_nulos = df_pessoas_amostra_100mil_balanceado.isna().sum()\n",
    "\n",
    "# Exibindo os resultados\n",
    "print(\"Número de valores nulos em cada coluna:\")\n",
    "print(valores_nulos[valores_nulos > 0])  # Exibe apenas as colunas com valores nulos"
   ]
  },
  {
   "cell_type": "code",
   "execution_count": 19,
   "id": "60c9ce17-a0dc-4182-8503-324053800648",
   "metadata": {
    "tags": []
   },
   "outputs": [
    {
     "name": "stdout",
     "output_type": "stream",
     "text": [
      "Coluna: cod_trabalhou_memb\n",
      "Frequência de valores únicos:\n",
      "cod_trabalhou_memb\n",
      "NaN    69486\n",
      "Name: count, dtype: int64\n",
      "----------------------------------------\n",
      "Coluna: cod_afastado_trab_memb\n",
      "Frequência de valores únicos:\n",
      "cod_afastado_trab_memb\n",
      "NaN    69486\n",
      "Name: count, dtype: int64\n",
      "----------------------------------------\n",
      "Coluna: cod_agricultura_trab_memb\n",
      "Frequência de valores únicos:\n",
      "cod_agricultura_trab_memb\n",
      "NaN    69486\n",
      "Name: count, dtype: int64\n",
      "----------------------------------------\n",
      "Coluna: cod_principal_trab_memb\n",
      "Frequência de valores únicos:\n",
      "cod_principal_trab_memb\n",
      "NaN    69486\n",
      "Name: count, dtype: int64\n",
      "----------------------------------------\n",
      "Coluna: cod_trabalho_12_meses_memb\n",
      "Frequência de valores únicos:\n",
      "cod_trabalho_12_meses_memb\n",
      "NaN    69486\n",
      "Name: count, dtype: int64\n",
      "----------------------------------------\n",
      "Coluna: qtd_meses_12_meses_memb\n",
      "Frequência de valores únicos:\n",
      "qtd_meses_12_meses_memb\n",
      "NaN    69486\n",
      "Name: count, dtype: int64\n",
      "----------------------------------------\n"
     ]
    }
   ],
   "source": [
    "#Os campos de trabalho só devem ser respondidos quando idade for maior ou igual a 14 anos. Desta forma, avaliar\n",
    "# o preenchimento dos campos \"cod_trabalhou_memb\", \"cod_afastado_trab_memb\", \"cod_agricultura_trab_memb\",\n",
    "# \"cod_principal_trab_memb\", \"cod_trabalho_12_meses_memb\", \"qtd_meses_12_meses_memb\", \"categoria_qtd_meses\" com idade\n",
    "# menor que 14 anos\n",
    "\n",
    "# Filtrando os casos em que 'idade' seja < 14\n",
    "filtro = (df_pessoas_amostra_100mil_balanceado['idade'] < 14)\n",
    "\n",
    "# Lista das colunas que queremos exibir os resultados\n",
    "colunas_interesse = [\n",
    "    \"cod_trabalhou_memb\",\n",
    "    \"cod_afastado_trab_memb\",\n",
    "    \"cod_agricultura_trab_memb\",\n",
    "    \"cod_principal_trab_memb\",\n",
    "    \"cod_trabalho_12_meses_memb\",\n",
    "    \"qtd_meses_12_meses_memb\",\n",
    "]\n",
    "\n",
    "# Exibe os valores únicos de cada coluna filtrada\n",
    "for coluna in colunas_interesse:\n",
    "    # Filtrando o DataFrame pelas linhas onde 'idade' < 14 e obtendo as contagens de valores\n",
    "    valores_unicos = df_pessoas_amostra_100mil_balanceado.loc[filtro, coluna].value_counts(dropna=False)\n",
    "    print(f\"Coluna: {coluna}\")\n",
    "    print(f\"Frequência de valores únicos:\\n{valores_unicos}\")\n",
    "    print(\"-\" * 40)"
   ]
  },
  {
   "cell_type": "code",
   "execution_count": 20,
   "id": "bfb7d70d-5ef2-4504-9233-78bfad510555",
   "metadata": {
    "tags": []
   },
   "outputs": [
    {
     "name": "stdout",
     "output_type": "stream",
     "text": [
      "Número de valores nulos em cada coluna:\n",
      "cod_raca_cor_pessoa                    123\n",
      "cod_local_nascimento_pessoa           1271\n",
      "cod_sabe_ler_escrever_memb              28\n",
      "ind_frequenta_escola_memb               28\n",
      "cod_escola_local_memb                  568\n",
      "cod_curso_frequenta_memb                 9\n",
      "cod_curso_frequentou_pessoa_memb        15\n",
      "cod_ano_serie_frequentou_memb            4\n",
      "cod_trabalhou_memb                     626\n",
      "cod_afastado_trab_memb               56709\n",
      "cod_agricultura_trab_memb           123271\n",
      "cod_principal_trab_memb             121726\n",
      "cod_trabalho_12_meses_memb             656\n",
      "qtd_meses_12_meses_memb             118600\n",
      "dtype: int64\n"
     ]
    }
   ],
   "source": [
    "#Substituir todos os valores nan por -1 das colunas avaliadas quando idade <14\n",
    "\n",
    "# Filtrando os casos em que 'idade' seja < 14\n",
    "filtro = (df_pessoas_amostra_100mil_balanceado['idade'] < 14)\n",
    "\n",
    "# Lista das colunas nas quais queremos substituir os NaN\n",
    "colunas_interesse = [\n",
    "    \"cod_trabalhou_memb\",\n",
    "    \"cod_afastado_trab_memb\",\n",
    "    \"cod_agricultura_trab_memb\",\n",
    "    \"cod_principal_trab_memb\",\n",
    "    \"cod_trabalho_12_meses_memb\",\n",
    "    \"qtd_meses_12_meses_memb\"]\n",
    "\n",
    "# Substituindo os valores NaN por -1 nas colunas de interesse quando a condição do filtro é verdadeira\n",
    "df_pessoas_amostra_100mil_balanceado.loc[filtro, colunas_interesse] = df_pessoas_amostra_100mil_balanceado.loc[filtro, colunas_interesse].fillna(-1)\n",
    "\n",
    "# Mostrando os valores nulos de cada coluna do DataFrame após limpeza\n",
    "valores_nulos = df_pessoas_amostra_100mil_balanceado.isna().sum()\n",
    "\n",
    "# Exibindo os resultados\n",
    "print(\"Número de valores nulos em cada coluna:\")\n",
    "print(valores_nulos[valores_nulos > 0])  # Exibe apenas as colunas com valores nulos\n"
   ]
  },
  {
   "cell_type": "code",
   "execution_count": 21,
   "id": "97466458-609f-41df-b10a-89d328db870f",
   "metadata": {
    "tags": []
   },
   "outputs": [
    {
     "name": "stdout",
     "output_type": "stream",
     "text": [
      "Frequência de valores para 'cod_afastado_trab_memb' quando 'cod_trabalhou_memb' não é 2:\n",
      "cod_afastado_trab_memb\n",
      "-1.0    69486\n",
      " NaN    56709\n",
      "Name: count, dtype: int64\n"
     ]
    }
   ],
   "source": [
    "# O campo 'cod_afastado_trab_memb' só deve ser respondido se 'cod_trabalhou_memb'\n",
    "# (Pessoa trabalhou na semana passada?) for respondido como 2 - Não)\n",
    "\n",
    "# Filtrando os casos em que 'cod_trabalhou_memb' seja diferente de 2\n",
    "filtro = df_pessoas_amostra_100mil_balanceado[(df_pessoas_amostra_100mil_balanceado['cod_trabalhou_memb'] != 2)]\n",
    "\n",
    "# Lista da coluna a exibir os resultados\n",
    "coluna_interesse = 'cod_afastado_trab_memb'\n",
    "\n",
    "# Contando os valores, incluindo NaN\n",
    "valores_contagem = filtro[coluna_interesse].value_counts(dropna=False)  # dropna=False inclui NaN\n",
    "\n",
    "# Exibindo o resultado\n",
    "print(f\"Frequência de valores para '{coluna_interesse}' quando 'cod_trabalhou_memb' não é 2:\")\n",
    "print(valores_contagem)"
   ]
  },
  {
   "cell_type": "code",
   "execution_count": 22,
   "id": "b267ac17-7549-42f1-9ffd-3a6b7142c282",
   "metadata": {
    "tags": []
   },
   "outputs": [],
   "source": [
    "# Substituir os valores NaN de 'cod_afastado_trab_memb' por -1 quando 'cod_trabalhou_memb' é diferente de 2\n",
    "\n",
    "# Lista da coluna a ser preenchida\n",
    "col_to_fill = [\"cod_afastado_trab_memb\"]\n",
    "\n",
    "# Condição: \"ind_frequenta_escola_memb\" diferente de 3\n",
    "cond = (df_pessoas_amostra_100mil_balanceado['cod_trabalhou_memb'] != 2)\n",
    "\n",
    "# Preenchendo os valores NaN com -1 na coluna especificada quando a condição for atendida\n",
    "df_pessoas_amostra_100mil_balanceado.loc[cond, col_to_fill] = df_pessoas_amostra_100mil_balanceado.loc[cond, col_to_fill].fillna(-1)"
   ]
  },
  {
   "cell_type": "code",
   "execution_count": 23,
   "id": "60843664-e6b9-4937-96bd-a6d2b1a53aab",
   "metadata": {
    "tags": []
   },
   "outputs": [
    {
     "name": "stdout",
     "output_type": "stream",
     "text": [
      "Coluna: cod_agricultura_trab_memb\n",
      "Frequência de valores únicos:\n",
      "cod_agricultura_trab_memb\n",
      " NaN    121724\n",
      "-1.0     69486\n",
      " 1.0         2\n",
      "Name: count, dtype: int64\n",
      "----------------------------------------\n",
      "Coluna: cod_principal_trab_memb\n",
      "Frequência de valores únicos:\n",
      "cod_principal_trab_memb\n",
      " NaN    121726\n",
      "-1.0     69486\n",
      "Name: count, dtype: int64\n",
      "----------------------------------------\n"
     ]
    }
   ],
   "source": [
    "# O campo cod_agricultura_trab_memb (É atividade extrativista? 1 - Sim e 2 - Não) e o campo\n",
    "# cod_principal_trab_memb só são obrigatórios se a pessoa respondeu 1 - Sim no campo\n",
    "# cod_trabalhou_memb (Pessoa trabalhou na semana passada?)\n",
    "# ou cod_afastado_trab_memb (Pessoa afastada na semana passada?).\n",
    "\n",
    "# Filtrando os casos em que campo 'cod_trabalhou_memb' e 'cod_afastado_trab_memb' seja diferente de 1\n",
    "filtro = df_pessoas_amostra_100mil_balanceado[\n",
    "    (df_pessoas_amostra_100mil_balanceado['cod_trabalhou_memb'] != 1) &\n",
    "    (df_pessoas_amostra_100mil_balanceado['cod_afastado_trab_memb'] != 1)\n",
    "]\n",
    "\n",
    "# Lista das colunas que queremos exibir os resultados\n",
    "colunas_interesse = [\"cod_agricultura_trab_memb\",\n",
    "\"cod_principal_trab_memb\"]\n",
    "\n",
    "# Exibe os valores únicos de cada coluna filtrada\n",
    "for coluna in colunas_interesse:\n",
    "    valores_unicos = filtro[coluna].value_counts(dropna=False)\n",
    "    print(f\"Coluna: {coluna}\")\n",
    "    print(f\"Frequência de valores únicos:\\n{valores_unicos}\")\n",
    "    print(\"-\" * 40)"
   ]
  },
  {
   "cell_type": "code",
   "execution_count": 24,
   "id": "4af4dd84-e568-4b3f-8970-a0304702c68f",
   "metadata": {
    "tags": []
   },
   "outputs": [
    {
     "name": "stdout",
     "output_type": "stream",
     "text": [
      "Frequência de valores únicos na coluna 'cod_agricultura_trab_memb' após substituição de NaN por -1:\n",
      "cod_agricultura_trab_memb\n",
      "-1.0    191210\n",
      " 2.0     45092\n",
      " 1.0     10993\n",
      " NaN      1547\n",
      "Name: count, dtype: int64\n",
      "\n",
      "Frequência de valores únicos na coluna 'cod_principal_trab_memb' após substituição de NaN por -1:\n",
      "cod_principal_trab_memb\n",
      "-1.0     191212\n",
      " 1.0      28821\n",
      " 4.0      15403\n",
      " 2.0       5245\n",
      " 8.0       2439\n",
      " 3.0       2192\n",
      " 7.0       1133\n",
      " 5.0        952\n",
      " 6.0        804\n",
      " 10.0       319\n",
      " 11.0       268\n",
      " 9.0         54\n",
      "Name: count, dtype: int64\n"
     ]
    }
   ],
   "source": [
    "#Substituindo por -1 os valores NaN de \"cod_agricultura_trab_memb\" e \"cod_principal_trab_memb\"\n",
    "# quando 'cod_trabalhou_memb' e 'cod_afastado_trab_memb' é diferente de 1\n",
    "\n",
    "# Definindo o filtro para casos onde 'cod_trabalhou_memb' e 'cod_afastado_trab_memb' são diferentes de 1\n",
    "filtro = (df_pessoas_amostra_100mil_balanceado['cod_trabalhou_memb'] != 1) & (df_pessoas_amostra_100mil_balanceado['cod_afastado_trab_memb'] != 1)\n",
    "\n",
    "# Substituindo os valores NaN das colunas 'cod_agricultura_trab_memb' e 'cod_principal_trab_memb' por -1 onde o filtro é verdadeiro\n",
    "df_pessoas_amostra_100mil_balanceado.loc[filtro, 'cod_agricultura_trab_memb'] = df_pessoas_amostra_100mil_balanceado.loc[filtro, 'cod_agricultura_trab_memb'].fillna(-1)\n",
    "df_pessoas_amostra_100mil_balanceado.loc[filtro, 'cod_principal_trab_memb'] = df_pessoas_amostra_100mil_balanceado.loc[filtro, 'cod_principal_trab_memb'].fillna(-1)\n",
    "\n",
    "# Exibindo os valores únicos de cada coluna após a substituição\n",
    "valores_unicos_agricultura = df_pessoas_amostra_100mil_balanceado['cod_agricultura_trab_memb'].value_counts(dropna=False)\n",
    "valores_unicos_principal = df_pessoas_amostra_100mil_balanceado['cod_principal_trab_memb'].value_counts(dropna=False)\n",
    "\n",
    "print(\"Frequência de valores únicos na coluna 'cod_agricultura_trab_memb' após substituição de NaN por -1:\")\n",
    "print(valores_unicos_agricultura)\n",
    "print(\"\\nFrequência de valores únicos na coluna 'cod_principal_trab_memb' após substituição de NaN por -1:\")\n",
    "print(valores_unicos_principal)"
   ]
  },
  {
   "cell_type": "code",
   "execution_count": 25,
   "id": "286b724f-be28-444e-8e8a-533d7b33c6bb",
   "metadata": {
    "tags": []
   },
   "outputs": [
    {
     "name": "stdout",
     "output_type": "stream",
     "text": [
      "Resultados possíveis e quantidade de cada resposta em 'cod_principal_trab_memb' quando 'cod_agricultura_trab_memb' é NaN:\n",
      "cod_principal_trab_memb\n",
      "1.0     605\n",
      "2.0     280\n",
      "3.0      39\n",
      "4.0     472\n",
      "5.0      14\n",
      "6.0      26\n",
      "7.0      57\n",
      "8.0      47\n",
      "10.0      3\n",
      "11.0      4\n",
      "Name: count, dtype: int64\n"
     ]
    }
   ],
   "source": [
    "# Filtrando os casos onde 'cod_agricultura_trab_memb' é igual a NaN\n",
    "filtro_cod_especie = df_pessoas_amostra_100mil_balanceado['cod_agricultura_trab_memb'].isna()\n",
    "\n",
    "# Contando os valores da coluna 'cod_principal_trab_memb' apenas para o filtro aplicado\n",
    "resultados_quantidade = df_pessoas_amostra_100mil_balanceado.loc[filtro_cod_especie, 'cod_principal_trab_memb'].value_counts(dropna=False)\n",
    "\n",
    "# Ordenando os resultados em ordem crescente dos índices (valores únicos)\n",
    "resultados_quantidade = resultados_quantidade.sort_index()\n",
    "\n",
    "# Exibindo os resultados ordenados\n",
    "print(\"Resultados possíveis e quantidade de cada resposta em 'cod_principal_trab_memb' quando 'cod_agricultura_trab_memb' é NaN:\")\n",
    "print(resultados_quantidade)\n"
   ]
  },
  {
   "cell_type": "code",
   "execution_count": 26,
   "id": "9a51192f-c58c-40f7-909b-657cb630d1b9",
   "metadata": {
    "tags": []
   },
   "outputs": [
    {
     "name": "stdout",
     "output_type": "stream",
     "text": [
      "Frequência de valores únicos na coluna 'cod_agricultura_trab_memb' após substituição de NaN:\n",
      "cod_agricultura_trab_memb\n",
      "-1.0    191210\n",
      " 2.0     45092\n",
      " 1.0     11273\n",
      " 9.0      1267\n",
      "Name: count, dtype: int64\n"
     ]
    }
   ],
   "source": [
    "# Considerando que a resposta de 'cod_principal_trab_memb' == 2 significa Trabalhador temporário em área rural\n",
    "# Os casos de NaN para 'cod_agricultura_trab_memb' quando 'cod_principal_trab_memb' == 2 serão alterados\n",
    "# para 1 - Sim. Os demais casos serão substituídos por 9 - Desconhecido.\n",
    "\n",
    "# Definindo o filtro para casos onde 'cod_principal_trab_memb' é igual a 2\n",
    "filtro = df_pessoas_amostra_100mil_balanceado['cod_principal_trab_memb'] == 2\n",
    "\n",
    "# Substituindo os valores NaN da coluna 'cod_agricultura_trab_memb' por 1 onde o filtro é verdadeiro\n",
    "df_pessoas_amostra_100mil_balanceado.loc[filtro, 'cod_agricultura_trab_memb'] = df_pessoas_amostra_100mil_balanceado.loc[filtro, 'cod_agricultura_trab_memb'].fillna(1)\n",
    "\n",
    "# Substituindo os valores NaN restantes por 9 nos casos onde o filtro é falso\n",
    "df_pessoas_amostra_100mil_balanceado['cod_agricultura_trab_memb'] = df_pessoas_amostra_100mil_balanceado['cod_agricultura_trab_memb'].fillna(9)\n",
    "\n",
    "# Exibindo os valores únicos da coluna após a substituição\n",
    "valores_unicos_agricultura = df_pessoas_amostra_100mil_balanceado['cod_agricultura_trab_memb'].value_counts(dropna=False)\n",
    "\n",
    "print(\"Frequência de valores únicos na coluna 'cod_agricultura_trab_memb' após substituição de NaN:\")\n",
    "print(valores_unicos_agricultura)\n"
   ]
  },
  {
   "cell_type": "code",
   "execution_count": 27,
   "id": "8c6ff048-c3af-41d4-b596-c1591ab2657b",
   "metadata": {
    "tags": []
   },
   "outputs": [
    {
     "name": "stdout",
     "output_type": "stream",
     "text": [
      "Coluna: qtd_meses_12_meses_memb\n",
      "Frequência de valores únicos:\n",
      "qtd_meses_12_meses_memb\n",
      " NaN    118600\n",
      "-1.0     69486\n",
      "Name: count, dtype: int64\n",
      "----------------------------------------\n"
     ]
    }
   ],
   "source": [
    "# O campo qtd_meses_12_meses_memb (Quantidade de meses trabalhados nos últimos 12 meses)\n",
    "# só é obrigatório se a pessoa tiver respondido 1 - Sim  no campo cod_trabalho_12_meses_memb\n",
    "#(Pessoa com trabalho remunerado em algum período nos último 12 meses)\n",
    "\n",
    "# Filtrando os casos em que campo 'cod_trabalho_12_meses_memb' seja diferente de 1\n",
    "filtro = df_pessoas_amostra_100mil_balanceado[\n",
    "    (df_pessoas_amostra_100mil_balanceado['cod_trabalho_12_meses_memb'] != 1)\n",
    "]\n",
    "\n",
    "# Lista da coluna que queremos exibir os resultados\n",
    "coluna_interesse = [\"qtd_meses_12_meses_memb\"]\n",
    "\n",
    "# Exibe os valores únicos de cada coluna filtrada\n",
    "for coluna in coluna_interesse:\n",
    "    valores_unicos = filtro[coluna].value_counts(dropna=False)\n",
    "    print(f\"Coluna: {coluna}\")\n",
    "    print(f\"Frequência de valores únicos:\\n{valores_unicos}\")\n",
    "    print(\"-\" * 40)"
   ]
  },
  {
   "cell_type": "code",
   "execution_count": 28,
   "id": "8bc0ee52-b786-4fa5-9324-19390501bbc8",
   "metadata": {
    "tags": []
   },
   "outputs": [
    {
     "name": "stdout",
     "output_type": "stream",
     "text": [
      "Frequência de valores únicos na coluna 'qtd_meses_12_meses_memb' após substituição de NaN por -1:\n",
      "qtd_meses_12_meses_memb\n",
      "-1.0     188086\n",
      " 12.0     37389\n",
      " 10.0      3452\n",
      " 6.0       3028\n",
      " 1.0       2851\n",
      " 2.0       2644\n",
      " 3.0       2635\n",
      " 5.0       2131\n",
      " 4.0       1941\n",
      " 8.0       1630\n",
      " 7.0       1197\n",
      " 9.0        966\n",
      " 11.0       892\n",
      "Name: count, dtype: int64\n"
     ]
    }
   ],
   "source": [
    "#Substituindo por -1 os valores NaN de \"qtd_meses_12_meses_memb\"\n",
    "# quando 'cod_trabalho_12_meses_memb' é diferente de 1\n",
    "\n",
    "# Definindo o filtro para casos onde 'cod_trabalho_12_meses_memb' é diferente de 1\n",
    "filtro = (df_pessoas_amostra_100mil_balanceado['cod_trabalho_12_meses_memb'] != 1)\n",
    "\n",
    "# Substituindo os valores NaN da coluna 'qtd_meses_12_meses_memb' por -1 onde o filtro é verdadeiro\n",
    "df_pessoas_amostra_100mil_balanceado.loc[filtro, 'qtd_meses_12_meses_memb'] = df_pessoas_amostra_100mil_balanceado.loc[filtro, 'qtd_meses_12_meses_memb'].fillna(-1)\n",
    "\n",
    "\n",
    "# Exibindo os valores únicos da coluna após a substituição\n",
    "valores_unicos_meses = df_pessoas_amostra_100mil_balanceado['qtd_meses_12_meses_memb'].value_counts(dropna=False)\n",
    "\n",
    "\n",
    "print(\"Frequência de valores únicos na coluna 'qtd_meses_12_meses_memb' após substituição de NaN por -1:\")\n",
    "print(valores_unicos_meses)"
   ]
  },
  {
   "cell_type": "code",
   "execution_count": 29,
   "id": "e077f154-dbaf-4b84-83b9-aa94b5202268",
   "metadata": {
    "tags": []
   },
   "outputs": [
    {
     "name": "stdout",
     "output_type": "stream",
     "text": [
      "Número de valores nulos em cada coluna:\n",
      "cod_raca_cor_pessoa                  123\n",
      "cod_local_nascimento_pessoa         1271\n",
      "cod_sabe_ler_escrever_memb            28\n",
      "ind_frequenta_escola_memb             28\n",
      "cod_escola_local_memb                568\n",
      "cod_curso_frequenta_memb               9\n",
      "cod_curso_frequentou_pessoa_memb      15\n",
      "cod_ano_serie_frequentou_memb          4\n",
      "cod_trabalhou_memb                   626\n",
      "cod_trabalho_12_meses_memb           656\n",
      "dtype: int64\n"
     ]
    }
   ],
   "source": [
    "# Mostrando os valores nulos de cada coluna do DataFrame após limpeza\n",
    "valores_nulos = df_pessoas_amostra_100mil_balanceado.isna().sum()\n",
    "\n",
    "# Exibindo os resultados\n",
    "print(\"Número de valores nulos em cada coluna:\")\n",
    "print(valores_nulos[valores_nulos > 0])  # Exibe apenas as colunas com valores nulos"
   ]
  },
  {
   "cell_type": "code",
   "execution_count": 30,
   "id": "ce135941-e3ec-4436-bb16-23bac131ceb7",
   "metadata": {
    "tags": []
   },
   "outputs": [
    {
     "name": "stdout",
     "output_type": "stream",
     "text": [
      "Percentual de valores NaN em cada coluna do df_pessoas_amostra_100mil:\n",
      "id_familia                          0.000000\n",
      "id_pessoa                           0.000000\n",
      "cod_sexo_pessoa                     0.000000\n",
      "idade                               0.000000\n",
      "cod_parentesco_rf_pessoa            0.000000\n",
      "cod_raca_cor_pessoa                 0.049429\n",
      "cod_local_nascimento_pessoa         0.510766\n",
      "cod_certidao_registrada_pessoa      0.000000\n",
      "cod_deficiencia_memb                0.000000\n",
      "cod_sabe_ler_escrever_memb          0.011252\n",
      "ind_frequenta_escola_memb           0.011252\n",
      "cod_escola_local_memb               0.228257\n",
      "cod_curso_frequenta_memb            0.003617\n",
      "cod_ano_serie_frequenta_memb        0.000000\n",
      "cod_curso_frequentou_pessoa_memb    0.006028\n",
      "cod_ano_serie_frequentou_memb       0.001607\n",
      "cod_concluiu_frequentou_memb        0.000000\n",
      "cod_trabalhou_memb                  0.251565\n",
      "cod_afastado_trab_memb              0.000000\n",
      "cod_agricultura_trab_memb           0.000000\n",
      "cod_principal_trab_memb             0.000000\n",
      "cod_trabalho_12_meses_memb          0.263621\n",
      "qtd_meses_12_meses_memb             0.000000\n",
      "peso.pes                            0.000000\n",
      "dtype: float64\n"
     ]
    }
   ],
   "source": [
    "# Calculando o percentual de valores NaN em cada coluna\n",
    "percentual_nan = df_pessoas_amostra_100mil_balanceado.isna().mean() * 100\n",
    "\n",
    "# Exibindo o percentual de valores NaN por coluna\n",
    "print(\"Percentual de valores NaN em cada coluna do df_pessoas_amostra_100mil:\")\n",
    "print(percentual_nan)"
   ]
  },
  {
   "cell_type": "code",
   "execution_count": 31,
   "id": "970f7458-ed3b-43e3-9ac0-9e5d297224b9",
   "metadata": {
    "tags": []
   },
   "outputs": [
    {
     "data": {
      "text/plain": [
       "(248842, 24)"
      ]
     },
     "execution_count": 31,
     "metadata": {},
     "output_type": "execute_result"
    }
   ],
   "source": [
    "df_pessoas_amostra_100mil_balanceado.shape"
   ]
  },
  {
   "cell_type": "code",
   "execution_count": 32,
   "id": "5dcb7bab-2142-4189-9fb0-005a6b52b805",
   "metadata": {
    "tags": []
   },
   "outputs": [
    {
     "name": "stdout",
     "output_type": "stream",
     "text": [
      "Número de valores nulos em cada coluna:\n",
      "Series([], dtype: int64)\n"
     ]
    }
   ],
   "source": [
    "# Considernado que as linhas com valores NaN remanescentes não foram associadas a nenhuma \n",
    "# regra de preenchimento do cadastro único e que são pouco representativas no universo da \n",
    "# amostra, optpu-se por excluir os valores NaN remanescentes da base de famílias\n",
    "\n",
    "# Excluir todas as linhas com algum valor NaN\n",
    "df_pessoas_amostra_100mil_limpa_balanceado = df_pessoas_amostra_100mil_balanceado.dropna()\n",
    "\n",
    "# Mostrando os valores nulos de cada coluna do DataFrame após limpeza\n",
    "valores_nulos = df_pessoas_amostra_100mil_limpa_balanceado.isna().sum()\n",
    "\n",
    "# Exibindo os resultados\n",
    "print(\"Número de valores nulos em cada coluna:\")\n",
    "print(valores_nulos[valores_nulos > 0])  # Exibe apenas as colunas com valores nulos"
   ]
  },
  {
   "cell_type": "code",
   "execution_count": 33,
   "id": "826fb61c-26f7-4e8c-b64c-0aea7866073c",
   "metadata": {
    "tags": []
   },
   "outputs": [
    {
     "data": {
      "text/plain": [
       "(246192, 24)"
      ]
     },
     "execution_count": 33,
     "metadata": {},
     "output_type": "execute_result"
    }
   ],
   "source": [
    "df_pessoas_amostra_100mil_limpa_balanceado.shape"
   ]
  },
  {
   "cell_type": "code",
   "execution_count": 34,
   "id": "e8b93f14-6fd3-4896-ae60-836f28c40c67",
   "metadata": {
    "tags": []
   },
   "outputs": [
    {
     "name": "stdout",
     "output_type": "stream",
     "text": [
      "Não existem IDs de pessoa repetidos.\n"
     ]
    }
   ],
   "source": [
    "# Identificar IDs de pessoa que se repetem\n",
    "ids_repetidos = df_pessoas_amostra_100mil_limpa_balanceado['id_pessoa'][df_pessoas_amostra_100mil_limpa_balanceado['id_pessoa'].duplicated()]\n",
    "\n",
    "# Verificar se existem IDs repetidos e exibir o resultado\n",
    "if not ids_repetidos.empty:\n",
    "    print(f'Existem IDs de pessoa repetidos. Os IDs repetidos são:\\n{ids_repetidos}')\n",
    "else:\n",
    "    print('Não existem IDs de pessoa repetidos.')"
   ]
  },
  {
   "cell_type": "code",
   "execution_count": 35,
   "id": "0a000670-0acf-4bc7-8ff7-03d6b92a1760",
   "metadata": {
    "tags": []
   },
   "outputs": [],
   "source": [
    "# Load the datasets familia\n",
    "df_fam_amostra_100mil_limpa_balanceado = pd.read_csv('../Data_balanceado/df_fam_amostra_100mil_limpa_balanceado.csv')"
   ]
  },
  {
   "cell_type": "code",
   "execution_count": 36,
   "id": "e467e56e-cf03-4a71-9bb4-dcc3e7d6fa0c",
   "metadata": {
    "tags": []
   },
   "outputs": [],
   "source": [
    "#juntando as duas bases\n",
    "# Realizar o merge das duas bases usando a chave 'id_familia'\n",
    "df_fam_pessoas_amostra_100mil_limpa_balanceado = pd.merge(df_fam_amostra_100mil_limpa_balanceado, df_pessoas_amostra_100mil_limpa_balanceado, \n",
    "                     on='id_familia', \n",
    "                     how='inner')"
   ]
  },
  {
   "cell_type": "code",
   "execution_count": 37,
   "id": "d4a441f3-1c51-4dcd-b828-c92ccb751d3a",
   "metadata": {
    "tags": []
   },
   "outputs": [
    {
     "data": {
      "text/plain": [
       "(246052, 51)"
      ]
     },
     "execution_count": 37,
     "metadata": {},
     "output_type": "execute_result"
    }
   ],
   "source": [
    "df_fam_pessoas_amostra_100mil_limpa_balanceado.shape"
   ]
  },
  {
   "cell_type": "code",
   "execution_count": 38,
   "id": "1a637dbd-2bf5-47d6-86e5-b480755ee92f",
   "metadata": {
    "tags": []
   },
   "outputs": [
    {
     "data": {
      "text/html": [
       "<div>\n",
       "<style scoped>\n",
       "    .dataframe tbody tr th:only-of-type {\n",
       "        vertical-align: middle;\n",
       "    }\n",
       "\n",
       "    .dataframe tbody tr th {\n",
       "        vertical-align: top;\n",
       "    }\n",
       "\n",
       "    .dataframe thead th {\n",
       "        text-align: right;\n",
       "    }\n",
       "</style>\n",
       "<table border=\"1\" class=\"dataframe\">\n",
       "  <thead>\n",
       "    <tr style=\"text-align: right;\">\n",
       "      <th></th>\n",
       "      <th>cd_ibge</th>\n",
       "      <th>uf_ibge</th>\n",
       "      <th>regiao_ibge</th>\n",
       "      <th>estrato</th>\n",
       "      <th>classf</th>\n",
       "      <th>id_familia</th>\n",
       "      <th>vlr_renda_media_fam</th>\n",
       "      <th>cod_local_domic_fam</th>\n",
       "      <th>cod_especie_domic_fam</th>\n",
       "      <th>qtd_comodos_domic_fam</th>\n",
       "      <th>...</th>\n",
       "      <th>cod_curso_frequentou_pessoa_memb</th>\n",
       "      <th>cod_ano_serie_frequentou_memb</th>\n",
       "      <th>cod_concluiu_frequentou_memb</th>\n",
       "      <th>cod_trabalhou_memb</th>\n",
       "      <th>cod_afastado_trab_memb</th>\n",
       "      <th>cod_agricultura_trab_memb</th>\n",
       "      <th>cod_principal_trab_memb</th>\n",
       "      <th>cod_trabalho_12_meses_memb</th>\n",
       "      <th>qtd_meses_12_meses_memb</th>\n",
       "      <th>peso.pes</th>\n",
       "    </tr>\n",
       "  </thead>\n",
       "  <tbody>\n",
       "    <tr>\n",
       "      <th>0</th>\n",
       "      <td>3526407</td>\n",
       "      <td>35</td>\n",
       "      <td>3</td>\n",
       "      <td>1</td>\n",
       "      <td>3</td>\n",
       "      <td>1100708</td>\n",
       "      <td>0.0</td>\n",
       "      <td>1.0</td>\n",
       "      <td>1.0</td>\n",
       "      <td>4.0</td>\n",
       "      <td>...</td>\n",
       "      <td>-1.0</td>\n",
       "      <td>-1.0</td>\n",
       "      <td>-1.0</td>\n",
       "      <td>-1.0</td>\n",
       "      <td>-1.0</td>\n",
       "      <td>-1.0</td>\n",
       "      <td>-1.0</td>\n",
       "      <td>-1.0</td>\n",
       "      <td>-1.0</td>\n",
       "      <td>563275906954283</td>\n",
       "    </tr>\n",
       "    <tr>\n",
       "      <th>1</th>\n",
       "      <td>3526407</td>\n",
       "      <td>35</td>\n",
       "      <td>3</td>\n",
       "      <td>1</td>\n",
       "      <td>3</td>\n",
       "      <td>1100708</td>\n",
       "      <td>0.0</td>\n",
       "      <td>1.0</td>\n",
       "      <td>1.0</td>\n",
       "      <td>4.0</td>\n",
       "      <td>...</td>\n",
       "      <td>8.0</td>\n",
       "      <td>1.0</td>\n",
       "      <td>2.0</td>\n",
       "      <td>2.0</td>\n",
       "      <td>2.0</td>\n",
       "      <td>-1.0</td>\n",
       "      <td>-1.0</td>\n",
       "      <td>2.0</td>\n",
       "      <td>-1.0</td>\n",
       "      <td>563275906954283</td>\n",
       "    </tr>\n",
       "    <tr>\n",
       "      <th>2</th>\n",
       "      <td>1501402</td>\n",
       "      <td>15</td>\n",
       "      <td>1</td>\n",
       "      <td>2</td>\n",
       "      <td>1</td>\n",
       "      <td>4736936</td>\n",
       "      <td>40.0</td>\n",
       "      <td>1.0</td>\n",
       "      <td>1.0</td>\n",
       "      <td>2.0</td>\n",
       "      <td>...</td>\n",
       "      <td>-1.0</td>\n",
       "      <td>-1.0</td>\n",
       "      <td>-1.0</td>\n",
       "      <td>2.0</td>\n",
       "      <td>2.0</td>\n",
       "      <td>-1.0</td>\n",
       "      <td>-1.0</td>\n",
       "      <td>2.0</td>\n",
       "      <td>-1.0</td>\n",
       "      <td>563277363244442</td>\n",
       "    </tr>\n",
       "    <tr>\n",
       "      <th>3</th>\n",
       "      <td>1501402</td>\n",
       "      <td>15</td>\n",
       "      <td>1</td>\n",
       "      <td>2</td>\n",
       "      <td>1</td>\n",
       "      <td>4736936</td>\n",
       "      <td>40.0</td>\n",
       "      <td>1.0</td>\n",
       "      <td>1.0</td>\n",
       "      <td>2.0</td>\n",
       "      <td>...</td>\n",
       "      <td>-1.0</td>\n",
       "      <td>-1.0</td>\n",
       "      <td>-1.0</td>\n",
       "      <td>2.0</td>\n",
       "      <td>2.0</td>\n",
       "      <td>-1.0</td>\n",
       "      <td>-1.0</td>\n",
       "      <td>2.0</td>\n",
       "      <td>-1.0</td>\n",
       "      <td>563277363244442</td>\n",
       "    </tr>\n",
       "    <tr>\n",
       "      <th>4</th>\n",
       "      <td>1501402</td>\n",
       "      <td>15</td>\n",
       "      <td>1</td>\n",
       "      <td>2</td>\n",
       "      <td>1</td>\n",
       "      <td>4736936</td>\n",
       "      <td>40.0</td>\n",
       "      <td>1.0</td>\n",
       "      <td>1.0</td>\n",
       "      <td>2.0</td>\n",
       "      <td>...</td>\n",
       "      <td>-1.0</td>\n",
       "      <td>-1.0</td>\n",
       "      <td>-1.0</td>\n",
       "      <td>1.0</td>\n",
       "      <td>-1.0</td>\n",
       "      <td>2.0</td>\n",
       "      <td>1.0</td>\n",
       "      <td>1.0</td>\n",
       "      <td>9.0</td>\n",
       "      <td>563277363244442</td>\n",
       "    </tr>\n",
       "  </tbody>\n",
       "</table>\n",
       "<p>5 rows × 51 columns</p>\n",
       "</div>"
      ],
      "text/plain": [
       "   cd_ibge  uf_ibge  regiao_ibge  estrato  classf  id_familia  \\\n",
       "0  3526407       35            3        1       3     1100708   \n",
       "1  3526407       35            3        1       3     1100708   \n",
       "2  1501402       15            1        2       1     4736936   \n",
       "3  1501402       15            1        2       1     4736936   \n",
       "4  1501402       15            1        2       1     4736936   \n",
       "\n",
       "   vlr_renda_media_fam  cod_local_domic_fam  cod_especie_domic_fam  \\\n",
       "0                  0.0                  1.0                    1.0   \n",
       "1                  0.0                  1.0                    1.0   \n",
       "2                 40.0                  1.0                    1.0   \n",
       "3                 40.0                  1.0                    1.0   \n",
       "4                 40.0                  1.0                    1.0   \n",
       "\n",
       "   qtd_comodos_domic_fam  ...  cod_curso_frequentou_pessoa_memb  \\\n",
       "0                    4.0  ...                              -1.0   \n",
       "1                    4.0  ...                               8.0   \n",
       "2                    2.0  ...                              -1.0   \n",
       "3                    2.0  ...                              -1.0   \n",
       "4                    2.0  ...                              -1.0   \n",
       "\n",
       "   cod_ano_serie_frequentou_memb  cod_concluiu_frequentou_memb  \\\n",
       "0                           -1.0                          -1.0   \n",
       "1                            1.0                           2.0   \n",
       "2                           -1.0                          -1.0   \n",
       "3                           -1.0                          -1.0   \n",
       "4                           -1.0                          -1.0   \n",
       "\n",
       "   cod_trabalhou_memb  cod_afastado_trab_memb  cod_agricultura_trab_memb  \\\n",
       "0                -1.0                    -1.0                       -1.0   \n",
       "1                 2.0                     2.0                       -1.0   \n",
       "2                 2.0                     2.0                       -1.0   \n",
       "3                 2.0                     2.0                       -1.0   \n",
       "4                 1.0                    -1.0                        2.0   \n",
       "\n",
       "   cod_principal_trab_memb  cod_trabalho_12_meses_memb  \\\n",
       "0                     -1.0                        -1.0   \n",
       "1                     -1.0                         2.0   \n",
       "2                     -1.0                         2.0   \n",
       "3                     -1.0                         2.0   \n",
       "4                      1.0                         1.0   \n",
       "\n",
       "   qtd_meses_12_meses_memb         peso.pes  \n",
       "0                     -1.0  563275906954283  \n",
       "1                     -1.0  563275906954283  \n",
       "2                     -1.0  563277363244442  \n",
       "3                     -1.0  563277363244442  \n",
       "4                      9.0  563277363244442  \n",
       "\n",
       "[5 rows x 51 columns]"
      ]
     },
     "execution_count": 38,
     "metadata": {},
     "output_type": "execute_result"
    }
   ],
   "source": [
    "df_fam_pessoas_amostra_100mil_limpa_balanceado.head()"
   ]
  },
  {
   "cell_type": "code",
   "execution_count": 39,
   "id": "0e9276e1-6475-4eed-b52e-0c1761e13c41",
   "metadata": {
    "tags": []
   },
   "outputs": [
    {
     "data": {
      "text/plain": [
       "Index(['cd_ibge', 'uf_ibge', 'regiao_ibge', 'estrato', 'classf', 'id_familia',\n",
       "       'vlr_renda_media_fam', 'cod_local_domic_fam', 'cod_especie_domic_fam',\n",
       "       'qtd_comodos_domic_fam', 'qtd_comodos_dormitorio_fam',\n",
       "       'cod_material_piso_fam', 'cod_material_domic_fam',\n",
       "       'cod_agua_canalizada_fam', 'cod_abaste_agua_domic_fam',\n",
       "       'cod_banheiro_domic_fam', 'cod_escoa_sanitario_domic_fam',\n",
       "       'cod_destino_lixo_domic_fam', 'cod_iluminacao_domic_fam',\n",
       "       'cod_calcamento_domic_fam', 'cod_familia_indigena_fam',\n",
       "       'ind_familia_quilombola_fam', 'ind_parc_mds_fam', 'qtde_pessoas',\n",
       "       'peso.fam', 'dias_cadastramento', 'dias_atualizacao', 'classe_renda',\n",
       "       'id_pessoa', 'cod_sexo_pessoa', 'idade', 'cod_parentesco_rf_pessoa',\n",
       "       'cod_raca_cor_pessoa', 'cod_local_nascimento_pessoa',\n",
       "       'cod_certidao_registrada_pessoa', 'cod_deficiencia_memb',\n",
       "       'cod_sabe_ler_escrever_memb', 'ind_frequenta_escola_memb',\n",
       "       'cod_escola_local_memb', 'cod_curso_frequenta_memb',\n",
       "       'cod_ano_serie_frequenta_memb', 'cod_curso_frequentou_pessoa_memb',\n",
       "       'cod_ano_serie_frequentou_memb', 'cod_concluiu_frequentou_memb',\n",
       "       'cod_trabalhou_memb', 'cod_afastado_trab_memb',\n",
       "       'cod_agricultura_trab_memb', 'cod_principal_trab_memb',\n",
       "       'cod_trabalho_12_meses_memb', 'qtd_meses_12_meses_memb', 'peso.pes'],\n",
       "      dtype='object')"
      ]
     },
     "execution_count": 39,
     "metadata": {},
     "output_type": "execute_result"
    }
   ],
   "source": [
    "df_fam_pessoas_amostra_100mil_limpa_balanceado.columns"
   ]
  },
  {
   "cell_type": "code",
   "execution_count": 40,
   "id": "b5bf707a-b295-446e-8c80-33197bb1f4d7",
   "metadata": {
    "tags": []
   },
   "outputs": [
    {
     "name": "stdout",
     "output_type": "stream",
     "text": [
      "   id_familia  qtde_pessoas  num_id_pessoas  diferenca\n",
      "0         105             1               1          0\n",
      "1         114             1               1          0\n",
      "2         135             3               3          0\n",
      "3         135             3               3          0\n",
      "4         135             3               3          0\n",
      "5         208             5               5          0\n",
      "6         208             5               5          0\n",
      "7         208             5               5          0\n",
      "8         208             5               5          0\n",
      "9         208             5               5          0\n",
      "Número de famílias com diferença: 7650\n"
     ]
    }
   ],
   "source": [
    "# Avaliando se alguma família ficou com o número de pessoas menor do que o previsto no campo qtd_pessoas\n",
    "\n",
    "# 1. Contar o número de IDs de pessoas diferentes para cada 'id_familia'\n",
    "contagem_pessoas = df_fam_pessoas_amostra_100mil_limpa_balanceado.groupby('id_familia')['id_pessoa'].nunique().reset_index()\n",
    "\n",
    "# Renomear a coluna para algo mais descritivo\n",
    "contagem_pessoas.rename(columns={'id_pessoa': 'num_id_pessoas'}, inplace=True)\n",
    "\n",
    "# 2. Juntar os dados da contagem com o dataframe original\n",
    "# Supondo que 'qtde_pessoas' esteja no mesmo dataframe e corresponda ao 'id_familia'\n",
    "resultado_comparacao = pd.merge(contagem_pessoas, df_fam_pessoas_amostra_100mil_limpa_balanceado[['id_familia', 'qtde_pessoas']],\n",
    "                                 on='id_familia', how='left')\n",
    "\n",
    "# 3. Comparar os valores\n",
    "resultado_comparacao['diferenca'] = resultado_comparacao['qtde_pessoas'] - resultado_comparacao['num_id_pessoas']\n",
    "\n",
    "# Exibir os resultados\n",
    "print(resultado_comparacao[['id_familia', 'qtde_pessoas', 'num_id_pessoas', 'diferenca']].head(10))\n",
    "\n",
    "# Opcional: Analisar quantas famílias têm diferença nos números\n",
    "familias_com_diferenca = resultado_comparacao[resultado_comparacao['diferenca'] != 0]\n",
    "print(f\"Número de famílias com diferença: {len(familias_com_diferenca)}\")"
   ]
  },
  {
   "cell_type": "code",
   "execution_count": 41,
   "id": "74b9ae16-202b-4a89-ba44-5f9d18f54c0e",
   "metadata": {
    "tags": []
   },
   "outputs": [
    {
     "name": "stdout",
     "output_type": "stream",
     "text": [
      "Número de linhas restantes após excluir famílias com diferença > 0: 238402\n"
     ]
    }
   ],
   "source": [
    "# 1. Identificar as id_familia com diferença > 0\n",
    "id_familias_com_diferenca = resultado_comparacao[resultado_comparacao['diferenca'] > 0]['id_familia']\n",
    "\n",
    "# 2. Excluir essas id_familia do dataframe original\n",
    "df_fam_pessoas_amostra_100mil_limpa_balanceado = df_fam_pessoas_amostra_100mil_limpa_balanceado[~df_fam_pessoas_amostra_100mil_limpa_balanceado['id_familia'].isin(id_familias_com_diferenca)]\n",
    "\n",
    "# 3. Exibir o número de linhas restantes após a exclusão\n",
    "numero_linhas_restantes = df_fam_pessoas_amostra_100mil_limpa_balanceado.shape[0]\n",
    "print(f\"Número de linhas restantes após excluir famílias com diferença > 0: {numero_linhas_restantes}\")"
   ]
  },
  {
   "cell_type": "code",
   "execution_count": 42,
   "id": "fae5be23-28b7-49a7-99db-39f1da22f1e6",
   "metadata": {
    "tags": []
   },
   "outputs": [
    {
     "data": {
      "text/html": [
       "<div>\n",
       "<style scoped>\n",
       "    .dataframe tbody tr th:only-of-type {\n",
       "        vertical-align: middle;\n",
       "    }\n",
       "\n",
       "    .dataframe tbody tr th {\n",
       "        vertical-align: top;\n",
       "    }\n",
       "\n",
       "    .dataframe thead th {\n",
       "        text-align: right;\n",
       "    }\n",
       "</style>\n",
       "<table border=\"1\" class=\"dataframe\">\n",
       "  <thead>\n",
       "    <tr style=\"text-align: right;\">\n",
       "      <th></th>\n",
       "      <th>cd_ibge</th>\n",
       "      <th>uf_ibge</th>\n",
       "      <th>regiao_ibge</th>\n",
       "      <th>estrato</th>\n",
       "      <th>classf</th>\n",
       "      <th>id_familia</th>\n",
       "      <th>vlr_renda_media_fam</th>\n",
       "      <th>cod_local_domic_fam</th>\n",
       "      <th>cod_especie_domic_fam</th>\n",
       "      <th>qtd_comodos_domic_fam</th>\n",
       "      <th>...</th>\n",
       "      <th>cod_curso_frequentou_pessoa_memb</th>\n",
       "      <th>cod_ano_serie_frequentou_memb</th>\n",
       "      <th>cod_concluiu_frequentou_memb</th>\n",
       "      <th>cod_trabalhou_memb</th>\n",
       "      <th>cod_afastado_trab_memb</th>\n",
       "      <th>cod_agricultura_trab_memb</th>\n",
       "      <th>cod_principal_trab_memb</th>\n",
       "      <th>cod_trabalho_12_meses_memb</th>\n",
       "      <th>qtd_meses_12_meses_memb</th>\n",
       "      <th>peso.pes</th>\n",
       "    </tr>\n",
       "  </thead>\n",
       "  <tbody>\n",
       "    <tr>\n",
       "      <th>2</th>\n",
       "      <td>1501402</td>\n",
       "      <td>15</td>\n",
       "      <td>1</td>\n",
       "      <td>2</td>\n",
       "      <td>1</td>\n",
       "      <td>4736936</td>\n",
       "      <td>40.0</td>\n",
       "      <td>1.0</td>\n",
       "      <td>1.0</td>\n",
       "      <td>2.0</td>\n",
       "      <td>...</td>\n",
       "      <td>-1.0</td>\n",
       "      <td>-1.0</td>\n",
       "      <td>-1.0</td>\n",
       "      <td>2.0</td>\n",
       "      <td>2.0</td>\n",
       "      <td>-1.0</td>\n",
       "      <td>-1.0</td>\n",
       "      <td>2.0</td>\n",
       "      <td>-1.0</td>\n",
       "      <td>563277363244442</td>\n",
       "    </tr>\n",
       "    <tr>\n",
       "      <th>3</th>\n",
       "      <td>1501402</td>\n",
       "      <td>15</td>\n",
       "      <td>1</td>\n",
       "      <td>2</td>\n",
       "      <td>1</td>\n",
       "      <td>4736936</td>\n",
       "      <td>40.0</td>\n",
       "      <td>1.0</td>\n",
       "      <td>1.0</td>\n",
       "      <td>2.0</td>\n",
       "      <td>...</td>\n",
       "      <td>-1.0</td>\n",
       "      <td>-1.0</td>\n",
       "      <td>-1.0</td>\n",
       "      <td>2.0</td>\n",
       "      <td>2.0</td>\n",
       "      <td>-1.0</td>\n",
       "      <td>-1.0</td>\n",
       "      <td>2.0</td>\n",
       "      <td>-1.0</td>\n",
       "      <td>563277363244442</td>\n",
       "    </tr>\n",
       "    <tr>\n",
       "      <th>4</th>\n",
       "      <td>1501402</td>\n",
       "      <td>15</td>\n",
       "      <td>1</td>\n",
       "      <td>2</td>\n",
       "      <td>1</td>\n",
       "      <td>4736936</td>\n",
       "      <td>40.0</td>\n",
       "      <td>1.0</td>\n",
       "      <td>1.0</td>\n",
       "      <td>2.0</td>\n",
       "      <td>...</td>\n",
       "      <td>-1.0</td>\n",
       "      <td>-1.0</td>\n",
       "      <td>-1.0</td>\n",
       "      <td>1.0</td>\n",
       "      <td>-1.0</td>\n",
       "      <td>2.0</td>\n",
       "      <td>1.0</td>\n",
       "      <td>1.0</td>\n",
       "      <td>9.0</td>\n",
       "      <td>563277363244442</td>\n",
       "    </tr>\n",
       "    <tr>\n",
       "      <th>5</th>\n",
       "      <td>1304062</td>\n",
       "      <td>13</td>\n",
       "      <td>1</td>\n",
       "      <td>2</td>\n",
       "      <td>3</td>\n",
       "      <td>2562870</td>\n",
       "      <td>119.0</td>\n",
       "      <td>1.0</td>\n",
       "      <td>1.0</td>\n",
       "      <td>4.0</td>\n",
       "      <td>...</td>\n",
       "      <td>12.0</td>\n",
       "      <td>-1.0</td>\n",
       "      <td>-1.0</td>\n",
       "      <td>2.0</td>\n",
       "      <td>2.0</td>\n",
       "      <td>-1.0</td>\n",
       "      <td>-1.0</td>\n",
       "      <td>2.0</td>\n",
       "      <td>-1.0</td>\n",
       "      <td>563289238376948</td>\n",
       "    </tr>\n",
       "    <tr>\n",
       "      <th>6</th>\n",
       "      <td>1304062</td>\n",
       "      <td>13</td>\n",
       "      <td>1</td>\n",
       "      <td>2</td>\n",
       "      <td>3</td>\n",
       "      <td>2562870</td>\n",
       "      <td>119.0</td>\n",
       "      <td>1.0</td>\n",
       "      <td>1.0</td>\n",
       "      <td>4.0</td>\n",
       "      <td>...</td>\n",
       "      <td>-1.0</td>\n",
       "      <td>-1.0</td>\n",
       "      <td>-1.0</td>\n",
       "      <td>-1.0</td>\n",
       "      <td>-1.0</td>\n",
       "      <td>-1.0</td>\n",
       "      <td>-1.0</td>\n",
       "      <td>-1.0</td>\n",
       "      <td>-1.0</td>\n",
       "      <td>563289238376948</td>\n",
       "    </tr>\n",
       "  </tbody>\n",
       "</table>\n",
       "<p>5 rows × 51 columns</p>\n",
       "</div>"
      ],
      "text/plain": [
       "   cd_ibge  uf_ibge  regiao_ibge  estrato  classf  id_familia  \\\n",
       "2  1501402       15            1        2       1     4736936   \n",
       "3  1501402       15            1        2       1     4736936   \n",
       "4  1501402       15            1        2       1     4736936   \n",
       "5  1304062       13            1        2       3     2562870   \n",
       "6  1304062       13            1        2       3     2562870   \n",
       "\n",
       "   vlr_renda_media_fam  cod_local_domic_fam  cod_especie_domic_fam  \\\n",
       "2                 40.0                  1.0                    1.0   \n",
       "3                 40.0                  1.0                    1.0   \n",
       "4                 40.0                  1.0                    1.0   \n",
       "5                119.0                  1.0                    1.0   \n",
       "6                119.0                  1.0                    1.0   \n",
       "\n",
       "   qtd_comodos_domic_fam  ...  cod_curso_frequentou_pessoa_memb  \\\n",
       "2                    2.0  ...                              -1.0   \n",
       "3                    2.0  ...                              -1.0   \n",
       "4                    2.0  ...                              -1.0   \n",
       "5                    4.0  ...                              12.0   \n",
       "6                    4.0  ...                              -1.0   \n",
       "\n",
       "   cod_ano_serie_frequentou_memb  cod_concluiu_frequentou_memb  \\\n",
       "2                           -1.0                          -1.0   \n",
       "3                           -1.0                          -1.0   \n",
       "4                           -1.0                          -1.0   \n",
       "5                           -1.0                          -1.0   \n",
       "6                           -1.0                          -1.0   \n",
       "\n",
       "   cod_trabalhou_memb  cod_afastado_trab_memb  cod_agricultura_trab_memb  \\\n",
       "2                 2.0                     2.0                       -1.0   \n",
       "3                 2.0                     2.0                       -1.0   \n",
       "4                 1.0                    -1.0                        2.0   \n",
       "5                 2.0                     2.0                       -1.0   \n",
       "6                -1.0                    -1.0                       -1.0   \n",
       "\n",
       "   cod_principal_trab_memb  cod_trabalho_12_meses_memb  \\\n",
       "2                     -1.0                         2.0   \n",
       "3                     -1.0                         2.0   \n",
       "4                      1.0                         1.0   \n",
       "5                     -1.0                         2.0   \n",
       "6                     -1.0                        -1.0   \n",
       "\n",
       "   qtd_meses_12_meses_memb         peso.pes  \n",
       "2                     -1.0  563277363244442  \n",
       "3                     -1.0  563277363244442  \n",
       "4                      9.0  563277363244442  \n",
       "5                     -1.0  563289238376948  \n",
       "6                     -1.0  563289238376948  \n",
       "\n",
       "[5 rows x 51 columns]"
      ]
     },
     "execution_count": 42,
     "metadata": {},
     "output_type": "execute_result"
    }
   ],
   "source": [
    "df_fam_pessoas_amostra_100mil_limpa_balanceado.head()"
   ]
  },
  {
   "cell_type": "code",
   "execution_count": 43,
   "id": "d3d9de9e-10c4-4f7c-849f-6894fe15c6ef",
   "metadata": {
    "tags": []
   },
   "outputs": [
    {
     "data": {
      "text/plain": [
       "(238402, 51)"
      ]
     },
     "execution_count": 43,
     "metadata": {},
     "output_type": "execute_result"
    }
   ],
   "source": [
    "df_fam_pessoas_amostra_100mil_limpa_balanceado.shape"
   ]
  },
  {
   "cell_type": "code",
   "execution_count": 44,
   "id": "c012c8c2-38f8-4298-acc0-22eece737101",
   "metadata": {
    "tags": []
   },
   "outputs": [
    {
     "name": "stdout",
     "output_type": "stream",
     "text": [
      "Não existem IDs de pessoa repetidos.\n"
     ]
    }
   ],
   "source": [
    "# Identificar IDs de pessoa que se repetem\n",
    "ids_repetidos = df_fam_pessoas_amostra_100mil_limpa_balanceado['id_pessoa'][df_fam_pessoas_amostra_100mil_limpa_balanceado['id_pessoa'].duplicated()]\n",
    "\n",
    "# Verificar se existem IDs repetidos e exibir o resultado\n",
    "if not ids_repetidos.empty:\n",
    "    print(f'Existem IDs de pessoa repetidos. Os IDs repetidos são:\\n{ids_repetidos}')\n",
    "else:\n",
    "    print('Não existem IDs de pessoa repetidos.')"
   ]
  },
  {
   "cell_type": "code",
   "execution_count": 45,
   "id": "0de5d6f4-d686-4be7-b9d9-b13aff96a419",
   "metadata": {
    "tags": []
   },
   "outputs": [
    {
     "name": "stdout",
     "output_type": "stream",
     "text": [
      "Shape das pessoas: (238402, 24)\n",
      "Shape das famílias: (96792, 28)\n"
     ]
    }
   ],
   "source": [
    "# 1. Listar as colunas que queremos manter de cada dataframe original\n",
    "colunas_pessoas = df_pessoas_amostra_100mil_limpa_balanceado.columns.tolist()\n",
    "colunas_familia = df_fam_amostra_100mil_limpa_balanceado.columns.tolist()\n",
    "\n",
    "# 2. Criar um dataframe para as pessoas a partir da base limpa, mantendo apenas as colunas desejadas\n",
    "df_pessoas_final_balanceado = df_fam_pessoas_amostra_100mil_limpa_balanceado[colunas_pessoas]\n",
    "\n",
    "# 3. Criar um dataframe para as famílias, mantendo apenas as colunas desejadas e removendo duplicatas\n",
    "df_familia_final_balanceado = df_fam_pessoas_amostra_100mil_limpa_balanceado[colunas_familia].drop_duplicates(subset='id_familia')\n",
    "\n",
    "# 4. Verifique os shapes\n",
    "print(\"Shape das pessoas:\", df_pessoas_final_balanceado.shape)\n",
    "print(\"Shape das famílias:\", df_familia_final_balanceado.shape)\n",
    "\n"
   ]
  },
  {
   "cell_type": "code",
   "execution_count": 46,
   "id": "b68c289f-9139-4e1c-a68e-eae2092731eb",
   "metadata": {
    "tags": []
   },
   "outputs": [
    {
     "data": {
      "text/plain": [
       "(99950, 28)"
      ]
     },
     "execution_count": 46,
     "metadata": {},
     "output_type": "execute_result"
    }
   ],
   "source": [
    " df_fam_amostra_100mil_limpa_balanceado.shape"
   ]
  },
  {
   "cell_type": "code",
   "execution_count": 47,
   "id": "176ea761-1df7-4b44-ba84-c6a8a304e185",
   "metadata": {
    "tags": []
   },
   "outputs": [
    {
     "data": {
      "text/html": [
       "<div>\n",
       "<style scoped>\n",
       "    .dataframe tbody tr th:only-of-type {\n",
       "        vertical-align: middle;\n",
       "    }\n",
       "\n",
       "    .dataframe tbody tr th {\n",
       "        vertical-align: top;\n",
       "    }\n",
       "\n",
       "    .dataframe thead th {\n",
       "        text-align: right;\n",
       "    }\n",
       "</style>\n",
       "<table border=\"1\" class=\"dataframe\">\n",
       "  <thead>\n",
       "    <tr style=\"text-align: right;\">\n",
       "      <th></th>\n",
       "      <th>id_familia</th>\n",
       "      <th>id_pessoa</th>\n",
       "      <th>cod_sexo_pessoa</th>\n",
       "      <th>idade</th>\n",
       "      <th>cod_parentesco_rf_pessoa</th>\n",
       "      <th>cod_raca_cor_pessoa</th>\n",
       "      <th>cod_local_nascimento_pessoa</th>\n",
       "      <th>cod_certidao_registrada_pessoa</th>\n",
       "      <th>cod_deficiencia_memb</th>\n",
       "      <th>cod_sabe_ler_escrever_memb</th>\n",
       "      <th>...</th>\n",
       "      <th>cod_curso_frequentou_pessoa_memb</th>\n",
       "      <th>cod_ano_serie_frequentou_memb</th>\n",
       "      <th>cod_concluiu_frequentou_memb</th>\n",
       "      <th>cod_trabalhou_memb</th>\n",
       "      <th>cod_afastado_trab_memb</th>\n",
       "      <th>cod_agricultura_trab_memb</th>\n",
       "      <th>cod_principal_trab_memb</th>\n",
       "      <th>cod_trabalho_12_meses_memb</th>\n",
       "      <th>qtd_meses_12_meses_memb</th>\n",
       "      <th>peso.pes</th>\n",
       "    </tr>\n",
       "  </thead>\n",
       "  <tbody>\n",
       "    <tr>\n",
       "      <th>2</th>\n",
       "      <td>4736936</td>\n",
       "      <td>368407</td>\n",
       "      <td>1</td>\n",
       "      <td>17</td>\n",
       "      <td>3</td>\n",
       "      <td>4.0</td>\n",
       "      <td>2.0</td>\n",
       "      <td>1</td>\n",
       "      <td>2</td>\n",
       "      <td>1.0</td>\n",
       "      <td>...</td>\n",
       "      <td>-1.0</td>\n",
       "      <td>-1.0</td>\n",
       "      <td>-1.0</td>\n",
       "      <td>2.0</td>\n",
       "      <td>2.0</td>\n",
       "      <td>-1.0</td>\n",
       "      <td>-1.0</td>\n",
       "      <td>2.0</td>\n",
       "      <td>-1.0</td>\n",
       "      <td>563277363244442</td>\n",
       "    </tr>\n",
       "    <tr>\n",
       "      <th>3</th>\n",
       "      <td>4736936</td>\n",
       "      <td>6711807</td>\n",
       "      <td>2</td>\n",
       "      <td>15</td>\n",
       "      <td>3</td>\n",
       "      <td>4.0</td>\n",
       "      <td>2.0</td>\n",
       "      <td>1</td>\n",
       "      <td>2</td>\n",
       "      <td>1.0</td>\n",
       "      <td>...</td>\n",
       "      <td>-1.0</td>\n",
       "      <td>-1.0</td>\n",
       "      <td>-1.0</td>\n",
       "      <td>2.0</td>\n",
       "      <td>2.0</td>\n",
       "      <td>-1.0</td>\n",
       "      <td>-1.0</td>\n",
       "      <td>2.0</td>\n",
       "      <td>-1.0</td>\n",
       "      <td>563277363244442</td>\n",
       "    </tr>\n",
       "    <tr>\n",
       "      <th>4</th>\n",
       "      <td>4736936</td>\n",
       "      <td>9879138</td>\n",
       "      <td>2</td>\n",
       "      <td>44</td>\n",
       "      <td>1</td>\n",
       "      <td>4.0</td>\n",
       "      <td>2.0</td>\n",
       "      <td>1</td>\n",
       "      <td>2</td>\n",
       "      <td>2.0</td>\n",
       "      <td>...</td>\n",
       "      <td>-1.0</td>\n",
       "      <td>-1.0</td>\n",
       "      <td>-1.0</td>\n",
       "      <td>1.0</td>\n",
       "      <td>-1.0</td>\n",
       "      <td>2.0</td>\n",
       "      <td>1.0</td>\n",
       "      <td>1.0</td>\n",
       "      <td>9.0</td>\n",
       "      <td>563277363244442</td>\n",
       "    </tr>\n",
       "    <tr>\n",
       "      <th>5</th>\n",
       "      <td>2562870</td>\n",
       "      <td>1032042</td>\n",
       "      <td>2</td>\n",
       "      <td>38</td>\n",
       "      <td>1</td>\n",
       "      <td>4.0</td>\n",
       "      <td>1.0</td>\n",
       "      <td>1</td>\n",
       "      <td>2</td>\n",
       "      <td>1.0</td>\n",
       "      <td>...</td>\n",
       "      <td>12.0</td>\n",
       "      <td>-1.0</td>\n",
       "      <td>-1.0</td>\n",
       "      <td>2.0</td>\n",
       "      <td>2.0</td>\n",
       "      <td>-1.0</td>\n",
       "      <td>-1.0</td>\n",
       "      <td>2.0</td>\n",
       "      <td>-1.0</td>\n",
       "      <td>563289238376948</td>\n",
       "    </tr>\n",
       "    <tr>\n",
       "      <th>6</th>\n",
       "      <td>2562870</td>\n",
       "      <td>4996944</td>\n",
       "      <td>1</td>\n",
       "      <td>5</td>\n",
       "      <td>3</td>\n",
       "      <td>4.0</td>\n",
       "      <td>1.0</td>\n",
       "      <td>1</td>\n",
       "      <td>1</td>\n",
       "      <td>2.0</td>\n",
       "      <td>...</td>\n",
       "      <td>-1.0</td>\n",
       "      <td>-1.0</td>\n",
       "      <td>-1.0</td>\n",
       "      <td>-1.0</td>\n",
       "      <td>-1.0</td>\n",
       "      <td>-1.0</td>\n",
       "      <td>-1.0</td>\n",
       "      <td>-1.0</td>\n",
       "      <td>-1.0</td>\n",
       "      <td>563289238376948</td>\n",
       "    </tr>\n",
       "  </tbody>\n",
       "</table>\n",
       "<p>5 rows × 24 columns</p>\n",
       "</div>"
      ],
      "text/plain": [
       "   id_familia  id_pessoa  cod_sexo_pessoa  idade  cod_parentesco_rf_pessoa  \\\n",
       "2     4736936     368407                1     17                         3   \n",
       "3     4736936    6711807                2     15                         3   \n",
       "4     4736936    9879138                2     44                         1   \n",
       "5     2562870    1032042                2     38                         1   \n",
       "6     2562870    4996944                1      5                         3   \n",
       "\n",
       "   cod_raca_cor_pessoa  cod_local_nascimento_pessoa  \\\n",
       "2                  4.0                          2.0   \n",
       "3                  4.0                          2.0   \n",
       "4                  4.0                          2.0   \n",
       "5                  4.0                          1.0   \n",
       "6                  4.0                          1.0   \n",
       "\n",
       "   cod_certidao_registrada_pessoa  cod_deficiencia_memb  \\\n",
       "2                               1                     2   \n",
       "3                               1                     2   \n",
       "4                               1                     2   \n",
       "5                               1                     2   \n",
       "6                               1                     1   \n",
       "\n",
       "   cod_sabe_ler_escrever_memb  ...  cod_curso_frequentou_pessoa_memb  \\\n",
       "2                         1.0  ...                              -1.0   \n",
       "3                         1.0  ...                              -1.0   \n",
       "4                         2.0  ...                              -1.0   \n",
       "5                         1.0  ...                              12.0   \n",
       "6                         2.0  ...                              -1.0   \n",
       "\n",
       "   cod_ano_serie_frequentou_memb  cod_concluiu_frequentou_memb  \\\n",
       "2                           -1.0                          -1.0   \n",
       "3                           -1.0                          -1.0   \n",
       "4                           -1.0                          -1.0   \n",
       "5                           -1.0                          -1.0   \n",
       "6                           -1.0                          -1.0   \n",
       "\n",
       "   cod_trabalhou_memb  cod_afastado_trab_memb  cod_agricultura_trab_memb  \\\n",
       "2                 2.0                     2.0                       -1.0   \n",
       "3                 2.0                     2.0                       -1.0   \n",
       "4                 1.0                    -1.0                        2.0   \n",
       "5                 2.0                     2.0                       -1.0   \n",
       "6                -1.0                    -1.0                       -1.0   \n",
       "\n",
       "   cod_principal_trab_memb  cod_trabalho_12_meses_memb  \\\n",
       "2                     -1.0                         2.0   \n",
       "3                     -1.0                         2.0   \n",
       "4                      1.0                         1.0   \n",
       "5                     -1.0                         2.0   \n",
       "6                     -1.0                        -1.0   \n",
       "\n",
       "   qtd_meses_12_meses_memb         peso.pes  \n",
       "2                     -1.0  563277363244442  \n",
       "3                     -1.0  563277363244442  \n",
       "4                      9.0  563277363244442  \n",
       "5                     -1.0  563289238376948  \n",
       "6                     -1.0  563289238376948  \n",
       "\n",
       "[5 rows x 24 columns]"
      ]
     },
     "execution_count": 47,
     "metadata": {},
     "output_type": "execute_result"
    }
   ],
   "source": [
    "df_pessoas_final_balanceado.head()"
   ]
  },
  {
   "cell_type": "code",
   "execution_count": 48,
   "id": "7844e725-8f67-4ebc-83af-e8e9bbc8417b",
   "metadata": {
    "tags": []
   },
   "outputs": [
    {
     "data": {
      "text/html": [
       "<div>\n",
       "<style scoped>\n",
       "    .dataframe tbody tr th:only-of-type {\n",
       "        vertical-align: middle;\n",
       "    }\n",
       "\n",
       "    .dataframe tbody tr th {\n",
       "        vertical-align: top;\n",
       "    }\n",
       "\n",
       "    .dataframe thead th {\n",
       "        text-align: right;\n",
       "    }\n",
       "</style>\n",
       "<table border=\"1\" class=\"dataframe\">\n",
       "  <thead>\n",
       "    <tr style=\"text-align: right;\">\n",
       "      <th></th>\n",
       "      <th>cd_ibge</th>\n",
       "      <th>uf_ibge</th>\n",
       "      <th>regiao_ibge</th>\n",
       "      <th>estrato</th>\n",
       "      <th>classf</th>\n",
       "      <th>id_familia</th>\n",
       "      <th>vlr_renda_media_fam</th>\n",
       "      <th>cod_local_domic_fam</th>\n",
       "      <th>cod_especie_domic_fam</th>\n",
       "      <th>qtd_comodos_domic_fam</th>\n",
       "      <th>...</th>\n",
       "      <th>cod_iluminacao_domic_fam</th>\n",
       "      <th>cod_calcamento_domic_fam</th>\n",
       "      <th>cod_familia_indigena_fam</th>\n",
       "      <th>ind_familia_quilombola_fam</th>\n",
       "      <th>ind_parc_mds_fam</th>\n",
       "      <th>qtde_pessoas</th>\n",
       "      <th>peso.fam</th>\n",
       "      <th>dias_cadastramento</th>\n",
       "      <th>dias_atualizacao</th>\n",
       "      <th>classe_renda</th>\n",
       "    </tr>\n",
       "  </thead>\n",
       "  <tbody>\n",
       "    <tr>\n",
       "      <th>2</th>\n",
       "      <td>1501402</td>\n",
       "      <td>15</td>\n",
       "      <td>1</td>\n",
       "      <td>2</td>\n",
       "      <td>1</td>\n",
       "      <td>4736936</td>\n",
       "      <td>40.0</td>\n",
       "      <td>1.0</td>\n",
       "      <td>1.0</td>\n",
       "      <td>2.0</td>\n",
       "      <td>...</td>\n",
       "      <td>1.0</td>\n",
       "      <td>3.0</td>\n",
       "      <td>2.0</td>\n",
       "      <td>2.0</td>\n",
       "      <td>0.0</td>\n",
       "      <td>3</td>\n",
       "      <td>550249924045052</td>\n",
       "      <td>3290.0</td>\n",
       "      <td>510</td>\n",
       "      <td>0</td>\n",
       "    </tr>\n",
       "    <tr>\n",
       "      <th>5</th>\n",
       "      <td>1304062</td>\n",
       "      <td>13</td>\n",
       "      <td>1</td>\n",
       "      <td>2</td>\n",
       "      <td>3</td>\n",
       "      <td>2562870</td>\n",
       "      <td>119.0</td>\n",
       "      <td>1.0</td>\n",
       "      <td>1.0</td>\n",
       "      <td>4.0</td>\n",
       "      <td>...</td>\n",
       "      <td>1.0</td>\n",
       "      <td>1.0</td>\n",
       "      <td>2.0</td>\n",
       "      <td>2.0</td>\n",
       "      <td>0.0</td>\n",
       "      <td>8</td>\n",
       "      <td>550341300174477</td>\n",
       "      <td>1774.0</td>\n",
       "      <td>101</td>\n",
       "      <td>0</td>\n",
       "    </tr>\n",
       "    <tr>\n",
       "      <th>13</th>\n",
       "      <td>2927507</td>\n",
       "      <td>29</td>\n",
       "      <td>2</td>\n",
       "      <td>2</td>\n",
       "      <td>3</td>\n",
       "      <td>1843654</td>\n",
       "      <td>100.0</td>\n",
       "      <td>2.0</td>\n",
       "      <td>1.0</td>\n",
       "      <td>4.0</td>\n",
       "      <td>...</td>\n",
       "      <td>1.0</td>\n",
       "      <td>3.0</td>\n",
       "      <td>2.0</td>\n",
       "      <td>2.0</td>\n",
       "      <td>205.0</td>\n",
       "      <td>2</td>\n",
       "      <td>550080537274825</td>\n",
       "      <td>1966.0</td>\n",
       "      <td>598</td>\n",
       "      <td>0</td>\n",
       "    </tr>\n",
       "    <tr>\n",
       "      <th>15</th>\n",
       "      <td>2804607</td>\n",
       "      <td>28</td>\n",
       "      <td>2</td>\n",
       "      <td>2</td>\n",
       "      <td>3</td>\n",
       "      <td>1946851</td>\n",
       "      <td>60.0</td>\n",
       "      <td>2.0</td>\n",
       "      <td>1.0</td>\n",
       "      <td>5.0</td>\n",
       "      <td>...</td>\n",
       "      <td>1.0</td>\n",
       "      <td>3.0</td>\n",
       "      <td>2.0</td>\n",
       "      <td>2.0</td>\n",
       "      <td>0.0</td>\n",
       "      <td>2</td>\n",
       "      <td>550397469252923</td>\n",
       "      <td>812.0</td>\n",
       "      <td>285</td>\n",
       "      <td>0</td>\n",
       "    </tr>\n",
       "    <tr>\n",
       "      <th>17</th>\n",
       "      <td>3301009</td>\n",
       "      <td>33</td>\n",
       "      <td>3</td>\n",
       "      <td>2</td>\n",
       "      <td>3</td>\n",
       "      <td>4194650</td>\n",
       "      <td>44.0</td>\n",
       "      <td>1.0</td>\n",
       "      <td>1.0</td>\n",
       "      <td>5.0</td>\n",
       "      <td>...</td>\n",
       "      <td>1.0</td>\n",
       "      <td>1.0</td>\n",
       "      <td>2.0</td>\n",
       "      <td>2.0</td>\n",
       "      <td>0.0</td>\n",
       "      <td>3</td>\n",
       "      <td>550237185178733</td>\n",
       "      <td>5772.0</td>\n",
       "      <td>591</td>\n",
       "      <td>0</td>\n",
       "    </tr>\n",
       "  </tbody>\n",
       "</table>\n",
       "<p>5 rows × 28 columns</p>\n",
       "</div>"
      ],
      "text/plain": [
       "    cd_ibge  uf_ibge  regiao_ibge  estrato  classf  id_familia  \\\n",
       "2   1501402       15            1        2       1     4736936   \n",
       "5   1304062       13            1        2       3     2562870   \n",
       "13  2927507       29            2        2       3     1843654   \n",
       "15  2804607       28            2        2       3     1946851   \n",
       "17  3301009       33            3        2       3     4194650   \n",
       "\n",
       "    vlr_renda_media_fam  cod_local_domic_fam  cod_especie_domic_fam  \\\n",
       "2                  40.0                  1.0                    1.0   \n",
       "5                 119.0                  1.0                    1.0   \n",
       "13                100.0                  2.0                    1.0   \n",
       "15                 60.0                  2.0                    1.0   \n",
       "17                 44.0                  1.0                    1.0   \n",
       "\n",
       "    qtd_comodos_domic_fam  ...  cod_iluminacao_domic_fam  \\\n",
       "2                     2.0  ...                       1.0   \n",
       "5                     4.0  ...                       1.0   \n",
       "13                    4.0  ...                       1.0   \n",
       "15                    5.0  ...                       1.0   \n",
       "17                    5.0  ...                       1.0   \n",
       "\n",
       "    cod_calcamento_domic_fam  cod_familia_indigena_fam  \\\n",
       "2                        3.0                       2.0   \n",
       "5                        1.0                       2.0   \n",
       "13                       3.0                       2.0   \n",
       "15                       3.0                       2.0   \n",
       "17                       1.0                       2.0   \n",
       "\n",
       "    ind_familia_quilombola_fam  ind_parc_mds_fam  qtde_pessoas  \\\n",
       "2                          2.0               0.0             3   \n",
       "5                          2.0               0.0             8   \n",
       "13                         2.0             205.0             2   \n",
       "15                         2.0               0.0             2   \n",
       "17                         2.0               0.0             3   \n",
       "\n",
       "           peso.fam  dias_cadastramento  dias_atualizacao  classe_renda  \n",
       "2   550249924045052              3290.0               510             0  \n",
       "5   550341300174477              1774.0               101             0  \n",
       "13  550080537274825              1966.0               598             0  \n",
       "15  550397469252923               812.0               285             0  \n",
       "17  550237185178733              5772.0               591             0  \n",
       "\n",
       "[5 rows x 28 columns]"
      ]
     },
     "execution_count": 48,
     "metadata": {},
     "output_type": "execute_result"
    }
   ],
   "source": [
    "df_familia_final_balanceado.head()"
   ]
  },
  {
   "cell_type": "code",
   "execution_count": 49,
   "id": "3439fe1c-b4ff-4577-b369-47f65f1b55b4",
   "metadata": {
    "tags": []
   },
   "outputs": [
    {
     "data": {
      "text/plain": [
       "(96792, 28)"
      ]
     },
     "execution_count": 49,
     "metadata": {},
     "output_type": "execute_result"
    }
   ],
   "source": [
    "df_familia_final_balanceado.shape"
   ]
  },
  {
   "cell_type": "code",
   "execution_count": 50,
   "id": "7ab9ca7d-36f0-4097-b0a4-bf4656fbe440",
   "metadata": {
    "tags": []
   },
   "outputs": [
    {
     "name": "stdout",
     "output_type": "stream",
     "text": [
      "Não existem IDs de familia repetidos.\n"
     ]
    }
   ],
   "source": [
    "# Identificar IDs de familia que se repetem\n",
    "ids_repetidos = df_familia_final_balanceado['id_familia'][df_familia_final_balanceado['id_familia'].duplicated()]\n",
    "\n",
    "# Verificar se existem IDs repetidos e exibir o resultado\n",
    "if not ids_repetidos.empty:\n",
    "    print(f'Existem IDs de familia repetidos. Os IDs repetidos são:\\n{ids_repetidos}')\n",
    "else:\n",
    "    print('Não existem IDs de familia repetidos.')"
   ]
  },
  {
   "cell_type": "code",
   "execution_count": 51,
   "id": "657bf370-30d1-4044-9d84-aa4a1dc59992",
   "metadata": {
    "tags": []
   },
   "outputs": [
    {
     "data": {
      "text/html": [
       "<div>\n",
       "<style scoped>\n",
       "    .dataframe tbody tr th:only-of-type {\n",
       "        vertical-align: middle;\n",
       "    }\n",
       "\n",
       "    .dataframe tbody tr th {\n",
       "        vertical-align: top;\n",
       "    }\n",
       "\n",
       "    .dataframe thead th {\n",
       "        text-align: right;\n",
       "    }\n",
       "</style>\n",
       "<table border=\"1\" class=\"dataframe\">\n",
       "  <thead>\n",
       "    <tr style=\"text-align: right;\">\n",
       "      <th></th>\n",
       "      <th>cd_ibge</th>\n",
       "      <th>uf_ibge</th>\n",
       "      <th>regiao_ibge</th>\n",
       "      <th>estrato</th>\n",
       "      <th>classf</th>\n",
       "      <th>id_familia</th>\n",
       "      <th>vlr_renda_media_fam</th>\n",
       "      <th>cod_local_domic_fam</th>\n",
       "      <th>cod_especie_domic_fam</th>\n",
       "      <th>qtd_comodos_domic_fam</th>\n",
       "      <th>...</th>\n",
       "      <th>cod_iluminacao_domic_fam</th>\n",
       "      <th>cod_calcamento_domic_fam</th>\n",
       "      <th>cod_familia_indigena_fam</th>\n",
       "      <th>ind_familia_quilombola_fam</th>\n",
       "      <th>ind_parc_mds_fam</th>\n",
       "      <th>qtde_pessoas</th>\n",
       "      <th>peso.fam</th>\n",
       "      <th>dias_cadastramento</th>\n",
       "      <th>dias_atualizacao</th>\n",
       "      <th>classe_renda</th>\n",
       "    </tr>\n",
       "  </thead>\n",
       "  <tbody>\n",
       "  </tbody>\n",
       "</table>\n",
       "<p>0 rows × 28 columns</p>\n",
       "</div>"
      ],
      "text/plain": [
       "Empty DataFrame\n",
       "Columns: [cd_ibge, uf_ibge, regiao_ibge, estrato, classf, id_familia, vlr_renda_media_fam, cod_local_domic_fam, cod_especie_domic_fam, qtd_comodos_domic_fam, qtd_comodos_dormitorio_fam, cod_material_piso_fam, cod_material_domic_fam, cod_agua_canalizada_fam, cod_abaste_agua_domic_fam, cod_banheiro_domic_fam, cod_escoa_sanitario_domic_fam, cod_destino_lixo_domic_fam, cod_iluminacao_domic_fam, cod_calcamento_domic_fam, cod_familia_indigena_fam, ind_familia_quilombola_fam, ind_parc_mds_fam, qtde_pessoas, peso.fam, dias_cadastramento, dias_atualizacao, classe_renda]\n",
       "Index: []\n",
       "\n",
       "[0 rows x 28 columns]"
      ]
     },
     "execution_count": 51,
     "metadata": {},
     "output_type": "execute_result"
    }
   ],
   "source": [
    "# 1. Identificar os IDs de família que se repetem\n",
    "familias_repetidas = df_familia_final_balanceado['id_familia'][df_familia_final_balanceado['id_familia'].duplicated(keep=False)]\n",
    "\n",
    "# 2. Filtrar o dataframe para mostrar todas as colunas dos casos de famílias repetidas\n",
    "casos_familias_repetidas = df_familia_final_balanceado[df_familia_final_balanceado['id_familia'].isin(familias_repetidas)]\n",
    "\n",
    "# 3. Exibir o resultado (todas as colunas dos casos repetidos)\n",
    "casos_familias_repetidas.head()\n"
   ]
  },
  {
   "cell_type": "code",
   "execution_count": 52,
   "id": "a5ef63b3-52ea-4c39-ae79-4ee012e57186",
   "metadata": {
    "tags": []
   },
   "outputs": [
    {
     "name": "stdout",
     "output_type": "stream",
     "text": [
      "Número de famílias no dataframe final: 96792\n"
     ]
    }
   ],
   "source": [
    "# Ajuste para garantir que cada 'id_familia' apareça apenas uma vez no df_familia_final\n",
    "\n",
    "# 1. Listar as colunas que queremos manter de cada dataframe original\n",
    "colunas_pessoas = df_pessoas_amostra_100mil_limpa_balanceado.columns.tolist()\n",
    "colunas_familia = df_fam_amostra_100mil_limpa_balanceado.columns.tolist()\n",
    "\n",
    "# 2. Criar um dataframe para as pessoas a partir da base limpa, mantendo apenas as colunas desejadas\n",
    "df_pessoas_final = df_fam_pessoas_amostra_100mil_limpa_balanceado[colunas_pessoas]\n",
    "\n",
    "# 3. Criar um dataframe para as famílias a partir da base limpa, mantendo apenas as colunas desejadas\n",
    "# Utilizar drop_duplicates para garantir que cada 'id_familia' apareça apenas uma vez\n",
    "df_familia_final = df_fam_pessoas_amostra_100mil_limpa_balanceado[colunas_familia].drop_duplicates(subset=['id_familia'])\n",
    "\n",
    "# Exibir o número de linhas restantes após a remoção de duplicados\n",
    "print(f\"Número de famílias no dataframe final: {df_familia_final.shape[0]}\")\n",
    "\n"
   ]
  },
  {
   "cell_type": "code",
   "execution_count": 53,
   "id": "d6af1190-3773-4df8-99cc-b171da1bc771",
   "metadata": {
    "tags": []
   },
   "outputs": [
    {
     "name": "stdout",
     "output_type": "stream",
     "text": [
      "Não existem IDs de pessoa repetidos.\n"
     ]
    }
   ],
   "source": [
    "# Identificar IDs de pessoa que se repetem\n",
    "ids_repetidos = df_pessoas_final_balanceado['id_pessoa'][df_pessoas_final_balanceado['id_pessoa'].duplicated()]\n",
    "\n",
    "# Verificar se existem IDs repetidos e exibir o resultado\n",
    "if not ids_repetidos.empty:\n",
    "    print(f'Existem IDs de pessoa repetidos. Os IDs repetidos são:\\n{ids_repetidos}')\n",
    "else:\n",
    "    print('Não existem IDs de pessoa repetidos.')"
   ]
  },
  {
   "cell_type": "code",
   "execution_count": 54,
   "id": "bf728238-d1a0-48ec-ba7e-207acad5685d",
   "metadata": {
    "tags": []
   },
   "outputs": [
    {
     "name": "stdout",
     "output_type": "stream",
     "text": [
      "Número de pessoas no dataframe final: 238402\n"
     ]
    }
   ],
   "source": [
    "# Exibir o número de linhas restantes após a limpeza da base de pessoas\n",
    "print(f\"Número de pessoas no dataframe final: {df_pessoas_final.shape[0]}\")"
   ]
  },
  {
   "cell_type": "code",
   "execution_count": 55,
   "id": "71f67841-6103-4c67-b0e6-e282b9432062",
   "metadata": {
    "tags": []
   },
   "outputs": [
    {
     "name": "stdout",
     "output_type": "stream",
     "text": [
      "Não existem IDs de familia repetidos.\n"
     ]
    }
   ],
   "source": [
    "# Identificar IDs de familia que se repetem\n",
    "ids_repetidos = df_familia_final_balanceado['id_familia'][df_familia_final_balanceado['id_familia'].duplicated()]\n",
    "\n",
    "# Verificar se existem IDs repetidos e exibir o resultado\n",
    "if not ids_repetidos.empty:\n",
    "    print(f'Existem IDs de familia repetidos. Os IDs repetidos são:\\n{ids_repetidos}')\n",
    "else:\n",
    "    print('Não existem IDs de familia repetidos.')"
   ]
  },
  {
   "cell_type": "code",
   "execution_count": 56,
   "id": "5c5eac4d-96c9-4128-b3da-bf3ec5f27272",
   "metadata": {
    "tags": []
   },
   "outputs": [],
   "source": [
    "# Salvar o dataframe df_pessoas_amostra_100mil_limpa em um arquivo CSV com o nome desejado\n",
    "df_fam_pessoas_amostra_100mil_limpa_balanceado.to_csv('../Data_balanceado/df_familia_pessoa_final_balanceado.csv', index=False)"
   ]
  },
  {
   "cell_type": "code",
   "execution_count": 57,
   "id": "dfb04990-f3e8-4fa9-8a07-ecd053b9030f",
   "metadata": {
    "tags": []
   },
   "outputs": [],
   "source": [
    "# Salvando os arquivos finais de df_familia_final e df_pessoa_final\n",
    "df_familia_final_balanceado.to_csv('../Data_balanceado/df_familia_final_balanceado.csv', index=False)\n",
    "df_pessoas_final_balanceado.to_csv('../Data_balanceado/df_pessoas_final_balanceado.csv', index=False)"
   ]
  },
  {
   "cell_type": "code",
   "execution_count": 58,
   "id": "c13ca8e0-534a-4ba4-992c-d6c54b448b38",
   "metadata": {},
   "outputs": [
    {
     "data": {
      "text/plain": [
       "(96792, 28)"
      ]
     },
     "execution_count": 58,
     "metadata": {},
     "output_type": "execute_result"
    }
   ],
   "source": [
    "df_familia_final_balanceado.shape"
   ]
  },
  {
   "cell_type": "code",
   "execution_count": 59,
   "id": "2a5d1738-d56c-45bb-95b0-63874320eef0",
   "metadata": {
    "tags": []
   },
   "outputs": [
    {
     "data": {
      "text/plain": [
       "(238402, 51)"
      ]
     },
     "execution_count": 59,
     "metadata": {},
     "output_type": "execute_result"
    }
   ],
   "source": [
    "df_fam_pessoas_amostra_100mil_limpa_balanceado.shape"
   ]
  },
  {
   "cell_type": "code",
   "execution_count": null,
   "id": "477908a5-9fac-4f24-9bb6-0bdcf1ec1ceb",
   "metadata": {},
   "outputs": [],
   "source": []
  }
 ],
 "metadata": {
  "kernelspec": {
   "display_name": "Python 3 (ipykernel)",
   "language": "python",
   "name": "python3"
  },
  "language_info": {
   "codemirror_mode": {
    "name": "ipython",
    "version": 3
   },
   "file_extension": ".py",
   "mimetype": "text/x-python",
   "name": "python",
   "nbconvert_exporter": "python",
   "pygments_lexer": "ipython3",
   "version": "3.11.4"
  }
 },
 "nbformat": 4,
 "nbformat_minor": 5
}
